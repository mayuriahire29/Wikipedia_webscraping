{
 "cells": [
  {
   "cell_type": "code",
   "execution_count": 1,
   "id": "6b546fce",
   "metadata": {},
   "outputs": [
    {
     "name": "stdout",
     "output_type": "stream",
     "text": [
      "Requirement already satisfied: requests in c:\\users\\mayuri ahire\\anaconda3\\lib\\site-packages (2.31.0)\n",
      "Requirement already satisfied: bs4 in c:\\users\\mayuri ahire\\anaconda3\\lib\\site-packages (0.0.2)\n",
      "Requirement already satisfied: charset-normalizer<4,>=2 in c:\\users\\mayuri ahire\\anaconda3\\lib\\site-packages (from requests) (2.0.4)\n",
      "Requirement already satisfied: idna<4,>=2.5 in c:\\users\\mayuri ahire\\anaconda3\\lib\\site-packages (from requests) (3.4)\n",
      "Requirement already satisfied: urllib3<3,>=1.21.1 in c:\\users\\mayuri ahire\\anaconda3\\lib\\site-packages (from requests) (1.26.16)\n",
      "Requirement already satisfied: certifi>=2017.4.17 in c:\\users\\mayuri ahire\\anaconda3\\lib\\site-packages (from requests) (2023.7.22)\n",
      "Requirement already satisfied: beautifulsoup4 in c:\\users\\mayuri ahire\\anaconda3\\lib\\site-packages (from bs4) (4.12.2)\n",
      "Requirement already satisfied: soupsieve>1.2 in c:\\users\\mayuri ahire\\anaconda3\\lib\\site-packages (from beautifulsoup4->bs4) (2.4)\n",
      "Note: you may need to restart the kernel to use updated packages.\n"
     ]
    }
   ],
   "source": [
    "%pip install requests bs4"
   ]
  },
  {
   "cell_type": "code",
   "execution_count": 2,
   "id": "13c15946",
   "metadata": {},
   "outputs": [],
   "source": [
    "import requests"
   ]
  },
  {
   "cell_type": "code",
   "execution_count": 3,
   "id": "07388c04",
   "metadata": {},
   "outputs": [],
   "source": [
    "from bs4 import BeautifulSoup"
   ]
  },
  {
   "cell_type": "code",
   "execution_count": 4,
   "id": "fd6d9677",
   "metadata": {},
   "outputs": [
    {
     "data": {
      "text/plain": [
       "<Response [200]>"
      ]
     },
     "execution_count": 4,
     "metadata": {},
     "output_type": "execute_result"
    }
   ],
   "source": [
    "response=requests.get(\"https://en.wikipedia.org/wiki/World_population\")\n",
    "response"
   ]
  },
  {
   "cell_type": "code",
   "execution_count": 6,
   "id": "12f5ff45",
   "metadata": {},
   "outputs": [
    {
     "data": {
      "text/plain": [
       "b'<!DOCTYPE html>\\n<html class=\"client-nojs vector-feature-language-in-header-enabled vector-feature-language-in-main-page-header-disabled vector-feature-sticky-header-disabled vector-feature-page-tools-pinned-disabled vector-feature-toc-pinned-clientpref-1 vector-feature-main-menu-pinned-disabled vector-feature-limited-width-clientpref-1 vector-feature-limited-width-content-enabled vector-feature-custom-font-size-clientpref-0 vector-feature-appearance-disabled vector-feature-appearance-pinned-clie'"
      ]
     },
     "execution_count": 6,
     "metadata": {},
     "output_type": "execute_result"
    }
   ],
   "source": [
    "data=response.content\n",
    "data[:500]"
   ]
  },
  {
   "cell_type": "code",
   "execution_count": 7,
   "id": "c163641c",
   "metadata": {},
   "outputs": [],
   "source": [
    "bs=BeautifulSoup(data)"
   ]
  },
  {
   "cell_type": "markdown",
   "id": "995f089b",
   "metadata": {},
   "source": [
    "# Get the webpage title"
   ]
  },
  {
   "cell_type": "code",
   "execution_count": 8,
   "id": "8dc7bd01",
   "metadata": {},
   "outputs": [
    {
     "data": {
      "text/plain": [
       "<h1 class=\"firstHeading mw-first-heading\" id=\"firstHeading\"><span class=\"mw-page-title-main\">World population</span></h1>"
      ]
     },
     "execution_count": 8,
     "metadata": {},
     "output_type": "execute_result"
    }
   ],
   "source": [
    "a_title=bs.find(\"h1\")\n",
    "a_title"
   ]
  },
  {
   "cell_type": "code",
   "execution_count": 9,
   "id": "fa783814",
   "metadata": {},
   "outputs": [
    {
     "data": {
      "text/plain": [
       "'World population'"
      ]
     },
     "execution_count": 9,
     "metadata": {},
     "output_type": "execute_result"
    }
   ],
   "source": [
    "a_title.text"
   ]
  },
  {
   "cell_type": "markdown",
   "id": "e819f754",
   "metadata": {},
   "source": [
    "# Getting the subtitles from the webpage"
   ]
  },
  {
   "cell_type": "code",
   "execution_count": 11,
   "id": "0f5b723e",
   "metadata": {},
   "outputs": [
    {
     "data": {
      "text/plain": [
       "'Global demographics'"
      ]
     },
     "execution_count": 11,
     "metadata": {},
     "output_type": "execute_result"
    }
   ],
   "source": [
    "h2_title=bs.find_all(\"h2\")\n",
    "h2_title[2].text"
   ]
  },
  {
   "cell_type": "code",
   "execution_count": 12,
   "id": "360c4b05",
   "metadata": {},
   "outputs": [
    {
     "data": {
      "text/plain": [
       "'Ancient and post-classical history'"
      ]
     },
     "execution_count": 12,
     "metadata": {},
     "output_type": "execute_result"
    }
   ],
   "source": [
    "sub_tags=bs.find_all('h3')\n",
    "sub_tags[0].text"
   ]
  },
  {
   "cell_type": "code",
   "execution_count": 13,
   "id": "7c302f9b",
   "metadata": {},
   "outputs": [
    {
     "data": {
      "text/plain": [
       "'Population by region'"
      ]
     },
     "execution_count": 13,
     "metadata": {},
     "output_type": "execute_result"
    }
   ],
   "source": [
    "sub_tags2=bs.find_all('span',class_=\"mw-headline\")\n",
    "sub_tags2[5].text"
   ]
  },
  {
   "cell_type": "code",
   "execution_count": 14,
   "id": "8a436f65",
   "metadata": {},
   "outputs": [
    {
     "data": {
      "text/plain": [
       "['History',\n",
       " 'Ancient and post-classical history',\n",
       " 'Modern history',\n",
       " 'Milestones by the billions',\n",
       " 'Global demographics',\n",
       " 'Population by region',\n",
       " 'Largest populations by country',\n",
       " 'Ten most populous countries',\n",
       " 'Most densely populated countries',\n",
       " 'Fluctuation',\n",
       " 'Annual population growth',\n",
       " 'Population growth by region',\n",
       " 'Past population',\n",
       " 'Projections',\n",
       " 'Mathematical approximations',\n",
       " 'Years for world population to double',\n",
       " 'Number of humans who have ever lived',\n",
       " 'Human population as a function of food availability',\n",
       " 'See also',\n",
       " 'Explanatory notes',\n",
       " 'References',\n",
       " 'Citations',\n",
       " 'General and cited sources',\n",
       " 'Further reading',\n",
       " 'External links']"
      ]
     },
     "execution_count": 14,
     "metadata": {},
     "output_type": "execute_result"
    }
   ],
   "source": [
    "sub_title=[]\n",
    "for i in sub_tags2:\n",
    "    sub_title.append(i.text)\n",
    "sub_title"
   ]
  },
  {
   "cell_type": "markdown",
   "id": "cd695753",
   "metadata": {},
   "source": [
    "# Getting text content from website"
   ]
  },
  {
   "cell_type": "code",
   "execution_count": 15,
   "id": "0aba60bd",
   "metadata": {},
   "outputs": [
    {
     "data": {
      "text/plain": [
       "[<p class=\"mw-empty-elt\">\n",
       " </p>,\n",
       " <p>In <a href=\"/wiki/Demographics_of_the_world\" title=\"Demographics of the world\">world demographics</a>, the <b>world population</b> is the total number of humans currently living. It was estimated by the United Nations to have exceeded eight billion in mid-November 2022. It took around 300,000 years of human <a href=\"/wiki/Prehistory\" title=\"Prehistory\">prehistory</a> and <a href=\"/wiki/Human_history\" title=\"Human history\">history</a> for the human population to reach a billion and only 222 years more to reach 8 billion.<sup class=\"reference\" id=\"cite_ref-:9_2-0\"><a href=\"#cite_note-:9-2\">[2]</a></sup>\n",
       " </p>,\n",
       " <p>The human population has experienced <a href=\"/wiki/Population_growth\" title=\"Population growth\">continuous growth</a> following the <a href=\"/wiki/Great_Famine_of_1315%E2%80%931317\" title=\"Great Famine of 1315–1317\">Great Famine of 1315–1317</a> and the end of the <a href=\"/wiki/Black_Death\" title=\"Black Death\">Black Death</a> in 1350, when it was nearly 370,000,000.<sup class=\"reference\" id=\"cite_ref-3\"><a href=\"#cite_note-3\">[3]</a></sup> The highest global <a href=\"/wiki/List_of_countries_by_population_growth_rate\" title=\"List of countries by population growth rate\">population growth rates</a>, with increases of over 1.8% per year, occurred between 1955 and 1975, peaking at 2.1% between 1965 and 1970.<sup class=\"reference\" id=\"cite_ref-:1_4-0\"><a href=\"#cite_note-:1-4\">[4]</a></sup> The growth rate declined to 1.1% between 2015 and 2020 and is projected to decline further in the 21st century.<sup class=\"reference\" id=\"cite_ref-:8_5-0\"><a href=\"#cite_note-:8-5\">[5]</a></sup> The global population is still increasing, but there is significant uncertainty about its long-term trajectory due to changing <a href=\"/wiki/Total_fertility_rate\" title=\"Total fertility rate\">fertility</a> and <a href=\"/wiki/Mortality_rate\" title=\"Mortality rate\">mortality</a> rates.<sup class=\"reference\" id=\"cite_ref-6\"><a href=\"#cite_note-6\">[6]</a></sup> The <a class=\"mw-redirect\" href=\"/wiki/UN_Department_of_Economics_and_Social_Affairs\" title=\"UN Department of Economics and Social Affairs\">UN Department of Economics and Social Affairs</a> projects between 9 and 10 billion people by 2050 and gives an 80% <a href=\"/wiki/Confidence_interval\" title=\"Confidence interval\">confidence interval</a> of 10–12 billion by the end of the 21st century,<sup class=\"reference\" id=\"cite_ref-:4_1-1\"><a href=\"#cite_note-:4-1\">[1]</a></sup> with a growth rate by then of zero. Other <a href=\"/wiki/Demography\" title=\"Demography\">demographers</a> predict that the human population will begin to decline in the second half of the 21st century.<sup class=\"reference\" id=\"cite_ref-7\"><a href=\"#cite_note-7\">[7]</a></sup>\n",
       " </p>,\n",
       " <p>The total number of births globally is currently (2015–2020) 140 million/year, which is projected to peak during the period 2040–2045 at 141 million/year and then decline slowly to 126 million/year by 2100.<sup class=\"reference\" id=\"cite_ref-:2_8-0\"><a href=\"#cite_note-:2-8\">[8]</a></sup> The total number of deaths is currently 57 million/year and is projected to grow steadily to 121 million/year by 2100.<sup class=\"reference\" id=\"cite_ref-:3_9-0\"><a href=\"#cite_note-:3-9\">[9]</a></sup>\n",
       " </p>,\n",
       " <p>The <a href=\"/wiki/Median\" title=\"Median\">median</a> <a class=\"mw-redirect\" href=\"/wiki/Median_age\" title=\"Median age\">age</a> of human beings as of 2020<sup class=\"plainlinks noexcerpt noprint asof-tag update\" style=\"display:none;\"><a class=\"external text\" href=\"https://en.wikipedia.org/w/index.php?title=World_population&amp;action=edit\">[update]</a></sup> is 31 years.<sup class=\"reference\" id=\"cite_ref-:0_10-0\"><a href=\"#cite_note-:0-10\">[10]</a></sup>\n",
       " </p>,\n",
       " <p>Estimates of world population by their nature are an aspect of <a href=\"/wiki/Modernity\" title=\"Modernity\">modernity</a>, possible only since the <a href=\"/wiki/Age_of_Discovery\" title=\"Age of Discovery\">Age of Discovery</a>. Early estimates for the population of the world<sup class=\"reference\" id=\"cite_ref-11\"><a href=\"#cite_note-11\">[11]</a></sup> date to the 17th century: <a href=\"/wiki/William_Petty\" title=\"William Petty\">William Petty</a>, in 1682, estimated the world population at 320 million (current estimates ranging close to twice this number); by the late 18th century, estimates ranged close to one billion (consistent with current estimates).<sup class=\"reference\" id=\"cite_ref-12\"><a href=\"#cite_note-12\">[12]</a></sup> More refined estimates, broken down by continents, were published in the first half of the 19th century, at 600 million to 1 billion in the early 1800s and 800 million to 1 billion in the 1840s.<sup class=\"reference\" id=\"cite_ref-13\"><a href=\"#cite_note-13\">[13]</a></sup>\n",
       " </p>,\n",
       " <p>It is difficult for estimates to be better than rough approximations, as even current population estimates are fraught with uncertainties from 3% to 5%.<sup class=\"reference\" id=\"cite_ref-Kapitza2_14-0\"><a href=\"#cite_note-Kapitza2-14\">[14]</a></sup>\n",
       " </p>,\n",
       " <p>Estimates of the population of the world at the time agriculture emerged in around 10,000 BC have ranged between 1 million and 15 million.<sup class=\"reference\" id=\"cite_ref-15\"><a href=\"#cite_note-15\">[15]</a></sup><sup class=\"reference\" id=\"cite_ref-16\"><a href=\"#cite_note-16\">[16]</a></sup> Even earlier, genetic evidence suggests humans may have gone through a population bottleneck of between 1,000 and 10,000 people about 70,000 BC, according to the now largely discredited <a href=\"/wiki/Toba_catastrophe_theory\" title=\"Toba catastrophe theory\">Toba catastrophe theory</a>. By contrast, it is estimated that around 50–60 million people lived in the combined eastern and western <a href=\"/wiki/Roman_Empire\" title=\"Roman Empire\">Roman Empire</a> in the 4th century AD.<sup class=\"reference\" id=\"cite_ref-17\"><a href=\"#cite_note-17\">[17]</a></sup>\n",
       " </p>,\n",
       " <p>The <a href=\"/wiki/Plague_of_Justinian\" title=\"Plague of Justinian\">Plague of Justinian</a> caused Europe's population to drop by around 50% between the 6th and 8th centuries AD.<sup class=\"reference\" id=\"cite_ref-18\"><a href=\"#cite_note-18\">[18]</a></sup> The population of Europe was more than 70 million in 1340.<sup class=\"reference\" id=\"cite_ref-19\"><a href=\"#cite_note-19\">[19]</a></sup> From 1340 to 1400, the world's population fell from an estimated 443 million to 350–375 million,<sup class=\"reference\" id=\"cite_ref-20\"><a href=\"#cite_note-20\">[20]</a></sup> with the <a href=\"/wiki/Indian_subcontinent\" title=\"Indian subcontinent\">Indian subcontinent</a> suffering the most tremendous loss and Europe suffering the <a href=\"/wiki/Black_Death\" title=\"Black Death\">Black Death</a> <a href=\"/wiki/Pandemic\" title=\"Pandemic\">pandemic</a>;<sup class=\"reference\" id=\"cite_ref-Essai_sur_l'évolution_du_nombre_des_hommes_21-0\"><a href=\"#cite_note-Essai_sur_l'évolution_du_nombre_des_hommes-21\">[21]</a></sup> it took 200 years for European population figures to recover.<sup class=\"reference\" id=\"cite_ref-22\"><a href=\"#cite_note-22\">[22]</a></sup> The population of China decreased from 123 million in 1200 to 65 million in 1393,<sup class=\"reference\" id=\"cite_ref-23\"><a href=\"#cite_note-23\">[23]</a></sup> presumably from a combination of <a href=\"/wiki/Mongol_Empire\" title=\"Mongol Empire\">Mongol</a> invasions, famine, and plague.<sup class=\"reference\" id=\"cite_ref-24\"><a href=\"#cite_note-24\">[24]</a></sup>\n",
       " </p>,\n",
       " <p>Starting in AD 2, the <a href=\"/wiki/Han_dynasty\" title=\"Han dynasty\">Han dynasty</a> of <a class=\"mw-redirect\" href=\"/wiki/Ancient_China\" title=\"Ancient China\">ancient China</a> kept consistent family registers to properly assess the poll taxes and labor service duties of each household.<sup class=\"reference\" id=\"cite_ref-nishijima_1986_pp595-96_25-0\"><a href=\"#cite_note-nishijima_1986_pp595-96-25\">[25]</a></sup> In that year, the population of <a class=\"mw-redirect\" href=\"/wiki/Western_Han\" title=\"Western Han\">Western Han</a> was recorded as 57,671,400 individuals in 12,366,470 households, decreasing to 47,566,772 individuals in 9,348,227 households by AD 146, towards the <a href=\"/wiki/End_of_the_Han_dynasty\" title=\"End of the Han dynasty\">end of the Han dynasty</a>.<sup class=\"reference\" id=\"cite_ref-nishijima_1986_pp595-96_25-1\"><a href=\"#cite_note-nishijima_1986_pp595-96-25\">[25]</a></sup> From 200 to 400, the world population fell from an estimated 257 million to 206 million, with China suffering the greatest loss.<sup class=\"reference\" id=\"cite_ref-Essai_sur_l'évolution_du_nombre_des_hommes_21-1\"><a href=\"#cite_note-Essai_sur_l'évolution_du_nombre_des_hommes-21\">[21]</a></sup> At the founding of the <a href=\"/wiki/Ming_dynasty\" title=\"Ming dynasty\">Ming dynasty</a> in 1368, China's population was reported to be close to 60 million; toward the end of the dynasty in 1644, it may have approached 150 million.<sup class=\"reference\" id=\"cite_ref-26\"><a href=\"#cite_note-26\">[26]</a></sup> England's population reached an estimated 5.6 million in 1650, up from an estimated 2.6 million in 1500.<sup class=\"reference\" id=\"cite_ref-27\"><a href=\"#cite_note-27\">[27]</a></sup> New crops that were brought to Asia and Europe from the Americas by Portuguese and Spanish colonists in the 16th century are believed to have contributed to population growth.<sup class=\"reference\" id=\"cite_ref-28\"><a href=\"#cite_note-28\">[28]</a></sup><sup class=\"reference\" id=\"cite_ref-29\"><a href=\"#cite_note-29\">[29]</a></sup><sup class=\"reference\" id=\"cite_ref-30\"><a href=\"#cite_note-30\">[30]</a></sup> Since their introduction to Africa by Portuguese traders in the 16th century,<sup class=\"reference\" id=\"cite_ref-31\"><a href=\"#cite_note-31\">[31]</a></sup> maize and <a href=\"/wiki/Cassava\" title=\"Cassava\">cassava</a> have similarly replaced traditional African crops as the most important <a href=\"/wiki/Staple_food\" title=\"Staple food\">staple food</a> crops grown on the continent.<sup class=\"reference\" id=\"cite_ref-32\"><a href=\"#cite_note-32\">[32]</a></sup>\n",
       " </p>,\n",
       " <p>The <a href=\"/wiki/Pre-Columbian_era\" title=\"Pre-Columbian era\">pre-Columbian</a> population of the Americas is uncertain; historian David Henige called it \"the most unanswerable question in the world.\"<sup class=\"reference\" id=\"cite_ref-33\"><a href=\"#cite_note-33\">[33]</a></sup> By the end of the 20th century, scholarly consensus favored an estimate of roughly 55 million people, but numbers from various sources have ranged from 10 million to 100 million.<sup class=\"reference\" id=\"cite_ref-34\"><a href=\"#cite_note-34\">[34]</a></sup> Encounters between European explorers and populations in the rest of the world often introduced local <a class=\"mw-redirect\" href=\"/wiki/List_of_epidemics\" title=\"List of epidemics\">epidemics</a> of extraordinary virulence.<sup class=\"reference\" id=\"cite_ref-35\"><a href=\"#cite_note-35\">[35]</a></sup> According to the most extreme scholarly claims, as many as 90% of the <a class=\"mw-redirect\" href=\"/wiki/Population_history_of_indigenous_peoples_of_the_Americas\" title=\"Population history of indigenous peoples of the Americas\">Native American population</a> of the <a href=\"/wiki/New_World\" title=\"New World\">New World</a> died of <a href=\"/wiki/Old_World\" title=\"Old World\">Old World</a> diseases such as <a href=\"/wiki/Smallpox\" title=\"Smallpox\">smallpox</a>, <a href=\"/wiki/Measles\" title=\"Measles\">measles</a>, and <a href=\"/wiki/Influenza\" title=\"Influenza\">influenza</a>.<sup class=\"reference\" id=\"cite_ref-36\"><a href=\"#cite_note-36\">[36]</a></sup> Over the centuries, the Europeans had developed high degrees of immunity to these diseases, while the indigenous peoples had no such immunity.<sup class=\"reference\" id=\"cite_ref-37\"><a href=\"#cite_note-37\">[37]</a></sup>\n",
       " </p>,\n",
       " <p>During the European <a href=\"/wiki/British_Agricultural_Revolution\" title=\"British Agricultural Revolution\">Agricultural</a> and <a href=\"/wiki/Industrial_Revolution\" title=\"Industrial Revolution\">Industrial Revolutions</a>, the <a href=\"/wiki/Life_expectancy\" title=\"Life expectancy\">life expectancy</a> of children increased dramatically.<sup class=\"reference\" id=\"cite_ref-40\"><a href=\"#cite_note-40\">[40]</a></sup> The percentage of the children born in London who <a href=\"/wiki/Infant_mortality\" title=\"Infant mortality\">died before the age of five</a> decreased from 74.5% in 1730–1749 to 31.8% in 1810–1829.<sup class=\"reference\" id=\"cite_ref-Buer_41-0\"><a href=\"#cite_note-Buer-41\">[41]</a></sup><sup class=\"reference\" id=\"cite_ref-42\"><a href=\"#cite_note-42\">[42]</a></sup> Between 1700 and 1900, Europe's population increased from about 100 million to over 400 million.<sup class=\"reference\" id=\"cite_ref-43\"><a href=\"#cite_note-43\">[43]</a></sup> Altogether, the areas populated by people of European descent comprised 36% of the world's population in 1900.<sup class=\"reference\" id=\"cite_ref-44\"><a href=\"#cite_note-44\">[44]</a></sup>\n",
       " </p>,\n",
       " <p>Population growth in the Western world became more rapid after the introduction of <a href=\"/wiki/Vaccination\" title=\"Vaccination\">vaccination</a> and other improvements in medicine and <a href=\"/wiki/Sanitation\" title=\"Sanitation\">sanitation</a>.<sup class=\"reference\" id=\"cite_ref-45\"><a href=\"#cite_note-45\">[45]</a></sup> Improved material conditions led to the population of Britain increasing from 10 million to 40 million in the 19th century.<sup class=\"reference\" id=\"cite_ref-46\"><a href=\"#cite_note-46\">[46]</a></sup> The population of the United Kingdom reached 60 million in 2006.<sup class=\"reference\" id=\"cite_ref-47\"><a href=\"#cite_note-47\">[47]</a></sup> The United States saw its population grow from around 5.3 million in 1800 to 106 million in 1920, exceeding 307 million in 2010.<sup class=\"reference\" id=\"cite_ref-48\"><a href=\"#cite_note-48\">[48]</a></sup>\n",
       " </p>,\n",
       " <p>The first half of the 20th century in <a href=\"/wiki/Russian_Empire\" title=\"Russian Empire\">Imperial Russia</a> and the <a href=\"/wiki/Soviet_Union\" title=\"Soviet Union\">Soviet Union</a> was marked by a succession of major wars, <a href=\"/wiki/Famine\" title=\"Famine\">famines</a> and other disasters which caused large-scale population losses (approximately 60 million excess deaths).<sup class=\"reference\" id=\"cite_ref-49\"><a href=\"#cite_note-49\">[49]</a></sup><sup class=\"reference\" id=\"cite_ref-50\"><a href=\"#cite_note-50\">[50]</a></sup> After the collapse of the Soviet Union, Russia's population declined significantly – from 150 million in 1991 to 143 million in 2012<sup class=\"reference\" id=\"cite_ref-51\"><a href=\"#cite_note-51\">[51]</a></sup> – but by 2013 this decline appeared to have halted.<sup class=\"reference\" id=\"cite_ref-52\"><a href=\"#cite_note-52\">[52]</a></sup>\n",
       " </p>,\n",
       " <p>Many countries in the <a class=\"mw-redirect\" href=\"/wiki/Developing_world\" title=\"Developing world\">developing world</a> have experienced extremely rapid population growth since the early 20th century, due to economic development and improvements in public health. China's population rose from approximately 430 million in 1850 to 580 million in 1953,<sup class=\"reference\" id=\"cite_ref-53\"><a href=\"#cite_note-53\">[53]</a></sup> and now stands at over 1.3 billion. The population of the <a href=\"/wiki/Indian_subcontinent\" title=\"Indian subcontinent\">Indian subcontinent</a>, which was about 125 million in 1750, increased to 389 million in 1941;<sup class=\"reference\" id=\"cite_ref-54\"><a href=\"#cite_note-54\">[54]</a></sup> today, India, Pakistan and Bangladesh are collectively home to about 1.63 billion people.<sup class=\"reference\" id=\"cite_ref-55\"><a href=\"#cite_note-55\">[55]</a></sup> <a href=\"/wiki/Java\" title=\"Java\">Java</a>, an island in <a href=\"/wiki/Indonesia\" title=\"Indonesia\">Indonesia</a>, had about 5 million inhabitants in 1815; it had a population of over 139 million in 2020.<sup class=\"reference\" id=\"cite_ref-56\"><a href=\"#cite_note-56\">[56]</a></sup> In just one hundred years, the population of Brazil decupled (x10), from about 17 million in 1900, or about 1% of the world population in that year, to about 176 million in 2000, or almost 3% of the global population in the very early 21st century. Mexico's population grew from 13.6 million in 1900 to about 112 million in 2010.<sup class=\"reference\" id=\"cite_ref-57\"><a href=\"#cite_note-57\">[57]</a></sup><sup class=\"reference\" id=\"cite_ref-58\"><a href=\"#cite_note-58\">[58]</a></sup> Between the 1920s and 2000s, Kenya's population grew from 2.9 million to 37 million.<sup class=\"reference\" id=\"cite_ref-59\"><a href=\"#cite_note-59\">[59]</a></sup>\n",
       " </p>,\n",
       " <p>The UN estimated that the world population reached one billion for the first time in 1804. It was another 123 years before it reached two billion in 1927, but it took only 33 years to reach three billion in 1960.<sup class=\"reference\" id=\"cite_ref-61\"><a href=\"#cite_note-61\">[61]</a></sup> Thereafter, it took 14 years for the global population to reach four billion in 1974, 13 years to reach five billion in 1987, 12 years to reach six billion in 1999 and, according to the United States Census Bureau, 13 years to reach seven billion in March 2012.<sup class=\"reference\" id=\"cite_ref-USCBcite_62-0\"><a href=\"#cite_note-USCBcite-62\">[62]</a></sup> The United Nations, however, estimated that the world population reached seven billion in October 2011.<sup class=\"reference\" id=\"cite_ref-UN7bn_63-0\"><a href=\"#cite_note-UN7bn-63\">[63]</a></sup><sup class=\"reference\" id=\"cite_ref-Guardian7_64-0\"><a href=\"#cite_note-Guardian7-64\">[64]</a></sup><sup class=\"reference\" id=\"cite_ref-UPI7bn_65-0\"><a href=\"#cite_note-UPI7bn-65\">[65]</a></sup>\n",
       " </p>,\n",
       " <p>According to the UN, the global population reached eight billion in November 2022,<sup class=\"reference\" id=\"cite_ref-auto_66-0\"><a href=\"#cite_note-auto-66\">[66]</a></sup> but because the growth rate is slowing, it will take another 15 years to reach around 9 billion by 2037 and 20 years to reach 10 billion by 2057.<sup class=\"reference\" id=\"cite_ref-:7_67-0\"><a href=\"#cite_note-:7-67\">[67]</a></sup> Alternative scenarios for 2050 range from a low of 7.4 billion to a high of more than 10.6 billion.<sup class=\"reference\" id=\"cite_ref-WorldPopProspects_68-0\"><a href=\"#cite_note-WorldPopProspects-68\">[68]</a></sup> Projected figures vary depending on underlying statistical assumptions and the variables used in projection calculations, especially the <a href=\"/wiki/Fertility\" title=\"Fertility\">fertility</a> and <a href=\"/wiki/Mortality_rate\" title=\"Mortality rate\">mortality</a> variables. Long-range predictions to 2150 range from a population decline to 3.2 billion in the \"low scenario\", to \"high scenarios\" of 24.8 billion.<sup class=\"reference\" id=\"cite_ref-WorldPopProspects_68-1\"><a href=\"#cite_note-WorldPopProspects-68\">[68]</a></sup> One extreme scenario predicted a massive increase to 256 billion by 2150, assuming the global fertility rate remained at its 1995 level of 3.04 children per woman; however, by 2010 the global fertility rate had declined to 2.52.<sup class=\"reference\" id=\"cite_ref-LongRangeProjections2003KeyFindings_69-0\"><a href=\"#cite_note-LongRangeProjections2003KeyFindings-69\">[69]</a></sup><sup class=\"reference\" id=\"cite_ref-Fertility2010_70-0\"><a href=\"#cite_note-Fertility2010-70\">[70]</a></sup>\n",
       " </p>,\n",
       " <p>There is no estimation for the exact day or month the world's population surpassed one or two billion. The points at which it reached three and four billion were not officially noted, but the International Database of the United States Census Bureau placed them in July 1959 and April 1974 respectively. The United Nations did determine, and commemorate, the \"Day of 5 Billion\" on 11 July 1987, and the \"Day of 6 Billion\" on 12 October 1999. The Population Division of the United Nations declared the \"<a href=\"/wiki/Day_of_Seven_Billion\" title=\"Day of Seven Billion\">Day of Seven Billion</a>\" to be 31 October 2011.<sup class=\"reference\" id=\"cite_ref-71\"><a href=\"#cite_note-71\">[71]</a></sup> The United Nations marked the birth of the <a class=\"mw-redirect\" href=\"/wiki/Vinice_Mabansag\" title=\"Vinice Mabansag\">eight billionth person</a> on 15 November 2022.<sup class=\"reference\" id=\"cite_ref-72\"><a href=\"#cite_note-72\">[72]</a></sup><sup class=\"reference\" id=\"cite_ref-auto_66-1\"><a href=\"#cite_note-auto-66\">[66]</a></sup>\n",
       " </p>,\n",
       " <p>As of 2020, the global <a href=\"/wiki/Human_sex_ratio\" title=\"Human sex ratio\">sex ratio</a> is approximately 1.01 males to 1 female.<sup class=\"reference\" id=\"cite_ref-cia-factbook_74-0\"><a href=\"#cite_note-cia-factbook-74\">[74]</a></sup> Approximately 24.7% of the global population is aged under 15, while 65.2% is aged 15–64 and 10.1% is aged 65 or over.<sup class=\"reference\" id=\"cite_ref-cia-factbook_74-1\"><a href=\"#cite_note-cia-factbook-74\">[74]</a></sup> The median age of the world's population is estimated to be 31 years in 2020,<sup class=\"reference\" id=\"cite_ref-:0_10-1\"><a href=\"#cite_note-:0-10\">[10]</a></sup> and is expected to rise to 37.9 years by 2050.<sup class=\"reference\" id=\"cite_ref-75\"><a href=\"#cite_note-75\">[75]</a></sup>\n",
       " </p>,\n",
       " <p>According to the <a href=\"/wiki/World_Health_Organization\" title=\"World Health Organization\">World Health Organization</a>, the global average <a href=\"/wiki/List_of_countries_by_life_expectancy\" title=\"List of countries by life expectancy\">life expectancy</a> is 73.3 years as of 2020, with women living an average of 75.9 years and men approximately 70.8 years.<sup class=\"reference\" id=\"cite_ref-76\"><a href=\"#cite_note-76\">[76]</a></sup> In 2010, the global <a class=\"mw-redirect\" href=\"/wiki/Fertility_rate\" title=\"Fertility rate\">fertility rate</a> was estimated at 2.44 children per woman.<sup class=\"reference\" id=\"cite_ref-77\"><a href=\"#cite_note-77\">[77]</a></sup> In June 2012, British researchers calculated the total weight of Earth's human population as approximately 287 million tonnes (630 billion pounds), with the average person weighing around 62 kilograms (137 lb).<sup class=\"reference\" id=\"cite_ref-78\"><a href=\"#cite_note-78\">[78]</a></sup>\n",
       " </p>,\n",
       " <p>The <a href=\"/wiki/International_Monetary_Fund\" title=\"International Monetary Fund\">IMF</a> estimated nominal 2021 <a href=\"/wiki/Gross_world_product\" title=\"Gross world product\">gross world product</a> at US$94.94 trillion, giving an annual global per capita figure of around US$12,290.<sup class=\"reference\" id=\"cite_ref-79\"><a href=\"#cite_note-79\">[79]</a></sup> Around 9.3% of the world population live in <a href=\"/wiki/Extreme_poverty\" title=\"Extreme poverty\">extreme poverty</a>, subsisting on less than US$1.9 per day;<sup class=\"reference\" id=\"cite_ref-80\"><a href=\"#cite_note-80\">[80]</a></sup> around 8.9% are <a href=\"/wiki/Malnutrition\" title=\"Malnutrition\">malnourished</a>.<sup class=\"reference\" id=\"cite_ref-81\"><a href=\"#cite_note-81\">[81]</a></sup> 87% of the world's over-15s are considered <a class=\"mw-redirect\" href=\"/wiki/Literacy_rate\" title=\"Literacy rate\">literate</a>.<sup class=\"reference\" id=\"cite_ref-82\"><a href=\"#cite_note-82\">[82]</a></sup> As of January 2024, there were about 5 billion global Internet users, constituting 66% of the world population.<sup class=\"reference\" id=\"cite_ref-83\"><a href=\"#cite_note-83\">[83]</a></sup>\n",
       " </p>,\n",
       " <p>The <a href=\"/wiki/Han_Chinese\" title=\"Han Chinese\">Han Chinese</a> are the world's largest single ethnic group, constituting over 19% of the global population in 2011.<sup class=\"reference\" id=\"cite_ref-84\"><a href=\"#cite_note-84\">[84]</a></sup> The world's most-spoken languages<sup class=\"reference\" id=\"cite_ref-85\"><a href=\"#cite_note-85\">[a]</a></sup> are English (1.132B), <a href=\"/wiki/Mandarin_Chinese\" title=\"Mandarin Chinese\">Mandarin Chinese</a> (1.117B), <a href=\"/wiki/Hindi\" title=\"Hindi\">Hindi</a> (615M), Spanish (534M) and French (280M). More than three billion people speak an Indo-European language, which is the largest language family by number of speakers. Standard Arabic is a language with no native speakers, but the total number of speakers is estimated at 274 million people.<sup class=\"reference\" id=\"cite_ref-86\"><a href=\"#cite_note-86\">[85]</a></sup>\n",
       " </p>,\n",
       " <p>The largest religious categories in the world as of 2020 are estimated as follows: Christianity (31%), <a href=\"/wiki/Islam\" title=\"Islam\">Islam</a> (25%), <a href=\"/wiki/Irreligion\" title=\"Irreligion\">Unaffiliated</a> (16%) and <a href=\"/wiki/Hinduism\" title=\"Hinduism\">Hinduism</a> (15%).<sup class=\"reference\" id=\"cite_ref-Pew_87-0\"><a href=\"#cite_note-Pew-87\">[86]</a></sup>\n",
       " </p>,\n",
       " <p>Six of the Earth's seven <a href=\"/wiki/Continent\" title=\"Continent\">continents</a> are permanently inhabited on a large scale. Asia is the most populous continent, with its 4.64 billion inhabitants accounting for 60% of the world population. The world's two most populated countries, India and China, together constitute about 36% of the world's population.\n",
       " Africa is the second most populated continent, with around 1.34 billion people, or 17% of the world's population.\n",
       " Europe's 747 million people make up 10% of the world's population as of 2020,\n",
       " while the <a class=\"mw-redirect\" href=\"/wiki/Latin_American\" title=\"Latin American\">Latin American</a> and <a href=\"/wiki/Caribbean\" title=\"Caribbean\">Caribbean</a> regions are home to around 653 million (8%). Northern America, primarily consisting of the United States and Canada, has a population of around 368 million (5%),\n",
       " and Oceania, the least populated region, has about 42 million inhabitants (0.5%).<sup class=\"reference\" id=\"cite_ref-88\"><a href=\"#cite_note-88\">[87]</a></sup> <a href=\"/wiki/Antarctica\" title=\"Antarctica\">Antarctica</a> only has a very small, fluctuating population of about 1200 people based mainly in polar <a href=\"/wiki/Research_stations_in_Antarctica\" title=\"Research stations in Antarctica\">science stations</a>.<sup class=\"reference\" id=\"cite_ref-AntarcticCIA_89-0\"><a href=\"#cite_note-AntarcticCIA-89\">[88]</a></sup>\n",
       " </p>,\n",
       " <p>Approximately 4.6 billion people live in these ten countries, representing around 57% of the world's population as of July 2023.\n",
       " </p>,\n",
       " <p>The UN estimates that by 2023 India will have overtaken China in having the largest population.<sup class=\"reference\" id=\"cite_ref-102\"><a href=\"#cite_note-102\">[99]</a></sup><sup class=\"reference\" id=\"cite_ref-20230414france24_94-1\"><a href=\"#cite_note-20230414france24-94\">[91]</a></sup>\n",
       " </p>,\n",
       " <p>The tables below list the world's most densely populated countries, both in absolute terms and in comparison to their total populations, as of November 2022. All areas and populations are from <i><a href=\"/wiki/The_World_Factbook\" title=\"The World Factbook\">The World Factbook</a></i>, unless otherwise noted.\n",
       " </p>,\n",
       " <p><span class=\"flagicon\"><span class=\"mw-image-border\" typeof=\"mw:File\"><span><img alt=\"\" class=\"mw-file-element\" data-file-height=\"600\" data-file-width=\"1200\" decoding=\"async\" height=\"12\" src=\"//upload.wikimedia.org/wikipedia/commons/thumb/0/00/Flag_of_Palestine.svg/23px-Flag_of_Palestine.svg.png\" srcset=\"//upload.wikimedia.org/wikipedia/commons/thumb/0/00/Flag_of_Palestine.svg/35px-Flag_of_Palestine.svg.png 1.5x, //upload.wikimedia.org/wikipedia/commons/thumb/0/00/Flag_of_Palestine.svg/46px-Flag_of_Palestine.svg.png 2x\" width=\"23\"/></span></span> </span><a href=\"/wiki/State_of_Palestine\" title=\"State of Palestine\">Palestine</a><sup class=\"reference\" id=\"cite_ref-107\"><a href=\"#cite_note-107\">[note 3]</a></sup><sup class=\"reference\" id=\"cite_ref-108\"><a href=\"#cite_note-108\">[102]</a></sup>\n",
       " </p>,\n",
       " <p>Population size fluctuates at differing rates in differing regions. Nonetheless, population growth has been the long-standing trend on all inhabited continents, as well as in most individual states. During the 20th century, the global population saw its greatest increase in known history, rising from about 1.6 billion in 1900 to over 6 billion in 2000<sup class=\"reference\" id=\"cite_ref-111\"><a href=\"#cite_note-111\">[104]</a></sup> as the whole world entered the early phases of what has come to be called the \"<a href=\"/wiki/Demographic_transition\" title=\"Demographic transition\">demographic transition</a>\". Some of the key factors contributing to this increase included the lessening of the <a href=\"/wiki/Mortality_rate\" title=\"Mortality rate\">mortality rate</a> in many countries by improved sanitation and <a href=\"/wiki/History_of_medicine#Modern_medicine\" title=\"History of medicine\">medical advances</a>, and a massive increase in agricultural productivity attributed to the <a href=\"/wiki/Green_Revolution\" title=\"Green Revolution\">Green Revolution</a>.<sup class=\"reference\" id=\"cite_ref-112\"><a href=\"#cite_note-112\">[105]</a></sup><sup class=\"reference\" id=\"cite_ref-113\"><a href=\"#cite_note-113\">[106]</a></sup> By 2000, there were approximately <a href=\"#Past_population\">ten times as many people</a> on Earth as there had been in 1700.\n",
       " </p>,\n",
       " <p>However, this rapid growth did not last. During the period 2000–2005, the United Nations estimates that the world's population was growing at an annual rate of 1.3% (equivalent to around 80 million people), down from a peak of 2.1% during the period 1965–1970.<sup class=\"reference\" id=\"cite_ref-:8_5-1\"><a href=\"#cite_note-:8-5\">[5]</a></sup>  Globally, although the population <a href=\"/wiki/Population_growth\" title=\"Population growth\">growth rate</a> has been steadily declining from its peak in 1968,<sup class=\"reference\" id=\"cite_ref-114\"><a href=\"#cite_note-114\">[107]</a></sup> growth <a href=\"/wiki/Projections_of_population_growth#Growth_regions\" title=\"Projections of population growth\">still remains high</a> in <a href=\"/wiki/Sub-Saharan_Africa\" title=\"Sub-Saharan Africa\">Sub-Saharan Africa</a>.<sup class=\"reference\" id=\"cite_ref-115\"><a href=\"#cite_note-115\">[108]</a></sup>\n",
       " </p>,\n",
       " <p>In fact, during the 2010s, Japan and some countries in Europe began to <a href=\"/wiki/Population_decline\" title=\"Population decline\">reduce in population</a>, due to <a href=\"/wiki/Sub-replacement_fertility\" title=\"Sub-replacement fertility\">sub-replacement fertility</a> rates.<sup class=\"reference\" id=\"cite_ref-BigDecline_110-1\"><a href=\"#cite_note-BigDecline-110\">[103]</a></sup>\n",
       " </p>,\n",
       " <p>In 2019, the United Nations reported that the rate of population growth continues to decline due to the ongoing global demographic transition. If this trend continues, the rate of growth may diminish to zero by 2100, concurrent with a world population plateau of 10.9 billion.<sup class=\"reference\" id=\"cite_ref-:8_5-2\"><a href=\"#cite_note-:8-5\">[5]</a></sup><sup class=\"reference\" id=\"cite_ref-:7_67-1\"><a href=\"#cite_note-:7-67\">[67]</a></sup>  However, this is only one of many estimates published by the UN; in 2009, UN population projections for 2050 ranged between around 8 billion and 10.5 billion.<sup class=\"reference\" id=\"cite_ref-116\"><a href=\"#cite_note-116\">[109]</a></sup> An alternative scenario is given by the statistician Jorgen Randers, who argues that traditional projections insufficiently take into account the downward impact of global urbanization on fertility. Randers' \"most likely scenario\" reveals a peak in the world population in the early 2040s at about 8.1 billion people, followed by decline.<sup class=\"reference\" id=\"cite_ref-117\"><a href=\"#cite_note-117\">[110]</a></sup> Adrian Raftery, a <a href=\"/wiki/University_of_Washington\" title=\"University of Washington\">University of Washington</a> professor of statistics and of sociology, states that \"there's a 70 percent probability the world population will not stabilize this century. Population, which had sort of fallen off the world's agenda, remains a very important issue.\"<sup class=\"reference\" id=\"cite_ref-118\"><a href=\"#cite_note-118\">[111]</a></sup>\n",
       " </p>,\n",
       " <p>The table below shows historical and predicted regional population figures in millions.<sup class=\"reference\" id=\"cite_ref-UN_120-0\"><a href=\"#cite_note-UN-120\">[113]</a></sup><sup class=\"reference\" id=\"cite_ref-121\"><a href=\"#cite_note-121\">[114]</a></sup><sup class=\"reference\" id=\"cite_ref-autogenerated1_122-0\"><a href=\"#cite_note-autogenerated1-122\">[115]</a></sup> The availability of historical population figures varies by region.\n",
       " </p>,\n",
       " <p>The following table gives estimates, in millions, of population in the past. The data for 1750 to 1900 are from the UN report \"The World at Six Billion\"<sup class=\"reference\" id=\"cite_ref-127\"><a href=\"#cite_note-127\">[119]</a></sup> whereas the data from 1950 to 2015 are from a UN data sheet.<sup class=\"reference\" id=\"cite_ref-WPP2015total_103-1\"><a href=\"#cite_note-WPP2015total-103\">[100]</a></sup>\n",
       " </p>,\n",
       " <p>Using the above figures, the change in population from 2010 to 2015 was:\n",
       " </p>,\n",
       " <p>Long-term global population growth is difficult to predict. The United Nations and the US Census Bureau both give different estimates – according to the UN, the world population reached seven billion in late 2011,<sup class=\"reference\" id=\"cite_ref-UN_120-1\"><a href=\"#cite_note-UN-120\">[113]</a></sup> while the USCB asserted that this occurred in March 2012.<sup class=\"reference\" id=\"cite_ref-132\"><a href=\"#cite_note-132\">[123]</a></sup> Since 1951 the UN has issued multiple projections of future world population, based on different assumptions. From 2000 to 2005, the UN consistently revised these projections downward, until the 2006 revision, issued on 14 March 2007, revised the 2050 mid-range estimate upwards by 273 million.<sup class=\"noprint Inline-Template Template-Fact\" style=\"white-space:nowrap;\">[<i><a href=\"/wiki/Wikipedia:Citation_needed\" title=\"Wikipedia:Citation needed\"><span title=\"This claim needs references to reliable sources. (May 2022)\">citation needed</span></a></i>]</sup>\n",
       " </p>,\n",
       " <p>Complicating the UN's and others' attempts to project future populations is the fact that average global <a href=\"/wiki/Birth_rate\" title=\"Birth rate\">birth rates</a>, as well as <a href=\"/wiki/Mortality_rate\" title=\"Mortality rate\">mortality rates</a>,  are declining rapidly, as the nations of the world progress through the stages of the demographic transition, but both vary greatly between developed countries (where birth rates and mortality rates are often low) and developing countries (where birth and mortality rates typically remain high). Different ethnicities also display varying birth rates.<sup class=\"noprint Inline-Template Template-Fact\" style=\"white-space:nowrap;\">[<i><a href=\"/wiki/Wikipedia:Citation_needed\" title=\"Wikipedia:Citation needed\"><span title=\"This claim needs references to reliable sources. (May 2022)\">citation needed</span></a></i>]</sup> Both of these can change rapidly due to <a class=\"mw-redirect\" href=\"/wiki/Infectious_disease#Mortality_from_infectious_diseases\" title=\"Infectious disease\">disease epidemics</a>, <a class=\"mw-redirect\" href=\"/wiki/List_of_wars\" title=\"List of wars\">wars</a> and other mass catastrophes, or <a href=\"/wiki/Life_extension\" title=\"Life extension\">advances in medicine</a> and <a href=\"/wiki/Public_health\" title=\"Public health\">public health</a>.\n",
       " </p>,\n",
       " <p>The UN's first report in 1951 showed that during the period 1950–55 the <a href=\"/wiki/Birth_rate\" title=\"Birth rate\">crude birth rate</a> was 36.9/1,000 population and the <a href=\"/wiki/Mortality_rate\" title=\"Mortality rate\">crude death rate</a> was 19.1/1,000.  By the period 2015–20 both numbers had dropped significantly to 18.5/1,000 for the crude birth rate and 7.5/1,000 for the crude death rate.  UN projections for 2100 show a further decline in the crude birth rate to 11.6/1,000 and an increase in the crude death rate to 11.2/1,000.<sup class=\"reference\" id=\"cite_ref-133\"><a href=\"#cite_note-133\">[124]</a></sup><sup>,</sup><sup class=\"reference\" id=\"cite_ref-134\"><a href=\"#cite_note-134\">[125]</a></sup>\n",
       " </p>,\n",
       " <p>The total number of births globally is currently (2015–20) 140 million/year, is projected to peak during the period 2040–45 at 141 million/year and thereafter decline slowly to 126 million/year by 2100.<sup class=\"reference\" id=\"cite_ref-:2_8-1\"><a href=\"#cite_note-:2-8\">[8]</a></sup> The total number of deaths is currently 57 million/year and is projected to grow steadily to 121 million/year by 2100.<sup class=\"reference\" id=\"cite_ref-:3_9-1\"><a href=\"#cite_note-:3-9\">[9]</a></sup>\n",
       " </p>,\n",
       " <p>2012 United Nations projections show a continued increase in population in the near future with a steady decline in population growth rate; the global population is expected to reach between 8.3 and 10.9 billion by 2050.<sup class=\"reference\" id=\"cite_ref-135\"><a href=\"#cite_note-135\">[126]</a></sup><sup class=\"reference\" id=\"cite_ref-136\"><a href=\"#cite_note-136\">[127]</a></sup> 2003 <a class=\"mw-redirect\" href=\"/wiki/United_Nations_Population_Division\" title=\"United Nations Population Division\">UN Population Division</a> population projections for the year 2150 range between 3.2 and 24.8 billion.<sup class=\"reference\" id=\"cite_ref-LongRangeProjections2003KeyFindings_69-1\"><a href=\"#cite_note-LongRangeProjections2003KeyFindings-69\">[69]</a></sup> One of many independent mathematical models supports the lower estimate,<sup class=\"reference\" id=\"cite_ref-137\"><a href=\"#cite_note-137\">[128]</a></sup> while a 2014 estimate forecasts between 9.3 and 12.6 billion in 2100, and continued growth thereafter.<sup class=\"reference\" id=\"cite_ref-138\"><a href=\"#cite_note-138\">[129]</a></sup><sup class=\"reference\" id=\"cite_ref-139\"><a href=\"#cite_note-139\">[130]</a></sup> The 2019 Revision of the UN estimates gives the \"medium variant\" population as; nearly 8.6 billion in 2030, about 9.7 billion in 2050 and about 10.9 billion in 2100.<sup class=\"reference\" id=\"cite_ref-140\"><a href=\"#cite_note-140\">[131]</a></sup> In December 2019, the <a href=\"/wiki/German_Foundation_for_World_Population\" title=\"German Foundation for World Population\">German Foundation for World Population</a> projected that the global population will reach 8 billion by 2023 as it increases by 156 every minute.<sup class=\"reference\" id=\"cite_ref-141\"><a href=\"#cite_note-141\">[132]</a></sup> In a modeled future projection by the <a href=\"/wiki/Institute_for_Health_Metrics_and_Evaluation\" title=\"Institute for Health Metrics and Evaluation\">Institute for Health Metrics and Evaluation</a> the global population was projected to peak in 2064 at 9.73 billion people and decline to 8.79 billion in 2100.<sup class=\"reference\" id=\"cite_ref-142\"><a href=\"#cite_note-142\">[133]</a></sup> Some analysts have questioned the sustainability of further world population growth, highlighting the <a href=\"/wiki/Human_impact_on_the_environment\" title=\"Human impact on the environment\">growing pressures on the environment</a>,<sup class=\"reference\" id=\"cite_ref-StokstadAAAS_143-0\"><a href=\"#cite_note-StokstadAAAS-143\">[134]</a></sup><sup class=\"reference\" id=\"cite_ref-144\"><a href=\"#cite_note-144\">[135]</a></sup> global food supplies, and energy resources.<sup class=\"reference\" id=\"cite_ref-145\"><a href=\"#cite_note-145\">[136]</a></sup><sup class=\"reference\" id=\"cite_ref-TIMEenvir_146-0\"><a href=\"#cite_note-TIMEenvir-146\">[137]</a></sup><sup class=\"reference\" id=\"cite_ref-Zehner_147-0\"><a href=\"#cite_note-Zehner-147\">[138]</a></sup>\n",
       " </p>,\n",
       " <p>In 1975, <a href=\"/wiki/Sebastian_von_Hoerner\" title=\"Sebastian von Hoerner\">Sebastian von Hoerner</a> proposed a formula for population growth which represented <a href=\"/wiki/Hyperbolic_growth\" title=\"Hyperbolic growth\">hyperbolic growth</a> with an infinite population in 2025.<sup class=\"reference\" id=\"cite_ref-150\"><a href=\"#cite_note-150\">[141]</a></sup> The hyperbolic growth of the world population observed until the 1970s was later correlated to a non-linear second-order positive feedback between demographic growth and technological development. This feedback can be described as follows: technological advance → increase in the <a href=\"/wiki/Carrying_capacity\" title=\"Carrying capacity\">carrying capacity</a> of land for people → demographic growth → more people → more potential inventors → acceleration of technological advance → accelerating growth of the carrying capacity → faster population growth → accelerating growth of the number of potential inventors → faster technological advance → hence, the faster growth of the Earth's carrying capacity for people, and so on.<sup class=\"reference\" id=\"cite_ref-151\"><a href=\"#cite_note-151\">[142]</a></sup> The transition from hyperbolic growth to slower rates of growth is related to the demographic transition.\n",
       " </p>,\n",
       " <p>According to the Russian demographer <a href=\"/wiki/Sergey_Kapitsa\" title=\"Sergey Kapitsa\">Sergey Kapitsa</a>,<sup class=\"reference\" id=\"cite_ref-Kapitza_152-0\"><a href=\"#cite_note-Kapitza-152\">[143]</a></sup> the world population grew between 67,000 BC and 1965 according to the following formula:\n",
       " </p>,\n",
       " <p>where\n",
       " </p>,\n",
       " <p>According to linear interpolation and extrapolation of <a href=\"/wiki/Estimates_of_historical_world_population\" title=\"Estimates of historical world population\">UNDESA population estimates</a>, the world population has doubled, or will double, in the years listed in the tables below (with two different starting points). During the <a href=\"/wiki/2nd_millennium\" title=\"2nd millennium\">2nd millennium</a>, each doubling took roughly half as long as the previous doubling, fitting the hyperbolic growth model mentioned above. However, after 2024, it is unlikely that there will be another doubling of the global population in the 21st century.<sup class=\"reference\" id=\"cite_ref-153\"><a href=\"#cite_note-153\">[144]</a></sup>\n",
       " </p>,\n",
       " <p>The total number of humans who have ever lived is estimated to be approximately <a class=\"mw-redirect\" href=\"/wiki/1E11\" title=\"1E11\">100 billion</a>. Such estimates can only be rough approximations, as even modern population estimates are subject to uncertainty of around 3% to 5%.<sup class=\"reference\" id=\"cite_ref-Kapitza2_14-1\"><a href=\"#cite_note-Kapitza2-14\">[14]</a></sup> Kapitsa (1996) cites estimates ranging between 80 and 150 billion.<sup class=\"reference\" id=\"cite_ref-155\"><a href=\"#cite_note-155\">[146]</a></sup> The <a href=\"/wiki/Population_Reference_Bureau\" title=\"Population Reference Bureau\">PRB</a> puts the figure at 117 billion as of 2020, estimating that the current world population is 6.7% of all the humans who have ever lived.<sup class=\"reference\" id=\"cite_ref-156\"><a href=\"#cite_note-156\">[147]</a></sup> Haub (1995) prepared another figure, updated in 2002 and 2011; the 2011 figure was approximately 107 billion.<sup class=\"reference\" id=\"cite_ref-Curtin2007_157-0\"><a href=\"#cite_note-Curtin2007-157\">[148]</a></sup><sup class=\"reference\" id=\"cite_ref-Haub1995_158-0\"><a href=\"#cite_note-Haub1995-158\">[149]</a></sup><sup class=\"reference\" id=\"cite_ref-Haub2011_159-0\"><a href=\"#cite_note-Haub2011-159\">[150]</a></sup> Haub characterized this figure as an estimate that required \"selecting population sizes for different points from antiquity to the present and applying assumed birth rates to each period\".<sup class=\"reference\" id=\"cite_ref-Haub1995_158-1\"><a href=\"#cite_note-Haub1995-158\">[149]</a></sup>\n",
       " </p>,\n",
       " <p>Robust population data only exist for the last two or three centuries. Until the late 18th century, few governments had ever performed an accurate census. In many early attempts, such as in <a href=\"/wiki/Census_in_Egypt\" title=\"Census in Egypt\">Ancient Egypt</a> and the <a href=\"/wiki/Achaemenid_Empire\" title=\"Achaemenid Empire\">Persian Empire</a>, the focus was on counting merely a subset of the population for purposes of taxation or military service.<sup class=\"reference\" id=\"cite_ref-160\"><a href=\"#cite_note-160\">[151]</a></sup> Thus, there is a significant margin of error when estimating ancient global populations.\n",
       " </p>,\n",
       " <p>Pre-modern <a href=\"/wiki/Infant_mortality\" title=\"Infant mortality\">infant mortality</a> rates are another critical factor for such an estimate; these rates are very difficult to estimate for ancient times due to a lack of accurate records. Haub (1995) estimates that around 40% of those who have ever lived did not survive beyond their first birthday. Haub also stated that \"<a class=\"mw-redirect\" href=\"/wiki/Life_expectancy_at_birth\" title=\"Life expectancy at birth\">life expectancy at birth</a> probably averaged only about ten years for most of human history\",<sup class=\"reference\" id=\"cite_ref-Haub1995_158-2\"><a href=\"#cite_note-Haub1995-158\">[149]</a></sup> which is not to be mistaken for the life expectancy after reaching adulthood. The latter equally depended on period, location and social standing, but <a href=\"/wiki/Life_expectancy#Variation_over_time\" title=\"Life expectancy\">calculations</a> identify averages from roughly 30 years upward.\n",
       " </p>,\n",
       " <p>The <a href=\"/wiki/National_Institute_of_Corrections\" title=\"National Institute of Corrections\">National Institute of Corrections</a> estimates that that the number of people who have ever lived will rise to 121 billion by 2050, 4 billion more than their 2021 estimate.<sup class=\"reference\" id=\"cite_ref-161\"><a href=\"#cite_note-161\">[152]</a></sup>\n",
       " </p>,\n",
       " <p>Individuals from a wide range of academic fields and political backgrounds have proposed that, like all other animal populations, any <a class=\"mw-redirect\" href=\"/wiki/Human_population\" title=\"Human population\">human population</a> (and, by extension, the world population) predictably grows and shrinks according to available food supply, growing during an abundance of food and shrinking in times of scarcity.<sup class=\"reference\" id=\"cite_ref-162\"><a href=\"#cite_note-162\">[153]</a></sup> This idea may run counter to the popular thinking that, as population grows, food supply must also be increased to support the growing population; instead, the claim here is that growing population is the <i>result</i> of a growing food supply. Notable proponents of this notion include: <a class=\"mw-redirect\" href=\"/wiki/Agronomist\" title=\"Agronomist\">agronomist</a> and insect ecologist <a href=\"/wiki/David_Pimentel_(scientist)\" title=\"David Pimentel (scientist)\">David Pimentel</a>,<sup class=\"reference\" id=\"cite_ref-Hopfenberg_and_Pimentel_163-0\"><a href=\"#cite_note-Hopfenberg_and_Pimentel-163\">[154]</a></sup> behavioral scientist Russell Hopfenberg (the former two publishing a study on the topic in 2001),<sup class=\"reference\" id=\"cite_ref-164\"><a href=\"#cite_note-164\">[155]</a></sup> anthropologist and activist <a href=\"/wiki/Virginia_Abernethy\" title=\"Virginia Abernethy\">Virginia Abernethy</a>,<sup class=\"reference\" id=\"cite_ref-165\"><a href=\"#cite_note-165\">[156]</a></sup> ecologist <a href=\"/wiki/Garrett_Hardin\" title=\"Garrett Hardin\">Garrett Hardin</a>,<sup class=\"reference\" id=\"cite_ref-166\"><a href=\"#cite_note-166\">[157]</a></sup> science writer and anthropologist <a href=\"/wiki/Peter_Farb\" title=\"Peter Farb\">Peter Farb</a>, journalist <a href=\"/wiki/Richard_Manning\" title=\"Richard Manning\">Richard Manning</a>,<sup class=\"reference\" id=\"cite_ref-167\"><a href=\"#cite_note-167\">[158]</a></sup> environmental biologist Alan D. Thornhill,<sup class=\"reference\" id=\"cite_ref-168\"><a href=\"#cite_note-168\">[159]</a></sup> cultural critic and writer <a href=\"/wiki/Daniel_Quinn\" title=\"Daniel Quinn\">Daniel Quinn</a>,<sup class=\"reference\" id=\"cite_ref-169\"><a href=\"#cite_note-169\">[160]</a></sup> and <a class=\"mw-redirect\" href=\"/wiki/Anarcho-primitivist\" title=\"Anarcho-primitivist\">anarcho-primitivist</a> <a href=\"/wiki/John_Zerzan\" title=\"John Zerzan\">John Zerzan</a>.<sup class=\"reference\" id=\"cite_ref-170\"><a href=\"#cite_note-170\">[161]</a></sup>\n",
       " </p>,\n",
       " <p>Scientists generally acknowledge that at least one significant factor contributing to population growth (or overpopulation) is that as agriculture advances in creating more food, the population consequently increases—the <a href=\"/wiki/Neolithic_Revolution\" title=\"Neolithic Revolution\">Neolithic Revolution</a> and <a href=\"/wiki/Green_Revolution\" title=\"Green Revolution\">Green Revolution</a> often specifically provided as examples of such agricultural breakthroughs.<sup class=\"reference\" id=\"cite_ref-Gilland_171-0\"><a href=\"#cite_note-Gilland-171\">[162]</a></sup><sup class=\"reference\" id=\"cite_ref-172\"><a href=\"#cite_note-172\">[163]</a></sup><sup class=\"reference\" id=\"cite_ref-Li_173-0\"><a href=\"#cite_note-Li-173\">[164]</a></sup><sup class=\"reference\" id=\"cite_ref-174\"><a href=\"#cite_note-174\">[165]</a></sup><sup class=\"reference\" id=\"cite_ref-175\"><a href=\"#cite_note-175\">[166]</a></sup><sup class=\"reference\" id=\"cite_ref-NatGeo_176-0\"><a href=\"#cite_note-NatGeo-176\">[167]</a></sup> Furthermore, certain scientific studies do lend evidence to food availability in particular being the dominant factor within a more recent timeframe.<sup class=\"reference\" id=\"cite_ref-177\"><a href=\"#cite_note-177\">[168]</a></sup><sup class=\"reference\" id=\"cite_ref-178\"><a href=\"#cite_note-178\">[169]</a></sup><sup class=\"reference\" id=\"cite_ref-Hopfenberg_and_Pimentel_163-1\"><a href=\"#cite_note-Hopfenberg_and_Pimentel-163\">[154]</a></sup> Other studies take it as a basic model from which to make broad population conjectures.<sup class=\"reference\" id=\"cite_ref-Gilland_171-1\"><a href=\"#cite_note-Gilland-171\">[162]</a></sup> The idea became <a href=\"/wiki/Taboo\" title=\"Taboo\">taboo</a> following the United Nations' 1994 <a href=\"/wiki/International_Conference_on_Population_and_Development\" title=\"International Conference on Population and Development\">International Conference on Population and Development</a>, where framing human population growth as negatively impacting the natural environment became regarded as \"anti-human\".<sup class=\"reference\" id=\"cite_ref-179\"><a href=\"#cite_note-179\">[170]</a></sup>\n",
       " </p>,\n",
       " <p>Most human populations throughout history validate this theory, as does the overall current global population. Populations of <a href=\"/wiki/Hunter-gatherer\" title=\"Hunter-gatherer\">hunter-gatherers</a> fluctuate in accordance with the amount of available food. The world human population began consistently and sharply to rise, and continues to do so, after sedentary agricultural lifestyles became common due to the Neolithic Revolution and its increased food supply.<sup class=\"reference\" id=\"cite_ref-180\"><a href=\"#cite_note-180\">[171]</a></sup><sup class=\"reference\" id=\"cite_ref-Li_173-1\"><a href=\"#cite_note-Li-173\">[164]</a></sup><sup class=\"reference\" id=\"cite_ref-NatGeo_176-1\"><a href=\"#cite_note-NatGeo-176\">[167]</a></sup> This was, subsequent to the Green Revolution starting in the 1940s, followed by even more severely accelerated population growth. Often, wealthier countries send their surplus food resources to the aid of starving communities; however, some proponents of this theory argue that this seemingly beneficial strategy only results in further harm to those communities in the long run. Anthropologist Peter Farb, for example, has commented on the paradox that \"intensification of production to feed an increased population leads to a still greater increase in population.\"<sup class=\"reference\" id=\"cite_ref-181\"><a href=\"#cite_note-181\">[172]</a></sup> Environmental writer Daniel Quinn has also focused on this phenomenon, which he calls the \"food race\", coining a term he felt was comparable, in terms of both escalation and potential catastrophe, to the <a href=\"/wiki/Nuclear_arms_race\" title=\"Nuclear arms race\">nuclear arms race</a>.\n",
       " </p>,\n",
       " <p>Criticism of this theory can come from multiple angles, for example by demonstrating that human population is not solely an effect of food availability, but that the situation is more complex. For instance, other relevant factors that can increase or limit human population include fresh water availability, arable land availability, energy consumed per person, heat removal, forest products, and various nonrenewable resources like fertilizers.<sup class=\"reference\" id=\"cite_ref-182\"><a href=\"#cite_note-182\">[173]</a></sup> Another criticism is that, in the modern era, birth rates are lowest in the <a class=\"mw-redirect\" href=\"/wiki/Developed_nation\" title=\"Developed nation\">developed nations</a>, which also have the highest access to food. In fact, some developed countries have both a diminishing population and an abundant food supply. The United Nations projects that the population of 51 countries or areas, including Germany, Italy, Japan, and most of the states of the former Soviet Union, is expected to be lower in 2050 than in 2005.<sup class=\"reference\" id=\"cite_ref-183\"><a href=\"#cite_note-183\">[174]</a></sup> This shows that, limited to the scope of the population living within a single given political boundary, particular human populations do not always grow to match the available food supply. However, the global population as a whole still grows in accordance with the total food supply and many of these wealthier countries are major <i>exporters</i> of food to poorer populations, so that, according to Hopfenberg and Pimentel's 2001 research, \"it is through exports from food-rich to food-poor areas... that the population growth in these food-poor areas is further fueled.<sup class=\"reference\" id=\"cite_ref-Hopfenberg_and_Pimentel_163-2\"><a href=\"#cite_note-Hopfenberg_and_Pimentel-163\">[154]</a></sup> Their study thus suggests that human population growth is an <a href=\"/wiki/Positive_feedback\" title=\"Positive feedback\">exacerbating feedback loop</a> in which food availability creates a growing population, which then causes the misimpression that food production must be consequently expanded even further.<sup class=\"reference\" id=\"cite_ref-184\"><a href=\"#cite_note-184\">[175]</a></sup>\n",
       " </p>,\n",
       " <p>Regardless of criticisms against the theory that population is a function of food availability, the human population is, on the global scale, undeniably increasing,<sup class=\"reference\" id=\"cite_ref-185\"><a href=\"#cite_note-185\">[176]</a></sup> as is the net quantity of human food produced—a pattern that has been true for roughly 10,000 years, since the human development of agriculture. The fact that some affluent countries demonstrate negative population growth fails to discredit the theory as a whole, since the world has become a <a href=\"/wiki/Globalization\" title=\"Globalization\">globalized system</a> with food moving across national borders from areas of abundance to areas of scarcity. Hopfenberg and Pimentel's  2001 findings support both this<sup class=\"reference\" id=\"cite_ref-Hopfenberg_and_Pimentel_163-3\"><a href=\"#cite_note-Hopfenberg_and_Pimentel-163\">[154]</a></sup> and Daniel Quinn's direct accusation, in the early 2010s, that \"First World farmers are fueling the Third World population explosion\".<sup class=\"reference\" id=\"cite_ref-186\"><a href=\"#cite_note-186\">[177]</a></sup>\n",
       " </p>,\n",
       " <p><b>Lists:</b>\n",
       " </p>,\n",
       " <p><b>Historical:</b>\n",
       " </p>,\n",
       " <p><b>Organizations</b>\n",
       " </p>,\n",
       " <p><b>Statistics and maps</b>\n",
       " </p>,\n",
       " <p><b>Population clocks</b>\n",
       " </p>]"
      ]
     },
     "execution_count": 15,
     "metadata": {},
     "output_type": "execute_result"
    }
   ],
   "source": [
    "p_tags=bs.find_all('p')\n",
    "p_tags"
   ]
  },
  {
   "cell_type": "code",
   "execution_count": 17,
   "id": "86b35493",
   "metadata": {},
   "outputs": [
    {
     "name": "stdout",
     "output_type": "stream",
     "text": [
      "\n",
      "In world demographics, the world population is the total number of humans currently living. It was estimated by the United Nations to have exceeded eight billion in mid-November 2022. It took around 300,000 years of human prehistory and history for the human population to reach a billion and only 222 years more to reach 8 billion.[2]\n",
      "The human population has experienced continuous growth following the Great Famine of 1315–1317 and the end of the Black Death in 1350, when it was nearly 370,000,000.[3] The highest global population growth rates, with increases of over 1.8% per year, occurred between 1955 and 1975, peaking at 2.1% between 1965 and 1970.[4] The growth rate declined to 1.1% between 2015 and 2020 and is projected to decline further in the 21st century.[5] The global population is still increasing, but there is significant uncertainty about its long-term trajectory due to changing fertility and mortality rates.[6] The UN Department of Economics and Social Affairs projects between 9 and 10 billion people by 2050 and gives an 80% confidence interval of 10–12 billion by the end of the 21st century,[1] with a growth rate by then of zero. Other demographers predict that the human population will begin to decline in the second half of the 21st century.[7]\n",
      "The total number of births globally is currently (2015–2020) 140 million/year, which is projected to peak during the period 2040–2045 at 141 million/year and then decline slowly to 126 million/year by 2100.[8] The total number of deaths is currently 57 million/year and is projected to grow steadily to 121 million/year by 2100.[9]\n",
      "The median age of human beings as of 2020[update] is 31 years.[10]\n",
      "Estimates of world population by their nature are an aspect of modernity, possible only since the Age of Discovery. Early estimates for the population of the world[11] date to the 17th century: William Petty, in 1682, estimated the world population at 320 million (current estimates ranging close to twice this number); by the late 18th century, estimates ranged close to one billion (consistent with current estimates).[12] More refined estimates, broken down by continents, were published in the first half of the 19th century, at 600 million to 1 billion in the early 1800s and 800 million to 1 billion in the 1840s.[13]\n",
      "It is difficult for estimates to be better than rough approximations, as even current population estimates are fraught with uncertainties from 3% to 5%.[14]\n",
      "Estimates of the population of the world at the time agriculture emerged in around 10,000 BC have ranged between 1 million and 15 million.[15][16] Even earlier, genetic evidence suggests humans may have gone through a population bottleneck of between 1,000 and 10,000 people about 70,000 BC, according to the now largely discredited Toba catastrophe theory. By contrast, it is estimated that around 50–60 million people lived in the combined eastern and western Roman Empire in the 4th century AD.[17]\n",
      "The Plague of Justinian caused Europe's population to drop by around 50% between the 6th and 8th centuries AD.[18] The population of Europe was more than 70 million in 1340.[19] From 1340 to 1400, the world's population fell from an estimated 443 million to 350–375 million,[20] with the Indian subcontinent suffering the most tremendous loss and Europe suffering the Black Death pandemic;[21] it took 200 years for European population figures to recover.[22] The population of China decreased from 123 million in 1200 to 65 million in 1393,[23] presumably from a combination of Mongol invasions, famine, and plague.[24]\n",
      "Starting in AD 2, the Han dynasty of ancient China kept consistent family registers to properly assess the poll taxes and labor service duties of each household.[25] In that year, the population of Western Han was recorded as 57,671,400 individuals in 12,366,470 households, decreasing to 47,566,772 individuals in 9,348,227 households by AD 146, towards the end of the Han dynasty.[25] From 200 to 400, the world population fell from an estimated 257 million to 206 million, with China suffering the greatest loss.[21] At the founding of the Ming dynasty in 1368, China's population was reported to be close to 60 million; toward the end of the dynasty in 1644, it may have approached 150 million.[26] England's population reached an estimated 5.6 million in 1650, up from an estimated 2.6 million in 1500.[27] New crops that were brought to Asia and Europe from the Americas by Portuguese and Spanish colonists in the 16th century are believed to have contributed to population growth.[28][29][30] Since their introduction to Africa by Portuguese traders in the 16th century,[31] maize and cassava have similarly replaced traditional African crops as the most important staple food crops grown on the continent.[32]\n",
      "The pre-Columbian population of the Americas is uncertain; historian David Henige called it \"the most unanswerable question in the world.\"[33] By the end of the 20th century, scholarly consensus favored an estimate of roughly 55 million people, but numbers from various sources have ranged from 10 million to 100 million.[34] Encounters between European explorers and populations in the rest of the world often introduced local epidemics of extraordinary virulence.[35] According to the most extreme scholarly claims, as many as 90% of the Native American population of the New World died of Old World diseases such as smallpox, measles, and influenza.[36] Over the centuries, the Europeans had developed high degrees of immunity to these diseases, while the indigenous peoples had no such immunity.[37]\n",
      "During the European Agricultural and Industrial Revolutions, the life expectancy of children increased dramatically.[40] The percentage of the children born in London who died before the age of five decreased from 74.5% in 1730–1749 to 31.8% in 1810–1829.[41][42] Between 1700 and 1900, Europe's population increased from about 100 million to over 400 million.[43] Altogether, the areas populated by people of European descent comprised 36% of the world's population in 1900.[44]\n",
      "Population growth in the Western world became more rapid after the introduction of vaccination and other improvements in medicine and sanitation.[45] Improved material conditions led to the population of Britain increasing from 10 million to 40 million in the 19th century.[46] The population of the United Kingdom reached 60 million in 2006.[47] The United States saw its population grow from around 5.3 million in 1800 to 106 million in 1920, exceeding 307 million in 2010.[48]\n",
      "The first half of the 20th century in Imperial Russia and the Soviet Union was marked by a succession of major wars, famines and other disasters which caused large-scale population losses (approximately 60 million excess deaths).[49][50] After the collapse of the Soviet Union, Russia's population declined significantly – from 150 million in 1991 to 143 million in 2012[51] – but by 2013 this decline appeared to have halted.[52]\n",
      "Many countries in the developing world have experienced extremely rapid population growth since the early 20th century, due to economic development and improvements in public health. China's population rose from approximately 430 million in 1850 to 580 million in 1953,[53] and now stands at over 1.3 billion. The population of the Indian subcontinent, which was about 125 million in 1750, increased to 389 million in 1941;[54] today, India, Pakistan and Bangladesh are collectively home to about 1.63 billion people.[55] Java, an island in Indonesia, had about 5 million inhabitants in 1815; it had a population of over 139 million in 2020.[56] In just one hundred years, the population of Brazil decupled (x10), from about 17 million in 1900, or about 1% of the world population in that year, to about 176 million in 2000, or almost 3% of the global population in the very early 21st century. Mexico's population grew from 13.6 million in 1900 to about 112 million in 2010.[57][58] Between the 1920s and 2000s, Kenya's population grew from 2.9 million to 37 million.[59]\n",
      "The UN estimated that the world population reached one billion for the first time in 1804. It was another 123 years before it reached two billion in 1927, but it took only 33 years to reach three billion in 1960.[61] Thereafter, it took 14 years for the global population to reach four billion in 1974, 13 years to reach five billion in 1987, 12 years to reach six billion in 1999 and, according to the United States Census Bureau, 13 years to reach seven billion in March 2012.[62] The United Nations, however, estimated that the world population reached seven billion in October 2011.[63][64][65]\n",
      "According to the UN, the global population reached eight billion in November 2022,[66] but because the growth rate is slowing, it will take another 15 years to reach around 9 billion by 2037 and 20 years to reach 10 billion by 2057.[67] Alternative scenarios for 2050 range from a low of 7.4 billion to a high of more than 10.6 billion.[68] Projected figures vary depending on underlying statistical assumptions and the variables used in projection calculations, especially the fertility and mortality variables. Long-range predictions to 2150 range from a population decline to 3.2 billion in the \"low scenario\", to \"high scenarios\" of 24.8 billion.[68] One extreme scenario predicted a massive increase to 256 billion by 2150, assuming the global fertility rate remained at its 1995 level of 3.04 children per woman; however, by 2010 the global fertility rate had declined to 2.52.[69][70]\n",
      "There is no estimation for the exact day or month the world's population surpassed one or two billion. The points at which it reached three and four billion were not officially noted, but the International Database of the United States Census Bureau placed them in July 1959 and April 1974 respectively. The United Nations did determine, and commemorate, the \"Day of 5 Billion\" on 11 July 1987, and the \"Day of 6 Billion\" on 12 October 1999. The Population Division of the United Nations declared the \"Day of Seven Billion\" to be 31 October 2011.[71] The United Nations marked the birth of the eight billionth person on 15 November 2022.[72][66]\n",
      "As of 2020, the global sex ratio is approximately 1.01 males to 1 female.[74] Approximately 24.7% of the global population is aged under 15, while 65.2% is aged 15–64 and 10.1% is aged 65 or over.[74] The median age of the world's population is estimated to be 31 years in 2020,[10] and is expected to rise to 37.9 years by 2050.[75]\n",
      "According to the World Health Organization, the global average life expectancy is 73.3 years as of 2020, with women living an average of 75.9 years and men approximately 70.8 years.[76] In 2010, the global fertility rate was estimated at 2.44 children per woman.[77] In June 2012, British researchers calculated the total weight of Earth's human population as approximately 287 million tonnes (630 billion pounds), with the average person weighing around 62 kilograms (137 lb).[78]\n",
      "The IMF estimated nominal 2021 gross world product at US$94.94 trillion, giving an annual global per capita figure of around US$12,290.[79] Around 9.3% of the world population live in extreme poverty, subsisting on less than US$1.9 per day;[80] around 8.9% are malnourished.[81] 87% of the world's over-15s are considered literate.[82] As of January 2024, there were about 5 billion global Internet users, constituting 66% of the world population.[83]\n",
      "The Han Chinese are the world's largest single ethnic group, constituting over 19% of the global population in 2011.[84] The world's most-spoken languages[a] are English (1.132B), Mandarin Chinese (1.117B), Hindi (615M), Spanish (534M) and French (280M). More than three billion people speak an Indo-European language, which is the largest language family by number of speakers. Standard Arabic is a language with no native speakers, but the total number of speakers is estimated at 274 million people.[85]\n",
      "The largest religious categories in the world as of 2020 are estimated as follows: Christianity (31%), Islam (25%), Unaffiliated (16%) and Hinduism (15%).[86]\n",
      "Six of the Earth's seven continents are permanently inhabited on a large scale. Asia is the most populous continent, with its 4.64 billion inhabitants accounting for 60% of the world population. The world's two most populated countries, India and China, together constitute about 36% of the world's population.\n",
      "Africa is the second most populated continent, with around 1.34 billion people, or 17% of the world's population.\n",
      "Europe's 747 million people make up 10% of the world's population as of 2020,\n",
      "while the Latin American and Caribbean regions are home to around 653 million (8%). Northern America, primarily consisting of the United States and Canada, has a population of around 368 million (5%),\n",
      "and Oceania, the least populated region, has about 42 million inhabitants (0.5%).[87] Antarctica only has a very small, fluctuating population of about 1200 people based mainly in polar science stations.[88]\n",
      "Approximately 4.6 billion people live in these ten countries, representing around 57% of the world's population as of July 2023.\n",
      "The UN estimates that by 2023 India will have overtaken China in having the largest population.[99][91]\n",
      "The tables below list the world's most densely populated countries, both in absolute terms and in comparison to their total populations, as of November 2022. All areas and populations are from The World Factbook, unless otherwise noted.\n",
      " Palestine[note 3][102]\n",
      "Population size fluctuates at differing rates in differing regions. Nonetheless, population growth has been the long-standing trend on all inhabited continents, as well as in most individual states. During the 20th century, the global population saw its greatest increase in known history, rising from about 1.6 billion in 1900 to over 6 billion in 2000[104] as the whole world entered the early phases of what has come to be called the \"demographic transition\". Some of the key factors contributing to this increase included the lessening of the mortality rate in many countries by improved sanitation and medical advances, and a massive increase in agricultural productivity attributed to the Green Revolution.[105][106] By 2000, there were approximately ten times as many people on Earth as there had been in 1700.\n",
      "However, this rapid growth did not last. During the period 2000–2005, the United Nations estimates that the world's population was growing at an annual rate of 1.3% (equivalent to around 80 million people), down from a peak of 2.1% during the period 1965–1970.[5]  Globally, although the population growth rate has been steadily declining from its peak in 1968,[107] growth still remains high in Sub-Saharan Africa.[108]\n",
      "In fact, during the 2010s, Japan and some countries in Europe began to reduce in population, due to sub-replacement fertility rates.[103]\n",
      "In 2019, the United Nations reported that the rate of population growth continues to decline due to the ongoing global demographic transition. If this trend continues, the rate of growth may diminish to zero by 2100, concurrent with a world population plateau of 10.9 billion.[5][67]  However, this is only one of many estimates published by the UN; in 2009, UN population projections for 2050 ranged between around 8 billion and 10.5 billion.[109] An alternative scenario is given by the statistician Jorgen Randers, who argues that traditional projections insufficiently take into account the downward impact of global urbanization on fertility. Randers' \"most likely scenario\" reveals a peak in the world population in the early 2040s at about 8.1 billion people, followed by decline.[110] Adrian Raftery, a University of Washington professor of statistics and of sociology, states that \"there's a 70 percent probability the world population will not stabilize this century. Population, which had sort of fallen off the world's agenda, remains a very important issue.\"[111]\n",
      "The table below shows historical and predicted regional population figures in millions.[113][114][115] The availability of historical population figures varies by region.\n",
      "The following table gives estimates, in millions, of population in the past. The data for 1750 to 1900 are from the UN report \"The World at Six Billion\"[119] whereas the data from 1950 to 2015 are from a UN data sheet.[100]\n",
      "Using the above figures, the change in population from 2010 to 2015 was:\n",
      "Long-term global population growth is difficult to predict. The United Nations and the US Census Bureau both give different estimates – according to the UN, the world population reached seven billion in late 2011,[113] while the USCB asserted that this occurred in March 2012.[123] Since 1951 the UN has issued multiple projections of future world population, based on different assumptions. From 2000 to 2005, the UN consistently revised these projections downward, until the 2006 revision, issued on 14 March 2007, revised the 2050 mid-range estimate upwards by 273 million.[citation needed]\n",
      "Complicating the UN's and others' attempts to project future populations is the fact that average global birth rates, as well as mortality rates,  are declining rapidly, as the nations of the world progress through the stages of the demographic transition, but both vary greatly between developed countries (where birth rates and mortality rates are often low) and developing countries (where birth and mortality rates typically remain high). Different ethnicities also display varying birth rates.[citation needed] Both of these can change rapidly due to disease epidemics, wars and other mass catastrophes, or advances in medicine and public health.\n",
      "The UN's first report in 1951 showed that during the period 1950–55 the crude birth rate was 36.9/1,000 population and the crude death rate was 19.1/1,000.  By the period 2015–20 both numbers had dropped significantly to 18.5/1,000 for the crude birth rate and 7.5/1,000 for the crude death rate.  UN projections for 2100 show a further decline in the crude birth rate to 11.6/1,000 and an increase in the crude death rate to 11.2/1,000.[124],[125]\n",
      "The total number of births globally is currently (2015–20) 140 million/year, is projected to peak during the period 2040–45 at 141 million/year and thereafter decline slowly to 126 million/year by 2100.[8] The total number of deaths is currently 57 million/year and is projected to grow steadily to 121 million/year by 2100.[9]\n",
      "2012 United Nations projections show a continued increase in population in the near future with a steady decline in population growth rate; the global population is expected to reach between 8.3 and 10.9 billion by 2050.[126][127] 2003 UN Population Division population projections for the year 2150 range between 3.2 and 24.8 billion.[69] One of many independent mathematical models supports the lower estimate,[128] while a 2014 estimate forecasts between 9.3 and 12.6 billion in 2100, and continued growth thereafter.[129][130] The 2019 Revision of the UN estimates gives the \"medium variant\" population as; nearly 8.6 billion in 2030, about 9.7 billion in 2050 and about 10.9 billion in 2100.[131] In December 2019, the German Foundation for World Population projected that the global population will reach 8 billion by 2023 as it increases by 156 every minute.[132] In a modeled future projection by the Institute for Health Metrics and Evaluation the global population was projected to peak in 2064 at 9.73 billion people and decline to 8.79 billion in 2100.[133] Some analysts have questioned the sustainability of further world population growth, highlighting the growing pressures on the environment,[134][135] global food supplies, and energy resources.[136][137][138]\n",
      "In 1975, Sebastian von Hoerner proposed a formula for population growth which represented hyperbolic growth with an infinite population in 2025.[141] The hyperbolic growth of the world population observed until the 1970s was later correlated to a non-linear second-order positive feedback between demographic growth and technological development. This feedback can be described as follows: technological advance → increase in the carrying capacity of land for people → demographic growth → more people → more potential inventors → acceleration of technological advance → accelerating growth of the carrying capacity → faster population growth → accelerating growth of the number of potential inventors → faster technological advance → hence, the faster growth of the Earth's carrying capacity for people, and so on.[142] The transition from hyperbolic growth to slower rates of growth is related to the demographic transition.\n",
      "According to the Russian demographer Sergey Kapitsa,[143] the world population grew between 67,000 BC and 1965 according to the following formula:\n",
      "where\n",
      "According to linear interpolation and extrapolation of UNDESA population estimates, the world population has doubled, or will double, in the years listed in the tables below (with two different starting points). During the 2nd millennium, each doubling took roughly half as long as the previous doubling, fitting the hyperbolic growth model mentioned above. However, after 2024, it is unlikely that there will be another doubling of the global population in the 21st century.[144]\n",
      "The total number of humans who have ever lived is estimated to be approximately 100 billion. Such estimates can only be rough approximations, as even modern population estimates are subject to uncertainty of around 3% to 5%.[14] Kapitsa (1996) cites estimates ranging between 80 and 150 billion.[146] The PRB puts the figure at 117 billion as of 2020, estimating that the current world population is 6.7% of all the humans who have ever lived.[147] Haub (1995) prepared another figure, updated in 2002 and 2011; the 2011 figure was approximately 107 billion.[148][149][150] Haub characterized this figure as an estimate that required \"selecting population sizes for different points from antiquity to the present and applying assumed birth rates to each period\".[149]\n",
      "Robust population data only exist for the last two or three centuries. Until the late 18th century, few governments had ever performed an accurate census. In many early attempts, such as in Ancient Egypt and the Persian Empire, the focus was on counting merely a subset of the population for purposes of taxation or military service.[151] Thus, there is a significant margin of error when estimating ancient global populations.\n",
      "Pre-modern infant mortality rates are another critical factor for such an estimate; these rates are very difficult to estimate for ancient times due to a lack of accurate records. Haub (1995) estimates that around 40% of those who have ever lived did not survive beyond their first birthday. Haub also stated that \"life expectancy at birth probably averaged only about ten years for most of human history\",[149] which is not to be mistaken for the life expectancy after reaching adulthood. The latter equally depended on period, location and social standing, but calculations identify averages from roughly 30 years upward.\n",
      "The National Institute of Corrections estimates that that the number of people who have ever lived will rise to 121 billion by 2050, 4 billion more than their 2021 estimate.[152]\n",
      "Individuals from a wide range of academic fields and political backgrounds have proposed that, like all other animal populations, any human population (and, by extension, the world population) predictably grows and shrinks according to available food supply, growing during an abundance of food and shrinking in times of scarcity.[153] This idea may run counter to the popular thinking that, as population grows, food supply must also be increased to support the growing population; instead, the claim here is that growing population is the result of a growing food supply. Notable proponents of this notion include: agronomist and insect ecologist David Pimentel,[154] behavioral scientist Russell Hopfenberg (the former two publishing a study on the topic in 2001),[155] anthropologist and activist Virginia Abernethy,[156] ecologist Garrett Hardin,[157] science writer and anthropologist Peter Farb, journalist Richard Manning,[158] environmental biologist Alan D. Thornhill,[159] cultural critic and writer Daniel Quinn,[160] and anarcho-primitivist John Zerzan.[161]\n",
      "Scientists generally acknowledge that at least one significant factor contributing to population growth (or overpopulation) is that as agriculture advances in creating more food, the population consequently increases—the Neolithic Revolution and Green Revolution often specifically provided as examples of such agricultural breakthroughs.[162][163][164][165][166][167] Furthermore, certain scientific studies do lend evidence to food availability in particular being the dominant factor within a more recent timeframe.[168][169][154] Other studies take it as a basic model from which to make broad population conjectures.[162] The idea became taboo following the United Nations' 1994 International Conference on Population and Development, where framing human population growth as negatively impacting the natural environment became regarded as \"anti-human\".[170]\n",
      "Most human populations throughout history validate this theory, as does the overall current global population. Populations of hunter-gatherers fluctuate in accordance with the amount of available food. The world human population began consistently and sharply to rise, and continues to do so, after sedentary agricultural lifestyles became common due to the Neolithic Revolution and its increased food supply.[171][164][167] This was, subsequent to the Green Revolution starting in the 1940s, followed by even more severely accelerated population growth. Often, wealthier countries send their surplus food resources to the aid of starving communities; however, some proponents of this theory argue that this seemingly beneficial strategy only results in further harm to those communities in the long run. Anthropologist Peter Farb, for example, has commented on the paradox that \"intensification of production to feed an increased population leads to a still greater increase in population.\"[172] Environmental writer Daniel Quinn has also focused on this phenomenon, which he calls the \"food race\", coining a term he felt was comparable, in terms of both escalation and potential catastrophe, to the nuclear arms race.\n",
      "Criticism of this theory can come from multiple angles, for example by demonstrating that human population is not solely an effect of food availability, but that the situation is more complex. For instance, other relevant factors that can increase or limit human population include fresh water availability, arable land availability, energy consumed per person, heat removal, forest products, and various nonrenewable resources like fertilizers.[173] Another criticism is that, in the modern era, birth rates are lowest in the developed nations, which also have the highest access to food. In fact, some developed countries have both a diminishing population and an abundant food supply. The United Nations projects that the population of 51 countries or areas, including Germany, Italy, Japan, and most of the states of the former Soviet Union, is expected to be lower in 2050 than in 2005.[174] This shows that, limited to the scope of the population living within a single given political boundary, particular human populations do not always grow to match the available food supply. However, the global population as a whole still grows in accordance with the total food supply and many of these wealthier countries are major exporters of food to poorer populations, so that, according to Hopfenberg and Pimentel's 2001 research, \"it is through exports from food-rich to food-poor areas... that the population growth in these food-poor areas is further fueled.[154] Their study thus suggests that human population growth is an exacerbating feedback loop in which food availability creates a growing population, which then causes the misimpression that food production must be consequently expanded even further.[175]\n",
      "Regardless of criticisms against the theory that population is a function of food availability, the human population is, on the global scale, undeniably increasing,[176] as is the net quantity of human food produced—a pattern that has been true for roughly 10,000 years, since the human development of agriculture. The fact that some affluent countries demonstrate negative population growth fails to discredit the theory as a whole, since the world has become a globalized system with food moving across national borders from areas of abundance to areas of scarcity. Hopfenberg and Pimentel's  2001 findings support both this[154] and Daniel Quinn's direct accusation, in the early 2010s, that \"First World farmers are fueling the Third World population explosion\".[177]\n",
      "Lists:\n",
      "Historical:\n",
      "Organizations\n",
      "Statistics and maps\n",
      "Population clocks\n",
      "\n"
     ]
    }
   ],
   "source": [
    "content=\"\"\n",
    "\n",
    "for i in p_tags:\n",
    "    content=content+i.text\n",
    "print(content)"
   ]
  },
  {
   "cell_type": "markdown",
   "id": "04540b54",
   "metadata": {},
   "source": [
    "# Save above content in text file"
   ]
  },
  {
   "cell_type": "code",
   "execution_count": 18,
   "id": "72035737",
   "metadata": {},
   "outputs": [],
   "source": [
    "import os\n",
    "os.chdir(\"C:/DataSets/Wikipedia_Scrap/\")"
   ]
  },
  {
   "cell_type": "code",
   "execution_count": 19,
   "id": "120f98d1",
   "metadata": {},
   "outputs": [],
   "source": [
    "with open('ParagraphContent.txt','w',encoding='utf-8') as file1:\n",
    "    file1.write(content)"
   ]
  },
  {
   "cell_type": "markdown",
   "id": "7f5a429d",
   "metadata": {},
   "source": [
    "# Getting all image links"
   ]
  },
  {
   "cell_type": "code",
   "execution_count": 22,
   "id": "cbbeed4b",
   "metadata": {},
   "outputs": [
    {
     "data": {
      "text/plain": [
       "[<img alt=\"\" aria-hidden=\"true\" class=\"mw-logo-icon\" height=\"50\" src=\"/static/images/icons/wikipedia.png\" width=\"50\"/>,\n",
       " <img alt=\"Wikipedia\" class=\"mw-logo-wordmark\" src=\"/static/images/mobile/copyright/wikipedia-wordmark-en.svg\" style=\"width: 7.5em; height: 1.125em;\"/>,\n",
       " <img alt=\"The Free Encyclopedia\" class=\"mw-logo-tagline\" height=\"13\" src=\"/static/images/mobile/copyright/wikipedia-tagline-en.svg\" style=\"width: 7.3125em; height: 0.8125em;\" width=\"117\"/>,\n",
       " <img alt=\"Page semi-protected\" class=\"mw-file-element\" data-file-height=\"512\" data-file-width=\"512\" decoding=\"async\" height=\"20\" src=\"//upload.wikimedia.org/wikipedia/en/thumb/1/1b/Semi-protection-shackle.svg/20px-Semi-protection-shackle.svg.png\" srcset=\"//upload.wikimedia.org/wikipedia/en/thumb/1/1b/Semi-protection-shackle.svg/30px-Semi-protection-shackle.svg.png 1.5x, //upload.wikimedia.org/wikipedia/en/thumb/1/1b/Semi-protection-shackle.svg/40px-Semi-protection-shackle.svg.png 2x\" width=\"20\"/>,\n",
       " <img class=\"mw-file-element\" data-file-height=\"676\" data-file-width=\"900\" decoding=\"async\" height=\"165\" src=\"//upload.wikimedia.org/wikipedia/commons/thumb/0/0e/World_Population_Prospects.svg/220px-World_Population_Prospects.svg.png\" srcset=\"//upload.wikimedia.org/wikipedia/commons/thumb/0/0e/World_Population_Prospects.svg/330px-World_Population_Prospects.svg.png 1.5x, //upload.wikimedia.org/wikipedia/commons/thumb/0/0e/World_Population_Prospects.svg/440px-World_Population_Prospects.svg.png 2x\" width=\"220\"/>,\n",
       " <img class=\"mw-file-element\" data-file-height=\"7747\" data-file-width=\"5201\" decoding=\"async\" height=\"328\" src=\"//upload.wikimedia.org/wikipedia/commons/thumb/d/d2/Illustration_of_contemporary_and_past_human_populations_Our_World_in_Data.png/220px-Illustration_of_contemporary_and_past_human_populations_Our_World_in_Data.png\" srcset=\"//upload.wikimedia.org/wikipedia/commons/thumb/d/d2/Illustration_of_contemporary_and_past_human_populations_Our_World_in_Data.png/330px-Illustration_of_contemporary_and_past_human_populations_Our_World_in_Data.png 1.5x, //upload.wikimedia.org/wikipedia/commons/thumb/d/d2/Illustration_of_contemporary_and_past_human_populations_Our_World_in_Data.png/440px-Illustration_of_contemporary_and_past_human_populations_Our_World_in_Data.png 2x\" width=\"220\"/>,\n",
       " <img class=\"mw-file-element\" data-file-height=\"625\" data-file-width=\"1425\" decoding=\"async\" height=\"154\" src=\"//upload.wikimedia.org/wikipedia/commons/thumb/3/3d/2006megacities.svg/350px-2006megacities.svg.png\" srcset=\"//upload.wikimedia.org/wikipedia/commons/thumb/3/3d/2006megacities.svg/525px-2006megacities.svg.png 1.5x, //upload.wikimedia.org/wikipedia/commons/thumb/3/3d/2006megacities.svg/700px-2006megacities.svg.png 2x\" width=\"350\"/>,\n",
       " <img class=\"mw-file-element\" data-file-height=\"1200\" data-file-width=\"2754\" decoding=\"async\" height=\"174\" src=\"//upload.wikimedia.org/wikipedia/commons/thumb/f/fa/Expectancy_of_life.svg/400px-Expectancy_of_life.svg.png\" srcset=\"//upload.wikimedia.org/wikipedia/commons/thumb/f/fa/Expectancy_of_life.svg/600px-Expectancy_of_life.svg.png 1.5x, //upload.wikimedia.org/wikipedia/commons/thumb/f/fa/Expectancy_of_life.svg/800px-Expectancy_of_life.svg.png 2x\" width=\"400\"/>,\n",
       " <img class=\"mw-file-element\" data-file-height=\"2003\" data-file-width=\"2539\" decoding=\"async\" height=\"237\" src=\"//upload.wikimedia.org/wikipedia/commons/thumb/f/fa/Population_pyramid_of_the_world_in_continental_groupings_2023.svg/300px-Population_pyramid_of_the_world_in_continental_groupings_2023.svg.png\" srcset=\"//upload.wikimedia.org/wikipedia/commons/thumb/f/fa/Population_pyramid_of_the_world_in_continental_groupings_2023.svg/450px-Population_pyramid_of_the_world_in_continental_groupings_2023.svg.png 1.5x, //upload.wikimedia.org/wikipedia/commons/thumb/f/fa/Population_pyramid_of_the_world_in_continental_groupings_2023.svg/600px-Population_pyramid_of_the_world_in_continental_groupings_2023.svg.png 2x\" width=\"300\"/>,\n",
       " <img alt=\"\" class=\"mw-file-element\" data-file-height=\"620\" data-file-width=\"620\" decoding=\"async\" height=\"40\" src=\"//upload.wikimedia.org/wikipedia/en/thumb/1/1d/Information_icon4.svg/40px-Information_icon4.svg.png\" srcset=\"//upload.wikimedia.org/wikipedia/en/thumb/1/1d/Information_icon4.svg/60px-Information_icon4.svg.png 1.5x, //upload.wikimedia.org/wikipedia/en/thumb/1/1d/Information_icon4.svg/80px-Information_icon4.svg.png 2x\" width=\"40\"/>,\n",
       " <img alt=\"\" class=\"mw-file-element\" data-file-height=\"600\" data-file-width=\"900\" decoding=\"async\" height=\"15\" src=\"//upload.wikimedia.org/wikipedia/en/thumb/4/41/Flag_of_India.svg/23px-Flag_of_India.svg.png\" srcset=\"//upload.wikimedia.org/wikipedia/en/thumb/4/41/Flag_of_India.svg/35px-Flag_of_India.svg.png 1.5x, //upload.wikimedia.org/wikipedia/en/thumb/4/41/Flag_of_India.svg/45px-Flag_of_India.svg.png 2x\" width=\"23\"/>,\n",
       " <img alt=\"Japan\" class=\"mw-file-element\" data-file-height=\"600\" data-file-width=\"900\" decoding=\"async\" height=\"15\" src=\"//upload.wikimedia.org/wikipedia/en/thumb/9/9e/Flag_of_Japan.svg/23px-Flag_of_Japan.svg.png\" srcset=\"//upload.wikimedia.org/wikipedia/en/thumb/9/9e/Flag_of_Japan.svg/35px-Flag_of_Japan.svg.png 1.5x, //upload.wikimedia.org/wikipedia/en/thumb/9/9e/Flag_of_Japan.svg/45px-Flag_of_Japan.svg.png 2x\" width=\"23\"/>,\n",
       " <img alt=\"Japan\" class=\"mw-file-element\" data-file-height=\"600\" data-file-width=\"900\" decoding=\"async\" height=\"15\" src=\"//upload.wikimedia.org/wikipedia/en/thumb/9/9e/Flag_of_Japan.svg/23px-Flag_of_Japan.svg.png\" srcset=\"//upload.wikimedia.org/wikipedia/en/thumb/9/9e/Flag_of_Japan.svg/35px-Flag_of_Japan.svg.png 1.5x, //upload.wikimedia.org/wikipedia/en/thumb/9/9e/Flag_of_Japan.svg/45px-Flag_of_Japan.svg.png 2x\" width=\"23\"/>,\n",
       " <img alt=\"\" class=\"mw-file-element\" data-file-height=\"600\" data-file-width=\"1200\" decoding=\"async\" height=\"12\" src=\"//upload.wikimedia.org/wikipedia/commons/thumb/7/79/Flag_of_Nigeria.svg/23px-Flag_of_Nigeria.svg.png\" srcset=\"//upload.wikimedia.org/wikipedia/commons/thumb/7/79/Flag_of_Nigeria.svg/35px-Flag_of_Nigeria.svg.png 1.5x, //upload.wikimedia.org/wikipedia/commons/thumb/7/79/Flag_of_Nigeria.svg/46px-Flag_of_Nigeria.svg.png 2x\" width=\"23\"/>,\n",
       " <img alt=\"Egypt\" class=\"mw-file-element\" data-file-height=\"600\" data-file-width=\"900\" decoding=\"async\" height=\"15\" src=\"//upload.wikimedia.org/wikipedia/commons/thumb/f/fe/Flag_of_Egypt.svg/23px-Flag_of_Egypt.svg.png\" srcset=\"//upload.wikimedia.org/wikipedia/commons/thumb/f/fe/Flag_of_Egypt.svg/35px-Flag_of_Egypt.svg.png 1.5x, //upload.wikimedia.org/wikipedia/commons/thumb/f/fe/Flag_of_Egypt.svg/45px-Flag_of_Egypt.svg.png 2x\" width=\"23\"/>,\n",
       " <img alt=\"Egypt\" class=\"mw-file-element\" data-file-height=\"600\" data-file-width=\"900\" decoding=\"async\" height=\"15\" src=\"//upload.wikimedia.org/wikipedia/commons/thumb/f/fe/Flag_of_Egypt.svg/23px-Flag_of_Egypt.svg.png\" srcset=\"//upload.wikimedia.org/wikipedia/commons/thumb/f/fe/Flag_of_Egypt.svg/35px-Flag_of_Egypt.svg.png 1.5x, //upload.wikimedia.org/wikipedia/commons/thumb/f/fe/Flag_of_Egypt.svg/45px-Flag_of_Egypt.svg.png 2x\" width=\"23\"/>,\n",
       " <img alt=\"\" class=\"mw-file-element\" data-file-height=\"600\" data-file-width=\"900\" decoding=\"async\" height=\"15\" src=\"//upload.wikimedia.org/wikipedia/en/thumb/f/f3/Flag_of_Russia.svg/23px-Flag_of_Russia.svg.png\" srcset=\"//upload.wikimedia.org/wikipedia/en/thumb/f/f3/Flag_of_Russia.svg/35px-Flag_of_Russia.svg.png 1.5x, //upload.wikimedia.org/wikipedia/en/thumb/f/f3/Flag_of_Russia.svg/45px-Flag_of_Russia.svg.png 2x\" width=\"23\"/>,\n",
       " <img alt=\"Russia\" class=\"mw-file-element\" data-file-height=\"600\" data-file-width=\"900\" decoding=\"async\" height=\"15\" src=\"//upload.wikimedia.org/wikipedia/en/thumb/f/f3/Flag_of_Russia.svg/23px-Flag_of_Russia.svg.png\" srcset=\"//upload.wikimedia.org/wikipedia/en/thumb/f/f3/Flag_of_Russia.svg/35px-Flag_of_Russia.svg.png 1.5x, //upload.wikimedia.org/wikipedia/en/thumb/f/f3/Flag_of_Russia.svg/45px-Flag_of_Russia.svg.png 2x\" width=\"23\"/>,\n",
       " <img alt=\"Russia\" class=\"mw-file-element\" data-file-height=\"600\" data-file-width=\"900\" decoding=\"async\" height=\"15\" src=\"//upload.wikimedia.org/wikipedia/en/thumb/f/f3/Flag_of_Russia.svg/23px-Flag_of_Russia.svg.png\" srcset=\"//upload.wikimedia.org/wikipedia/en/thumb/f/f3/Flag_of_Russia.svg/35px-Flag_of_Russia.svg.png 1.5x, //upload.wikimedia.org/wikipedia/en/thumb/f/f3/Flag_of_Russia.svg/45px-Flag_of_Russia.svg.png 2x\" width=\"23\"/>,\n",
       " <img alt=\"\" class=\"mw-file-element\" data-file-height=\"504\" data-file-width=\"720\" decoding=\"async\" height=\"15\" src=\"//upload.wikimedia.org/wikipedia/en/thumb/0/05/Flag_of_Brazil.svg/22px-Flag_of_Brazil.svg.png\" srcset=\"//upload.wikimedia.org/wikipedia/en/thumb/0/05/Flag_of_Brazil.svg/33px-Flag_of_Brazil.svg.png 1.5x, //upload.wikimedia.org/wikipedia/en/thumb/0/05/Flag_of_Brazil.svg/43px-Flag_of_Brazil.svg.png 2x\" width=\"22\"/>,\n",
       " <img alt=\"Brazil\" class=\"mw-file-element\" data-file-height=\"504\" data-file-width=\"720\" decoding=\"async\" height=\"15\" src=\"//upload.wikimedia.org/wikipedia/en/thumb/0/05/Flag_of_Brazil.svg/22px-Flag_of_Brazil.svg.png\" srcset=\"//upload.wikimedia.org/wikipedia/en/thumb/0/05/Flag_of_Brazil.svg/33px-Flag_of_Brazil.svg.png 1.5x, //upload.wikimedia.org/wikipedia/en/thumb/0/05/Flag_of_Brazil.svg/43px-Flag_of_Brazil.svg.png 2x\" width=\"22\"/>,\n",
       " <img alt=\"Brazil\" class=\"mw-file-element\" data-file-height=\"504\" data-file-width=\"720\" decoding=\"async\" height=\"15\" src=\"//upload.wikimedia.org/wikipedia/en/thumb/0/05/Flag_of_Brazil.svg/22px-Flag_of_Brazil.svg.png\" srcset=\"//upload.wikimedia.org/wikipedia/en/thumb/0/05/Flag_of_Brazil.svg/33px-Flag_of_Brazil.svg.png 1.5x, //upload.wikimedia.org/wikipedia/en/thumb/0/05/Flag_of_Brazil.svg/43px-Flag_of_Brazil.svg.png 2x\" width=\"22\"/>,\n",
       " <img alt=\"\" class=\"mw-file-element\" data-file-height=\"650\" data-file-width=\"1235\" decoding=\"async\" height=\"12\" src=\"//upload.wikimedia.org/wikipedia/en/thumb/a/a4/Flag_of_the_United_States.svg/23px-Flag_of_the_United_States.svg.png\" srcset=\"//upload.wikimedia.org/wikipedia/en/thumb/a/a4/Flag_of_the_United_States.svg/35px-Flag_of_the_United_States.svg.png 1.5x, //upload.wikimedia.org/wikipedia/en/thumb/a/a4/Flag_of_the_United_States.svg/46px-Flag_of_the_United_States.svg.png 2x\" width=\"23\"/>,\n",
       " <img alt=\"United States\" class=\"mw-file-element\" data-file-height=\"650\" data-file-width=\"1235\" decoding=\"async\" height=\"12\" src=\"//upload.wikimedia.org/wikipedia/en/thumb/a/a4/Flag_of_the_United_States.svg/23px-Flag_of_the_United_States.svg.png\" srcset=\"//upload.wikimedia.org/wikipedia/en/thumb/a/a4/Flag_of_the_United_States.svg/35px-Flag_of_the_United_States.svg.png 1.5x, //upload.wikimedia.org/wikipedia/en/thumb/a/a4/Flag_of_the_United_States.svg/46px-Flag_of_the_United_States.svg.png 2x\" width=\"23\"/>,\n",
       " <img alt=\"United States\" class=\"mw-file-element\" data-file-height=\"650\" data-file-width=\"1235\" decoding=\"async\" height=\"12\" src=\"//upload.wikimedia.org/wikipedia/en/thumb/a/a4/Flag_of_the_United_States.svg/23px-Flag_of_the_United_States.svg.png\" srcset=\"//upload.wikimedia.org/wikipedia/en/thumb/a/a4/Flag_of_the_United_States.svg/35px-Flag_of_the_United_States.svg.png 1.5x, //upload.wikimedia.org/wikipedia/en/thumb/a/a4/Flag_of_the_United_States.svg/46px-Flag_of_the_United_States.svg.png 2x\" width=\"23\"/>,\n",
       " <img alt=\"\" class=\"mw-file-element\" data-file-height=\"640\" data-file-width=\"1280\" decoding=\"async\" height=\"12\" src=\"//upload.wikimedia.org/wikipedia/commons/thumb/8/88/Flag_of_Australia_%28converted%29.svg/23px-Flag_of_Australia_%28converted%29.svg.png\" srcset=\"//upload.wikimedia.org/wikipedia/commons/thumb/8/88/Flag_of_Australia_%28converted%29.svg/35px-Flag_of_Australia_%28converted%29.svg.png 1.5x, //upload.wikimedia.org/wikipedia/commons/thumb/8/88/Flag_of_Australia_%28converted%29.svg/46px-Flag_of_Australia_%28converted%29.svg.png 2x\" width=\"23\"/>,\n",
       " <img alt=\"Australia\" class=\"mw-file-element\" data-file-height=\"640\" data-file-width=\"1280\" decoding=\"async\" height=\"12\" src=\"//upload.wikimedia.org/wikipedia/commons/thumb/8/88/Flag_of_Australia_%28converted%29.svg/23px-Flag_of_Australia_%28converted%29.svg.png\" srcset=\"//upload.wikimedia.org/wikipedia/commons/thumb/8/88/Flag_of_Australia_%28converted%29.svg/35px-Flag_of_Australia_%28converted%29.svg.png 1.5x, //upload.wikimedia.org/wikipedia/commons/thumb/8/88/Flag_of_Australia_%28converted%29.svg/46px-Flag_of_Australia_%28converted%29.svg.png 2x\" width=\"23\"/>,\n",
       " <img alt=\"Antarctica\" class=\"mw-file-element\" data-file-height=\"600\" data-file-width=\"900\" decoding=\"async\" height=\"15\" src=\"//upload.wikimedia.org/wikipedia/commons/thumb/b/bb/Proposed_flag_of_Antarctica_%28Graham_Bartram%29.svg/23px-Proposed_flag_of_Antarctica_%28Graham_Bartram%29.svg.png\" srcset=\"//upload.wikimedia.org/wikipedia/commons/thumb/b/bb/Proposed_flag_of_Antarctica_%28Graham_Bartram%29.svg/35px-Proposed_flag_of_Antarctica_%28Graham_Bartram%29.svg.png 1.5x, //upload.wikimedia.org/wikipedia/commons/thumb/b/bb/Proposed_flag_of_Antarctica_%28Graham_Bartram%29.svg/45px-Proposed_flag_of_Antarctica_%28Graham_Bartram%29.svg.png 2x\" width=\"23\"/>,\n",
       " <img class=\"mw-file-element\" data-file-height=\"3131\" data-file-width=\"8192\" decoding=\"async\" height=\"115\" src=\"//upload.wikimedia.org/wikipedia/commons/thumb/9/90/Global_population_cartogram.png/300px-Global_population_cartogram.png\" srcset=\"//upload.wikimedia.org/wikipedia/commons/thumb/9/90/Global_population_cartogram.png/450px-Global_population_cartogram.png 1.5x, //upload.wikimedia.org/wikipedia/commons/thumb/9/90/Global_population_cartogram.png/600px-Global_population_cartogram.png 2x\" width=\"300\"/>,\n",
       " <img class=\"mw-file-element\" data-file-height=\"2866\" data-file-width=\"5489\" decoding=\"async\" height=\"157\" src=\"//upload.wikimedia.org/wikipedia/commons/thumb/8/8c/People%27s_-Km%C2%B2_for_all_countries_%28and_us_states%2C_uk_kingdoms%29.png/300px-People%27s_-Km%C2%B2_for_all_countries_%28and_us_states%2C_uk_kingdoms%29.png\" srcset=\"//upload.wikimedia.org/wikipedia/commons/thumb/8/8c/People%27s_-Km%C2%B2_for_all_countries_%28and_us_states%2C_uk_kingdoms%29.png/450px-People%27s_-Km%C2%B2_for_all_countries_%28and_us_states%2C_uk_kingdoms%29.png 1.5x, //upload.wikimedia.org/wikipedia/commons/thumb/8/8c/People%27s_-Km%C2%B2_for_all_countries_%28and_us_states%2C_uk_kingdoms%29.png/600px-People%27s_-Km%C2%B2_for_all_countries_%28and_us_states%2C_uk_kingdoms%29.png 2x\" width=\"300\"/>,\n",
       " <img class=\"mw-file-element\" data-file-height=\"600\" data-file-width=\"850\" decoding=\"async\" height=\"212\" src=\"//upload.wikimedia.org/wikipedia/commons/thumb/f/fa/Top_5_Country_Population_Graph_1901_to_2021.svg/300px-Top_5_Country_Population_Graph_1901_to_2021.svg.png\" srcset=\"//upload.wikimedia.org/wikipedia/commons/thumb/f/fa/Top_5_Country_Population_Graph_1901_to_2021.svg/450px-Top_5_Country_Population_Graph_1901_to_2021.svg.png 1.5x, //upload.wikimedia.org/wikipedia/commons/thumb/f/fa/Top_5_Country_Population_Graph_1901_to_2021.svg/600px-Top_5_Country_Population_Graph_1901_to_2021.svg.png 2x\" width=\"300\"/>,\n",
       " <img alt=\"\" class=\"mw-file-element\" data-file-height=\"600\" data-file-width=\"900\" decoding=\"async\" height=\"15\" src=\"//upload.wikimedia.org/wikipedia/en/thumb/4/41/Flag_of_India.svg/23px-Flag_of_India.svg.png\" srcset=\"//upload.wikimedia.org/wikipedia/en/thumb/4/41/Flag_of_India.svg/35px-Flag_of_India.svg.png 1.5x, //upload.wikimedia.org/wikipedia/en/thumb/4/41/Flag_of_India.svg/45px-Flag_of_India.svg.png 2x\" width=\"23\"/>,\n",
       " <img alt=\"\" class=\"mw-file-element\" data-file-height=\"600\" data-file-width=\"900\" decoding=\"async\" height=\"15\" src=\"//upload.wikimedia.org/wikipedia/commons/thumb/f/fa/Flag_of_the_People%27s_Republic_of_China.svg/23px-Flag_of_the_People%27s_Republic_of_China.svg.png\" srcset=\"//upload.wikimedia.org/wikipedia/commons/thumb/f/fa/Flag_of_the_People%27s_Republic_of_China.svg/35px-Flag_of_the_People%27s_Republic_of_China.svg.png 1.5x, //upload.wikimedia.org/wikipedia/commons/thumb/f/fa/Flag_of_the_People%27s_Republic_of_China.svg/45px-Flag_of_the_People%27s_Republic_of_China.svg.png 2x\" width=\"23\"/>,\n",
       " <img alt=\"\" class=\"mw-file-element\" data-file-height=\"650\" data-file-width=\"1235\" decoding=\"async\" height=\"12\" src=\"//upload.wikimedia.org/wikipedia/en/thumb/a/a4/Flag_of_the_United_States.svg/23px-Flag_of_the_United_States.svg.png\" srcset=\"//upload.wikimedia.org/wikipedia/en/thumb/a/a4/Flag_of_the_United_States.svg/35px-Flag_of_the_United_States.svg.png 1.5x, //upload.wikimedia.org/wikipedia/en/thumb/a/a4/Flag_of_the_United_States.svg/46px-Flag_of_the_United_States.svg.png 2x\" width=\"23\"/>,\n",
       " <img alt=\"\" class=\"mw-file-element\" data-file-height=\"600\" data-file-width=\"900\" decoding=\"async\" height=\"15\" src=\"//upload.wikimedia.org/wikipedia/commons/thumb/9/9f/Flag_of_Indonesia.svg/23px-Flag_of_Indonesia.svg.png\" srcset=\"//upload.wikimedia.org/wikipedia/commons/thumb/9/9f/Flag_of_Indonesia.svg/35px-Flag_of_Indonesia.svg.png 1.5x, //upload.wikimedia.org/wikipedia/commons/thumb/9/9f/Flag_of_Indonesia.svg/45px-Flag_of_Indonesia.svg.png 2x\" width=\"23\"/>,\n",
       " <img alt=\"\" class=\"mw-file-element\" data-file-height=\"600\" data-file-width=\"900\" decoding=\"async\" height=\"15\" src=\"//upload.wikimedia.org/wikipedia/commons/thumb/3/32/Flag_of_Pakistan.svg/23px-Flag_of_Pakistan.svg.png\" srcset=\"//upload.wikimedia.org/wikipedia/commons/thumb/3/32/Flag_of_Pakistan.svg/35px-Flag_of_Pakistan.svg.png 1.5x, //upload.wikimedia.org/wikipedia/commons/thumb/3/32/Flag_of_Pakistan.svg/45px-Flag_of_Pakistan.svg.png 2x\" width=\"23\"/>,\n",
       " <img alt=\"\" class=\"mw-file-element\" data-file-height=\"600\" data-file-width=\"1200\" decoding=\"async\" height=\"12\" src=\"//upload.wikimedia.org/wikipedia/commons/thumb/7/79/Flag_of_Nigeria.svg/23px-Flag_of_Nigeria.svg.png\" srcset=\"//upload.wikimedia.org/wikipedia/commons/thumb/7/79/Flag_of_Nigeria.svg/35px-Flag_of_Nigeria.svg.png 1.5x, //upload.wikimedia.org/wikipedia/commons/thumb/7/79/Flag_of_Nigeria.svg/46px-Flag_of_Nigeria.svg.png 2x\" width=\"23\"/>,\n",
       " <img alt=\"\" class=\"mw-file-element\" data-file-height=\"504\" data-file-width=\"720\" decoding=\"async\" height=\"15\" src=\"//upload.wikimedia.org/wikipedia/en/thumb/0/05/Flag_of_Brazil.svg/22px-Flag_of_Brazil.svg.png\" srcset=\"//upload.wikimedia.org/wikipedia/en/thumb/0/05/Flag_of_Brazil.svg/33px-Flag_of_Brazil.svg.png 1.5x, //upload.wikimedia.org/wikipedia/en/thumb/0/05/Flag_of_Brazil.svg/43px-Flag_of_Brazil.svg.png 2x\" width=\"22\"/>,\n",
       " <img alt=\"\" class=\"mw-file-element\" data-file-height=\"600\" data-file-width=\"1000\" decoding=\"async\" height=\"14\" src=\"//upload.wikimedia.org/wikipedia/commons/thumb/f/f9/Flag_of_Bangladesh.svg/23px-Flag_of_Bangladesh.svg.png\" srcset=\"//upload.wikimedia.org/wikipedia/commons/thumb/f/f9/Flag_of_Bangladesh.svg/35px-Flag_of_Bangladesh.svg.png 1.5x, //upload.wikimedia.org/wikipedia/commons/thumb/f/f9/Flag_of_Bangladesh.svg/46px-Flag_of_Bangladesh.svg.png 2x\" width=\"23\"/>,\n",
       " <img alt=\"\" class=\"mw-file-element\" data-file-height=\"600\" data-file-width=\"900\" decoding=\"async\" height=\"15\" src=\"//upload.wikimedia.org/wikipedia/en/thumb/f/f3/Flag_of_Russia.svg/23px-Flag_of_Russia.svg.png\" srcset=\"//upload.wikimedia.org/wikipedia/en/thumb/f/f3/Flag_of_Russia.svg/35px-Flag_of_Russia.svg.png 1.5x, //upload.wikimedia.org/wikipedia/en/thumb/f/f3/Flag_of_Russia.svg/45px-Flag_of_Russia.svg.png 2x\" width=\"23\"/>,\n",
       " <img alt=\"\" class=\"mw-file-element\" data-file-height=\"560\" data-file-width=\"980\" decoding=\"async\" height=\"13\" src=\"//upload.wikimedia.org/wikipedia/commons/thumb/f/fc/Flag_of_Mexico.svg/23px-Flag_of_Mexico.svg.png\" srcset=\"//upload.wikimedia.org/wikipedia/commons/thumb/f/fc/Flag_of_Mexico.svg/35px-Flag_of_Mexico.svg.png 1.5x, //upload.wikimedia.org/wikipedia/commons/thumb/f/fc/Flag_of_Mexico.svg/46px-Flag_of_Mexico.svg.png 2x\" width=\"23\"/>,\n",
       " <img alt=\"\" class=\"mw-file-element\" data-file-height=\"620\" data-file-width=\"620\" decoding=\"async\" height=\"40\" src=\"//upload.wikimedia.org/wikipedia/en/thumb/1/1d/Information_icon4.svg/40px-Information_icon4.svg.png\" srcset=\"//upload.wikimedia.org/wikipedia/en/thumb/1/1d/Information_icon4.svg/60px-Information_icon4.svg.png 1.5x, //upload.wikimedia.org/wikipedia/en/thumb/1/1d/Information_icon4.svg/80px-Information_icon4.svg.png 2x\" width=\"40\"/>,\n",
       " <img alt=\"China\" class=\"mw-file-element\" data-file-height=\"600\" data-file-width=\"900\" decoding=\"async\" height=\"15\" src=\"//upload.wikimedia.org/wikipedia/commons/thumb/f/fa/Flag_of_the_People%27s_Republic_of_China.svg/23px-Flag_of_the_People%27s_Republic_of_China.svg.png\" srcset=\"//upload.wikimedia.org/wikipedia/commons/thumb/f/fa/Flag_of_the_People%27s_Republic_of_China.svg/35px-Flag_of_the_People%27s_Republic_of_China.svg.png 1.5x, //upload.wikimedia.org/wikipedia/commons/thumb/f/fa/Flag_of_the_People%27s_Republic_of_China.svg/45px-Flag_of_the_People%27s_Republic_of_China.svg.png 2x\" width=\"23\"/>,\n",
       " <img alt=\"India\" class=\"mw-file-element\" data-file-height=\"600\" data-file-width=\"900\" decoding=\"async\" height=\"15\" src=\"//upload.wikimedia.org/wikipedia/en/thumb/4/41/Flag_of_India.svg/23px-Flag_of_India.svg.png\" srcset=\"//upload.wikimedia.org/wikipedia/en/thumb/4/41/Flag_of_India.svg/35px-Flag_of_India.svg.png 1.5x, //upload.wikimedia.org/wikipedia/en/thumb/4/41/Flag_of_India.svg/45px-Flag_of_India.svg.png 2x\" width=\"23\"/>,\n",
       " <img alt=\"United States\" class=\"mw-file-element\" data-file-height=\"650\" data-file-width=\"1235\" decoding=\"async\" height=\"12\" src=\"//upload.wikimedia.org/wikipedia/en/thumb/a/a4/Flag_of_the_United_States.svg/23px-Flag_of_the_United_States.svg.png\" srcset=\"//upload.wikimedia.org/wikipedia/en/thumb/a/a4/Flag_of_the_United_States.svg/35px-Flag_of_the_United_States.svg.png 1.5x, //upload.wikimedia.org/wikipedia/en/thumb/a/a4/Flag_of_the_United_States.svg/46px-Flag_of_the_United_States.svg.png 2x\" width=\"23\"/>,\n",
       " <img alt=\"Indonesia\" class=\"mw-file-element\" data-file-height=\"600\" data-file-width=\"900\" decoding=\"async\" height=\"15\" src=\"//upload.wikimedia.org/wikipedia/commons/thumb/9/9f/Flag_of_Indonesia.svg/23px-Flag_of_Indonesia.svg.png\" srcset=\"//upload.wikimedia.org/wikipedia/commons/thumb/9/9f/Flag_of_Indonesia.svg/35px-Flag_of_Indonesia.svg.png 1.5x, //upload.wikimedia.org/wikipedia/commons/thumb/9/9f/Flag_of_Indonesia.svg/45px-Flag_of_Indonesia.svg.png 2x\" width=\"23\"/>,\n",
       " <img alt=\"Pakistan\" class=\"mw-file-element\" data-file-height=\"600\" data-file-width=\"900\" decoding=\"async\" height=\"15\" src=\"//upload.wikimedia.org/wikipedia/commons/thumb/3/32/Flag_of_Pakistan.svg/23px-Flag_of_Pakistan.svg.png\" srcset=\"//upload.wikimedia.org/wikipedia/commons/thumb/3/32/Flag_of_Pakistan.svg/35px-Flag_of_Pakistan.svg.png 1.5x, //upload.wikimedia.org/wikipedia/commons/thumb/3/32/Flag_of_Pakistan.svg/45px-Flag_of_Pakistan.svg.png 2x\" width=\"23\"/>,\n",
       " <img alt=\"Brazil\" class=\"mw-file-element\" data-file-height=\"504\" data-file-width=\"720\" decoding=\"async\" height=\"15\" src=\"//upload.wikimedia.org/wikipedia/en/thumb/0/05/Flag_of_Brazil.svg/22px-Flag_of_Brazil.svg.png\" srcset=\"//upload.wikimedia.org/wikipedia/en/thumb/0/05/Flag_of_Brazil.svg/33px-Flag_of_Brazil.svg.png 1.5x, //upload.wikimedia.org/wikipedia/en/thumb/0/05/Flag_of_Brazil.svg/43px-Flag_of_Brazil.svg.png 2x\" width=\"22\"/>,\n",
       " <img alt=\"Nigeria\" class=\"mw-file-element\" data-file-height=\"600\" data-file-width=\"1200\" decoding=\"async\" height=\"12\" src=\"//upload.wikimedia.org/wikipedia/commons/thumb/7/79/Flag_of_Nigeria.svg/23px-Flag_of_Nigeria.svg.png\" srcset=\"//upload.wikimedia.org/wikipedia/commons/thumb/7/79/Flag_of_Nigeria.svg/35px-Flag_of_Nigeria.svg.png 1.5x, //upload.wikimedia.org/wikipedia/commons/thumb/7/79/Flag_of_Nigeria.svg/46px-Flag_of_Nigeria.svg.png 2x\" width=\"23\"/>,\n",
       " <img alt=\"Bangladesh\" class=\"mw-file-element\" data-file-height=\"600\" data-file-width=\"1000\" decoding=\"async\" height=\"14\" src=\"//upload.wikimedia.org/wikipedia/commons/thumb/f/f9/Flag_of_Bangladesh.svg/23px-Flag_of_Bangladesh.svg.png\" srcset=\"//upload.wikimedia.org/wikipedia/commons/thumb/f/f9/Flag_of_Bangladesh.svg/35px-Flag_of_Bangladesh.svg.png 1.5x, //upload.wikimedia.org/wikipedia/commons/thumb/f/f9/Flag_of_Bangladesh.svg/46px-Flag_of_Bangladesh.svg.png 2x\" width=\"23\"/>,\n",
       " <img alt=\"Russia\" class=\"mw-file-element\" data-file-height=\"600\" data-file-width=\"900\" decoding=\"async\" height=\"15\" src=\"//upload.wikimedia.org/wikipedia/en/thumb/f/f3/Flag_of_Russia.svg/23px-Flag_of_Russia.svg.png\" srcset=\"//upload.wikimedia.org/wikipedia/en/thumb/f/f3/Flag_of_Russia.svg/35px-Flag_of_Russia.svg.png 1.5x, //upload.wikimedia.org/wikipedia/en/thumb/f/f3/Flag_of_Russia.svg/45px-Flag_of_Russia.svg.png 2x\" width=\"23\"/>,\n",
       " <img alt=\"Mexico\" class=\"mw-file-element\" data-file-height=\"560\" data-file-width=\"980\" decoding=\"async\" height=\"13\" src=\"//upload.wikimedia.org/wikipedia/commons/thumb/f/fc/Flag_of_Mexico.svg/23px-Flag_of_Mexico.svg.png\" srcset=\"//upload.wikimedia.org/wikipedia/commons/thumb/f/fc/Flag_of_Mexico.svg/35px-Flag_of_Mexico.svg.png 1.5x, //upload.wikimedia.org/wikipedia/commons/thumb/f/fc/Flag_of_Mexico.svg/46px-Flag_of_Mexico.svg.png 2x\" width=\"23\"/>,\n",
       " <img class=\"mw-file-element\" data-file-height=\"2231\" data-file-width=\"3053\" decoding=\"async\" height=\"241\" src=\"//upload.wikimedia.org/wikipedia/commons/thumb/2/2e/Population_Density%2C_v4.11%2C_2020_%2848009093621%29.jpg/330px-Population_Density%2C_v4.11%2C_2020_%2848009093621%29.jpg\" srcset=\"//upload.wikimedia.org/wikipedia/commons/thumb/2/2e/Population_Density%2C_v4.11%2C_2020_%2848009093621%29.jpg/495px-Population_Density%2C_v4.11%2C_2020_%2848009093621%29.jpg 1.5x, //upload.wikimedia.org/wikipedia/commons/thumb/2/2e/Population_Density%2C_v4.11%2C_2020_%2848009093621%29.jpg/660px-Population_Density%2C_v4.11%2C_2020_%2848009093621%29.jpg 2x\" width=\"330\"/>,\n",
       " <img alt=\"\" class=\"mw-file-element\" data-file-height=\"600\" data-file-width=\"900\" decoding=\"async\" height=\"15\" src=\"//upload.wikimedia.org/wikipedia/commons/thumb/4/48/Flag_of_Singapore.svg/23px-Flag_of_Singapore.svg.png\" srcset=\"//upload.wikimedia.org/wikipedia/commons/thumb/4/48/Flag_of_Singapore.svg/35px-Flag_of_Singapore.svg.png 1.5x, //upload.wikimedia.org/wikipedia/commons/thumb/4/48/Flag_of_Singapore.svg/45px-Flag_of_Singapore.svg.png 2x\" width=\"23\"/>,\n",
       " <img alt=\"\" class=\"mw-file-element\" data-file-height=\"600\" data-file-width=\"1000\" decoding=\"async\" height=\"14\" src=\"//upload.wikimedia.org/wikipedia/commons/thumb/f/f9/Flag_of_Bangladesh.svg/23px-Flag_of_Bangladesh.svg.png\" srcset=\"//upload.wikimedia.org/wikipedia/commons/thumb/f/f9/Flag_of_Bangladesh.svg/35px-Flag_of_Bangladesh.svg.png 1.5x, //upload.wikimedia.org/wikipedia/commons/thumb/f/f9/Flag_of_Bangladesh.svg/46px-Flag_of_Bangladesh.svg.png 2x\" width=\"23\"/>,\n",
       " <img alt=\"\" class=\"mw-file-element\" data-file-height=\"600\" data-file-width=\"1200\" decoding=\"async\" height=\"12\" src=\"//upload.wikimedia.org/wikipedia/commons/thumb/0/00/Flag_of_Palestine.svg/23px-Flag_of_Palestine.svg.png\" srcset=\"//upload.wikimedia.org/wikipedia/commons/thumb/0/00/Flag_of_Palestine.svg/35px-Flag_of_Palestine.svg.png 1.5x, //upload.wikimedia.org/wikipedia/commons/thumb/0/00/Flag_of_Palestine.svg/46px-Flag_of_Palestine.svg.png 2x\" width=\"23\"/>,\n",
       " <img alt=\"\" class=\"mw-file-element\" data-file-height=\"600\" data-file-width=\"900\" decoding=\"async\" height=\"15\" src=\"//upload.wikimedia.org/wikipedia/commons/thumb/7/72/Flag_of_the_Republic_of_China.svg/23px-Flag_of_the_Republic_of_China.svg.png\" srcset=\"//upload.wikimedia.org/wikipedia/commons/thumb/7/72/Flag_of_the_Republic_of_China.svg/35px-Flag_of_the_Republic_of_China.svg.png 1.5x, //upload.wikimedia.org/wikipedia/commons/thumb/7/72/Flag_of_the_Republic_of_China.svg/45px-Flag_of_the_Republic_of_China.svg.png 2x\" width=\"23\"/>,\n",
       " <img alt=\"\" class=\"mw-file-element\" data-file-height=\"600\" data-file-width=\"900\" decoding=\"async\" height=\"15\" src=\"//upload.wikimedia.org/wikipedia/commons/thumb/0/09/Flag_of_South_Korea.svg/23px-Flag_of_South_Korea.svg.png\" srcset=\"//upload.wikimedia.org/wikipedia/commons/thumb/0/09/Flag_of_South_Korea.svg/35px-Flag_of_South_Korea.svg.png 1.5x, //upload.wikimedia.org/wikipedia/commons/thumb/0/09/Flag_of_South_Korea.svg/45px-Flag_of_South_Korea.svg.png 2x\" width=\"23\"/>,\n",
       " <img alt=\"\" class=\"mw-file-element\" data-file-height=\"600\" data-file-width=\"900\" decoding=\"async\" height=\"15\" src=\"//upload.wikimedia.org/wikipedia/commons/thumb/5/59/Flag_of_Lebanon.svg/23px-Flag_of_Lebanon.svg.png\" srcset=\"//upload.wikimedia.org/wikipedia/commons/thumb/5/59/Flag_of_Lebanon.svg/35px-Flag_of_Lebanon.svg.png 1.5x, //upload.wikimedia.org/wikipedia/commons/thumb/5/59/Flag_of_Lebanon.svg/45px-Flag_of_Lebanon.svg.png 2x\" width=\"23\"/>,\n",
       " <img alt=\"\" class=\"mw-file-element\" data-file-height=\"600\" data-file-width=\"900\" decoding=\"async\" height=\"15\" src=\"//upload.wikimedia.org/wikipedia/commons/thumb/1/17/Flag_of_Rwanda.svg/23px-Flag_of_Rwanda.svg.png\" srcset=\"//upload.wikimedia.org/wikipedia/commons/thumb/1/17/Flag_of_Rwanda.svg/35px-Flag_of_Rwanda.svg.png 1.5x, //upload.wikimedia.org/wikipedia/commons/thumb/1/17/Flag_of_Rwanda.svg/45px-Flag_of_Rwanda.svg.png 2x\" width=\"23\"/>,\n",
       " <img alt=\"\" class=\"mw-file-element\" data-file-height=\"600\" data-file-width=\"1000\" decoding=\"async\" height=\"14\" src=\"//upload.wikimedia.org/wikipedia/commons/thumb/5/50/Flag_of_Burundi.svg/23px-Flag_of_Burundi.svg.png\" srcset=\"//upload.wikimedia.org/wikipedia/commons/thumb/5/50/Flag_of_Burundi.svg/35px-Flag_of_Burundi.svg.png 1.5x, //upload.wikimedia.org/wikipedia/commons/thumb/5/50/Flag_of_Burundi.svg/46px-Flag_of_Burundi.svg.png 2x\" width=\"23\"/>,\n",
       " <img alt=\"\" class=\"mw-file-element\" data-file-height=\"600\" data-file-width=\"900\" decoding=\"async\" height=\"15\" src=\"//upload.wikimedia.org/wikipedia/en/thumb/4/41/Flag_of_India.svg/23px-Flag_of_India.svg.png\" srcset=\"//upload.wikimedia.org/wikipedia/en/thumb/4/41/Flag_of_India.svg/35px-Flag_of_India.svg.png 1.5x, //upload.wikimedia.org/wikipedia/en/thumb/4/41/Flag_of_India.svg/45px-Flag_of_India.svg.png 2x\" width=\"23\"/>,\n",
       " <img alt=\"\" class=\"mw-file-element\" data-file-height=\"600\" data-file-width=\"900\" decoding=\"async\" height=\"15\" src=\"//upload.wikimedia.org/wikipedia/commons/thumb/2/20/Flag_of_the_Netherlands.svg/23px-Flag_of_the_Netherlands.svg.png\" srcset=\"//upload.wikimedia.org/wikipedia/commons/thumb/2/20/Flag_of_the_Netherlands.svg/35px-Flag_of_the_Netherlands.svg.png 1.5x, //upload.wikimedia.org/wikipedia/commons/thumb/2/20/Flag_of_the_Netherlands.svg/45px-Flag_of_the_Netherlands.svg.png 2x\" width=\"23\"/>,\n",
       " <img alt=\"\" class=\"mw-file-element\" data-file-height=\"600\" data-file-width=\"900\" decoding=\"async\" height=\"15\" src=\"//upload.wikimedia.org/wikipedia/en/thumb/4/41/Flag_of_India.svg/23px-Flag_of_India.svg.png\" srcset=\"//upload.wikimedia.org/wikipedia/en/thumb/4/41/Flag_of_India.svg/35px-Flag_of_India.svg.png 1.5x, //upload.wikimedia.org/wikipedia/en/thumb/4/41/Flag_of_India.svg/45px-Flag_of_India.svg.png 2x\" width=\"23\"/>,\n",
       " <img alt=\"\" class=\"mw-file-element\" data-file-height=\"600\" data-file-width=\"900\" decoding=\"async\" height=\"15\" src=\"//upload.wikimedia.org/wikipedia/commons/thumb/3/32/Flag_of_Pakistan.svg/23px-Flag_of_Pakistan.svg.png\" srcset=\"//upload.wikimedia.org/wikipedia/commons/thumb/3/32/Flag_of_Pakistan.svg/35px-Flag_of_Pakistan.svg.png 1.5x, //upload.wikimedia.org/wikipedia/commons/thumb/3/32/Flag_of_Pakistan.svg/45px-Flag_of_Pakistan.svg.png 2x\" width=\"23\"/>,\n",
       " <img alt=\"\" class=\"mw-file-element\" data-file-height=\"600\" data-file-width=\"1000\" decoding=\"async\" height=\"14\" src=\"//upload.wikimedia.org/wikipedia/commons/thumb/f/f9/Flag_of_Bangladesh.svg/23px-Flag_of_Bangladesh.svg.png\" srcset=\"//upload.wikimedia.org/wikipedia/commons/thumb/f/f9/Flag_of_Bangladesh.svg/35px-Flag_of_Bangladesh.svg.png 1.5x, //upload.wikimedia.org/wikipedia/commons/thumb/f/f9/Flag_of_Bangladesh.svg/46px-Flag_of_Bangladesh.svg.png 2x\" width=\"23\"/>,\n",
       " <img alt=\"\" class=\"mw-file-element\" data-file-height=\"600\" data-file-width=\"900\" decoding=\"async\" height=\"15\" src=\"//upload.wikimedia.org/wikipedia/en/thumb/9/9e/Flag_of_Japan.svg/23px-Flag_of_Japan.svg.png\" srcset=\"//upload.wikimedia.org/wikipedia/en/thumb/9/9e/Flag_of_Japan.svg/35px-Flag_of_Japan.svg.png 1.5x, //upload.wikimedia.org/wikipedia/en/thumb/9/9e/Flag_of_Japan.svg/45px-Flag_of_Japan.svg.png 2x\" width=\"23\"/>,\n",
       " <img alt=\"\" class=\"mw-file-element\" data-file-height=\"600\" data-file-width=\"1200\" decoding=\"async\" height=\"12\" src=\"//upload.wikimedia.org/wikipedia/commons/thumb/9/99/Flag_of_the_Philippines.svg/23px-Flag_of_the_Philippines.svg.png\" srcset=\"//upload.wikimedia.org/wikipedia/commons/thumb/9/99/Flag_of_the_Philippines.svg/35px-Flag_of_the_Philippines.svg.png 1.5x, //upload.wikimedia.org/wikipedia/commons/thumb/9/99/Flag_of_the_Philippines.svg/46px-Flag_of_the_Philippines.svg.png 2x\" width=\"23\"/>,\n",
       " <img alt=\"\" class=\"mw-file-element\" data-file-height=\"600\" data-file-width=\"900\" decoding=\"async\" height=\"15\" src=\"//upload.wikimedia.org/wikipedia/commons/thumb/2/21/Flag_of_Vietnam.svg/23px-Flag_of_Vietnam.svg.png\" srcset=\"//upload.wikimedia.org/wikipedia/commons/thumb/2/21/Flag_of_Vietnam.svg/35px-Flag_of_Vietnam.svg.png 1.5x, //upload.wikimedia.org/wikipedia/commons/thumb/2/21/Flag_of_Vietnam.svg/45px-Flag_of_Vietnam.svg.png 2x\" width=\"23\"/>,\n",
       " <img alt=\"\" class=\"mw-file-element\" data-file-height=\"600\" data-file-width=\"1200\" decoding=\"async\" height=\"12\" src=\"//upload.wikimedia.org/wikipedia/en/thumb/a/ae/Flag_of_the_United_Kingdom.svg/23px-Flag_of_the_United_Kingdom.svg.png\" srcset=\"//upload.wikimedia.org/wikipedia/en/thumb/a/ae/Flag_of_the_United_Kingdom.svg/35px-Flag_of_the_United_Kingdom.svg.png 1.5x, //upload.wikimedia.org/wikipedia/en/thumb/a/ae/Flag_of_the_United_Kingdom.svg/46px-Flag_of_the_United_Kingdom.svg.png 2x\" width=\"23\"/>,\n",
       " <img alt=\"\" class=\"mw-file-element\" data-file-height=\"600\" data-file-width=\"900\" decoding=\"async\" height=\"15\" src=\"//upload.wikimedia.org/wikipedia/commons/thumb/0/09/Flag_of_South_Korea.svg/23px-Flag_of_South_Korea.svg.png\" srcset=\"//upload.wikimedia.org/wikipedia/commons/thumb/0/09/Flag_of_South_Korea.svg/35px-Flag_of_South_Korea.svg.png 1.5x, //upload.wikimedia.org/wikipedia/commons/thumb/0/09/Flag_of_South_Korea.svg/45px-Flag_of_South_Korea.svg.png 2x\" width=\"23\"/>,\n",
       " <img alt=\"\" class=\"mw-file-element\" data-file-height=\"600\" data-file-width=\"900\" decoding=\"async\" height=\"15\" src=\"//upload.wikimedia.org/wikipedia/commons/thumb/7/72/Flag_of_the_Republic_of_China.svg/23px-Flag_of_the_Republic_of_China.svg.png\" srcset=\"//upload.wikimedia.org/wikipedia/commons/thumb/7/72/Flag_of_the_Republic_of_China.svg/35px-Flag_of_the_Republic_of_China.svg.png 1.5x, //upload.wikimedia.org/wikipedia/commons/thumb/7/72/Flag_of_the_Republic_of_China.svg/45px-Flag_of_the_Republic_of_China.svg.png 2x\" width=\"23\"/>,\n",
       " <img alt=\"\" class=\"mw-file-element\" data-file-height=\"600\" data-file-width=\"1200\" decoding=\"async\" height=\"12\" src=\"//upload.wikimedia.org/wikipedia/commons/thumb/1/11/Flag_of_Sri_Lanka.svg/23px-Flag_of_Sri_Lanka.svg.png\" srcset=\"//upload.wikimedia.org/wikipedia/commons/thumb/1/11/Flag_of_Sri_Lanka.svg/35px-Flag_of_Sri_Lanka.svg.png 1.5x, //upload.wikimedia.org/wikipedia/commons/thumb/1/11/Flag_of_Sri_Lanka.svg/46px-Flag_of_Sri_Lanka.svg.png 2x\" width=\"23\"/>,\n",
       " <img class=\"mw-file-element\" data-file-height=\"1020\" data-file-width=\"1150\" decoding=\"async\" height=\"266\" src=\"//upload.wikimedia.org/wikipedia/commons/thumb/1/11/World_population_%28UN%29.svg/300px-World_population_%28UN%29.svg.png\" srcset=\"//upload.wikimedia.org/wikipedia/commons/thumb/1/11/World_population_%28UN%29.svg/450px-World_population_%28UN%29.svg.png 1.5x, //upload.wikimedia.org/wikipedia/commons/thumb/1/11/World_population_%28UN%29.svg/600px-World_population_%28UN%29.svg.png 2x\" width=\"300\"/>,\n",
       " <img class=\"mw-file-element\" data-file-height=\"566\" data-file-width=\"1104\" decoding=\"async\" height=\"154\" src=\"//upload.wikimedia.org/wikipedia/commons/thumb/d/d7/Total_Fertility_Rate_Map_by_Country.svg/300px-Total_Fertility_Rate_Map_by_Country.svg.png\" srcset=\"//upload.wikimedia.org/wikipedia/commons/thumb/d/d7/Total_Fertility_Rate_Map_by_Country.svg/450px-Total_Fertility_Rate_Map_by_Country.svg.png 1.5x, //upload.wikimedia.org/wikipedia/commons/thumb/d/d7/Total_Fertility_Rate_Map_by_Country.svg/600px-Total_Fertility_Rate_Map_by_Country.svg.png 2x\" width=\"300\"/>,\n",
       " <img class=\"mw-file-element\" data-file-height=\"3864\" data-file-width=\"5152\" decoding=\"async\" height=\"165\" src=\"//upload.wikimedia.org/wikipedia/commons/thumb/2/22/World_population_counter%2C_Eureka%2C_Halifax%2C_West_Yorkshire_%2827th_August_2022%29_001.jpg/220px-World_population_counter%2C_Eureka%2C_Halifax%2C_West_Yorkshire_%2827th_August_2022%29_001.jpg\" srcset=\"//upload.wikimedia.org/wikipedia/commons/thumb/2/22/World_population_counter%2C_Eureka%2C_Halifax%2C_West_Yorkshire_%2827th_August_2022%29_001.jpg/330px-World_population_counter%2C_Eureka%2C_Halifax%2C_West_Yorkshire_%2827th_August_2022%29_001.jpg 1.5x, //upload.wikimedia.org/wikipedia/commons/thumb/2/22/World_population_counter%2C_Eureka%2C_Halifax%2C_West_Yorkshire_%2827th_August_2022%29_001.jpg/440px-World_population_counter%2C_Eureka%2C_Halifax%2C_West_Yorkshire_%2827th_August_2022%29_001.jpg 2x\" width=\"220\"/>,\n",
       " <img alt=\"Estimated world population figures, 10,000 BC – AD 2000\" class=\"mw-file-element\" data-file-height=\"332\" data-file-width=\"547\" decoding=\"async\" height=\"73\" src=\"//upload.wikimedia.org/wikipedia/commons/thumb/b/b7/Population_curve.svg/120px-Population_curve.svg.png\" srcset=\"//upload.wikimedia.org/wikipedia/commons/thumb/b/b7/Population_curve.svg/180px-Population_curve.svg.png 1.5x, //upload.wikimedia.org/wikipedia/commons/thumb/b/b7/Population_curve.svg/240px-Population_curve.svg.png 2x\" width=\"120\"/>,\n",
       " <img alt=\"Estimated world population figures, 10,000 BC – AD 2000 (in log y scale)\" class=\"mw-file-element\" data-file-height=\"600\" data-file-width=\"1000\" decoding=\"async\" height=\"72\" src=\"//upload.wikimedia.org/wikipedia/commons/thumb/f/f2/World_population_growth_%28lin-log_scale%29.png/120px-World_population_growth_%28lin-log_scale%29.png\" srcset=\"//upload.wikimedia.org/wikipedia/commons/thumb/f/f2/World_population_growth_%28lin-log_scale%29.png/180px-World_population_growth_%28lin-log_scale%29.png 1.5x, //upload.wikimedia.org/wikipedia/commons/thumb/f/f2/World_population_growth_%28lin-log_scale%29.png/240px-World_population_growth_%28lin-log_scale%29.png 2x\" width=\"120\"/>,\n",
       " <img alt=\"World population figures, 1950–2017\" class=\"mw-file-element\" data-file-height=\"450\" data-file-width=\"750\" decoding=\"async\" height=\"72\" src=\"//upload.wikimedia.org/wikipedia/commons/thumb/1/11/World_population_history.svg/120px-World_population_history.svg.png\" srcset=\"//upload.wikimedia.org/wikipedia/commons/thumb/1/11/World_population_history.svg/180px-World_population_history.svg.png 1.5x, //upload.wikimedia.org/wikipedia/commons/thumb/1/11/World_population_history.svg/240px-World_population_history.svg.png 2x\" width=\"120\"/>,\n",
       " <img alt=\"\" class=\"mw-file-element\" data-file-height=\"620\" data-file-width=\"620\" decoding=\"async\" height=\"40\" src=\"//upload.wikimedia.org/wikipedia/en/thumb/1/1d/Information_icon4.svg/40px-Information_icon4.svg.png\" srcset=\"//upload.wikimedia.org/wikipedia/en/thumb/1/1d/Information_icon4.svg/60px-Information_icon4.svg.png 1.5x, //upload.wikimedia.org/wikipedia/en/thumb/1/1d/Information_icon4.svg/80px-Information_icon4.svg.png 2x\" width=\"40\"/>,\n",
       " <img alt=\"\" class=\"mw-file-element\" data-file-height=\"620\" data-file-width=\"620\" decoding=\"async\" height=\"40\" src=\"//upload.wikimedia.org/wikipedia/en/thumb/1/1d/Information_icon4.svg/40px-Information_icon4.svg.png\" srcset=\"//upload.wikimedia.org/wikipedia/en/thumb/1/1d/Information_icon4.svg/60px-Information_icon4.svg.png 1.5x, //upload.wikimedia.org/wikipedia/en/thumb/1/1d/Information_icon4.svg/80px-Information_icon4.svg.png 2x\" width=\"40\"/>,\n",
       " <img alt=\"\" class=\"mw-file-element\" data-file-height=\"399\" data-file-width=\"512\" decoding=\"async\" height=\"39\" src=\"//upload.wikimedia.org/wikipedia/en/thumb/9/99/Question_book-new.svg/50px-Question_book-new.svg.png\" srcset=\"//upload.wikimedia.org/wikipedia/en/thumb/9/99/Question_book-new.svg/75px-Question_book-new.svg.png 1.5x, //upload.wikimedia.org/wikipedia/en/thumb/9/99/Question_book-new.svg/100px-Question_book-new.svg.png 2x\" width=\"50\"/>,\n",
       " <img alt=\"{\\displaystyle N={\\frac {C}{\\tau }}\\operatorname {arccot} {\\frac {T_{0}-T}{\\tau }},}\" aria-hidden=\"true\" class=\"mwe-math-fallback-image-inline mw-invert skin-invert\" src=\"https://wikimedia.org/api/rest_v1/media/math/render/svg/5343454561d001d6d023b1aa36f88b54febb1349\" style=\"vertical-align: -1.838ex; width:23.116ex; height:5.343ex;\"/>,\n",
       " <img alt=\"{\\displaystyle \\tau }\" aria-hidden=\"true\" class=\"mwe-math-fallback-image-inline mw-invert skin-invert\" src=\"https://wikimedia.org/api/rest_v1/media/math/render/svg/38a7dcde9730ef0853809fefc18d88771f95206c\" style=\"vertical-align: -0.338ex; width:1.202ex; height:1.676ex;\"/>,\n",
       " <img class=\"mw-file-element\" data-file-height=\"295\" data-file-width=\"400\" decoding=\"async\" height=\"221\" src=\"//upload.wikimedia.org/wikipedia/commons/thumb/1/18/Population-doubling.svg/300px-Population-doubling.svg.png\" srcset=\"//upload.wikimedia.org/wikipedia/commons/thumb/1/18/Population-doubling.svg/450px-Population-doubling.svg.png 1.5x, //upload.wikimedia.org/wikipedia/commons/thumb/1/18/Population-doubling.svg/600px-Population-doubling.svg.png 2x\" width=\"300\"/>,\n",
       " <img alt=\"\" class=\"mw-file-element\" data-file-height=\"3002\" data-file-width=\"3000\" decoding=\"async\" height=\"28\" src=\"//upload.wikimedia.org/wikipedia/commons/thumb/9/97/The_Earth_seen_from_Apollo_17.jpg/28px-The_Earth_seen_from_Apollo_17.jpg\" srcset=\"//upload.wikimedia.org/wikipedia/commons/thumb/9/97/The_Earth_seen_from_Apollo_17.jpg/42px-The_Earth_seen_from_Apollo_17.jpg 1.5x, //upload.wikimedia.org/wikipedia/commons/thumb/9/97/The_Earth_seen_from_Apollo_17.jpg/56px-The_Earth_seen_from_Apollo_17.jpg 2x\" width=\"28\"/>,\n",
       " <img alt=\"Public Domain\" class=\"mw-file-element\" data-file-height=\"196\" data-file-width=\"196\" decoding=\"async\" height=\"12\" src=\"//upload.wikimedia.org/wikipedia/en/thumb/6/62/PD-icon.svg/12px-PD-icon.svg.png\" srcset=\"//upload.wikimedia.org/wikipedia/en/thumb/6/62/PD-icon.svg/18px-PD-icon.svg.png 1.5x, //upload.wikimedia.org/wikipedia/en/thumb/6/62/PD-icon.svg/24px-PD-icon.svg.png 2x\" width=\"12\"/>,\n",
       " <img alt=\"\" class=\"mw-file-element\" data-file-height=\"1376\" data-file-width=\"1024\" decoding=\"async\" height=\"40\" src=\"//upload.wikimedia.org/wikipedia/en/thumb/4/4a/Commons-logo.svg/30px-Commons-logo.svg.png\" srcset=\"//upload.wikimedia.org/wikipedia/en/thumb/4/4a/Commons-logo.svg/45px-Commons-logo.svg.png 1.5x, //upload.wikimedia.org/wikipedia/en/thumb/4/4a/Commons-logo.svg/59px-Commons-logo.svg.png 2x\" width=\"30\"/>,\n",
       " <img alt=\"video icon\" class=\"mw-file-element\" data-file-height=\"128\" data-file-width=\"128\" decoding=\"async\" height=\"16\" src=\"//upload.wikimedia.org/wikipedia/commons/thumb/1/1b/Nuvola_apps_kaboodle.svg/16px-Nuvola_apps_kaboodle.svg.png\" srcset=\"//upload.wikimedia.org/wikipedia/commons/thumb/1/1b/Nuvola_apps_kaboodle.svg/24px-Nuvola_apps_kaboodle.svg.png 1.5x, //upload.wikimedia.org/wikipedia/commons/thumb/1/1b/Nuvola_apps_kaboodle.svg/32px-Nuvola_apps_kaboodle.svg.png 2x\" width=\"16\"/>,\n",
       " <img alt=\"\" class=\"mw-file-element\" data-file-height=\"1376\" data-file-width=\"1024\" decoding=\"async\" height=\"16\" src=\"//upload.wikimedia.org/wikipedia/en/thumb/4/4a/Commons-logo.svg/12px-Commons-logo.svg.png\" srcset=\"//upload.wikimedia.org/wikipedia/en/thumb/4/4a/Commons-logo.svg/18px-Commons-logo.svg.png 1.5x, //upload.wikimedia.org/wikipedia/en/thumb/4/4a/Commons-logo.svg/24px-Commons-logo.svg.png 2x\" width=\"12\"/>,\n",
       " <img alt=\"\" class=\"mw-file-element\" data-file-height=\"185\" data-file-width=\"180\" decoding=\"async\" height=\"16\" src=\"//upload.wikimedia.org/wikipedia/en/thumb/9/96/Symbol_category_class.svg/16px-Symbol_category_class.svg.png\" srcset=\"//upload.wikimedia.org/wikipedia/en/thumb/9/96/Symbol_category_class.svg/23px-Symbol_category_class.svg.png 1.5x, //upload.wikimedia.org/wikipedia/en/thumb/9/96/Symbol_category_class.svg/31px-Symbol_category_class.svg.png 2x\" width=\"16\"/>,\n",
       " <img alt=\"\" class=\"mw-file-element\" data-file-height=\"1376\" data-file-width=\"1024\" decoding=\"async\" height=\"16\" src=\"//upload.wikimedia.org/wikipedia/en/thumb/4/4a/Commons-logo.svg/12px-Commons-logo.svg.png\" srcset=\"//upload.wikimedia.org/wikipedia/en/thumb/4/4a/Commons-logo.svg/18px-Commons-logo.svg.png 1.5x, //upload.wikimedia.org/wikipedia/en/thumb/4/4a/Commons-logo.svg/24px-Commons-logo.svg.png 2x\" width=\"12\"/>,\n",
       " <img alt=\"\" class=\"mw-file-element\" data-file-height=\"185\" data-file-width=\"180\" decoding=\"async\" height=\"16\" src=\"//upload.wikimedia.org/wikipedia/en/thumb/9/96/Symbol_category_class.svg/16px-Symbol_category_class.svg.png\" srcset=\"//upload.wikimedia.org/wikipedia/en/thumb/9/96/Symbol_category_class.svg/23px-Symbol_category_class.svg.png 1.5x, //upload.wikimedia.org/wikipedia/en/thumb/9/96/Symbol_category_class.svg/31px-Symbol_category_class.svg.png 2x\" width=\"16\"/>,\n",
       " <img alt=\"\" class=\"mw-file-element\" data-file-height=\"200\" data-file-width=\"130\" decoding=\"async\" height=\"16\" src=\"//upload.wikimedia.org/wikipedia/commons/thumb/4/41/Global_thinking.svg/10px-Global_thinking.svg.png\" srcset=\"//upload.wikimedia.org/wikipedia/commons/thumb/4/41/Global_thinking.svg/15px-Global_thinking.svg.png 1.5x, //upload.wikimedia.org/wikipedia/commons/thumb/4/41/Global_thinking.svg/21px-Global_thinking.svg.png 2x\" width=\"10\"/>,\n",
       " <img alt=\"\" class=\"mw-file-element\" data-file-height=\"185\" data-file-width=\"180\" decoding=\"async\" height=\"16\" src=\"//upload.wikimedia.org/wikipedia/en/thumb/9/96/Symbol_category_class.svg/16px-Symbol_category_class.svg.png\" srcset=\"//upload.wikimedia.org/wikipedia/en/thumb/9/96/Symbol_category_class.svg/23px-Symbol_category_class.svg.png 1.5x, //upload.wikimedia.org/wikipedia/en/thumb/9/96/Symbol_category_class.svg/31px-Symbol_category_class.svg.png 2x\" width=\"16\"/>,\n",
       " <img alt=\"icon\" class=\"mw-file-element\" data-file-height=\"48\" data-file-width=\"48\" decoding=\"async\" height=\"28\" src=\"//upload.wikimedia.org/wikipedia/commons/thumb/f/f3/Emblem-money.svg/28px-Emblem-money.svg.png\" srcset=\"//upload.wikimedia.org/wikipedia/commons/thumb/f/f3/Emblem-money.svg/42px-Emblem-money.svg.png 1.5x, //upload.wikimedia.org/wikipedia/commons/thumb/f/f3/Emblem-money.svg/56px-Emblem-money.svg.png 2x\" width=\"28\"/>,\n",
       " <img alt=\"Edit this at Wikidata\" class=\"mw-file-element\" data-file-height=\"20\" data-file-width=\"20\" decoding=\"async\" height=\"10\" src=\"//upload.wikimedia.org/wikipedia/en/thumb/8/8a/OOjs_UI_icon_edit-ltr-progressive.svg/10px-OOjs_UI_icon_edit-ltr-progressive.svg.png\" srcset=\"//upload.wikimedia.org/wikipedia/en/thumb/8/8a/OOjs_UI_icon_edit-ltr-progressive.svg/15px-OOjs_UI_icon_edit-ltr-progressive.svg.png 1.5x, //upload.wikimedia.org/wikipedia/en/thumb/8/8a/OOjs_UI_icon_edit-ltr-progressive.svg/20px-OOjs_UI_icon_edit-ltr-progressive.svg.png 2x\" width=\"10\"/>,\n",
       " <img alt=\"\" height=\"1\" src=\"https://login.wikimedia.org/wiki/Special:CentralAutoLogin/start?type=1x1\" style=\"border: none; position: absolute;\" width=\"1\"/>,\n",
       " <img alt=\"Wikimedia Foundation\" height=\"31\" loading=\"lazy\" src=\"/static/images/footer/wikimedia-button.png\" srcset=\"/static/images/footer/wikimedia-button-1.5x.png 1.5x, /static/images/footer/wikimedia-button-2x.png 2x\" width=\"88\"/>,\n",
       " <img alt=\"Powered by MediaWiki\" height=\"31\" loading=\"lazy\" src=\"/static/images/footer/poweredby_mediawiki_88x31.png\" srcset=\"/static/images/footer/poweredby_mediawiki_132x47.png 1.5x, /static/images/footer/poweredby_mediawiki_176x62.png 2x\" width=\"88\"/>]"
      ]
     },
     "execution_count": 22,
     "metadata": {},
     "output_type": "execute_result"
    }
   ],
   "source": [
    "img_tags=bs.find_all('img')\n",
    "img_tags"
   ]
  },
  {
   "cell_type": "code",
   "execution_count": 23,
   "id": "376fbbb4",
   "metadata": {},
   "outputs": [
    {
     "data": {
      "text/plain": [
       "'/static/images/icons/wikipedia.png'"
      ]
     },
     "execution_count": 23,
     "metadata": {},
     "output_type": "execute_result"
    }
   ],
   "source": [
    "img_tags[0].get('src')"
   ]
  },
  {
   "cell_type": "markdown",
   "id": "088623d4",
   "metadata": {},
   "source": [
    "# anchor tag : link"
   ]
  },
  {
   "cell_type": "code",
   "execution_count": 24,
   "id": "bd177e09",
   "metadata": {},
   "outputs": [
    {
     "data": {
      "text/plain": [
       "[<a class=\"mw-file-description\" href=\"/wiki/File:World_Population_Prospects.svg\"><img class=\"mw-file-element\" data-file-height=\"676\" data-file-width=\"900\" decoding=\"async\" height=\"165\" src=\"//upload.wikimedia.org/wikipedia/commons/thumb/0/0e/World_Population_Prospects.svg/220px-World_Population_Prospects.svg.png\" srcset=\"//upload.wikimedia.org/wikipedia/commons/thumb/0/0e/World_Population_Prospects.svg/330px-World_Population_Prospects.svg.png 1.5x, //upload.wikimedia.org/wikipedia/commons/thumb/0/0e/World_Population_Prospects.svg/440px-World_Population_Prospects.svg.png 2x\" width=\"220\"/></a>,\n",
       " <a class=\"mw-file-description\" href=\"/wiki/File:Illustration_of_contemporary_and_past_human_populations_Our_World_in_Data.png\"><img class=\"mw-file-element\" data-file-height=\"7747\" data-file-width=\"5201\" decoding=\"async\" height=\"328\" src=\"//upload.wikimedia.org/wikipedia/commons/thumb/d/d2/Illustration_of_contemporary_and_past_human_populations_Our_World_in_Data.png/220px-Illustration_of_contemporary_and_past_human_populations_Our_World_in_Data.png\" srcset=\"//upload.wikimedia.org/wikipedia/commons/thumb/d/d2/Illustration_of_contemporary_and_past_human_populations_Our_World_in_Data.png/330px-Illustration_of_contemporary_and_past_human_populations_Our_World_in_Data.png 1.5x, //upload.wikimedia.org/wikipedia/commons/thumb/d/d2/Illustration_of_contemporary_and_past_human_populations_Our_World_in_Data.png/440px-Illustration_of_contemporary_and_past_human_populations_Our_World_in_Data.png 2x\" width=\"220\"/></a>,\n",
       " <a class=\"mw-file-description\" href=\"/wiki/File:2006megacities.svg\"><img class=\"mw-file-element\" data-file-height=\"625\" data-file-width=\"1425\" decoding=\"async\" height=\"154\" src=\"//upload.wikimedia.org/wikipedia/commons/thumb/3/3d/2006megacities.svg/350px-2006megacities.svg.png\" srcset=\"//upload.wikimedia.org/wikipedia/commons/thumb/3/3d/2006megacities.svg/525px-2006megacities.svg.png 1.5x, //upload.wikimedia.org/wikipedia/commons/thumb/3/3d/2006megacities.svg/700px-2006megacities.svg.png 2x\" width=\"350\"/></a>,\n",
       " <a class=\"mw-file-description\" href=\"/wiki/File:Expectancy_of_life.svg\"><img class=\"mw-file-element\" data-file-height=\"1200\" data-file-width=\"2754\" decoding=\"async\" height=\"174\" src=\"//upload.wikimedia.org/wikipedia/commons/thumb/f/fa/Expectancy_of_life.svg/400px-Expectancy_of_life.svg.png\" srcset=\"//upload.wikimedia.org/wikipedia/commons/thumb/f/fa/Expectancy_of_life.svg/600px-Expectancy_of_life.svg.png 1.5x, //upload.wikimedia.org/wikipedia/commons/thumb/f/fa/Expectancy_of_life.svg/800px-Expectancy_of_life.svg.png 2x\" width=\"400\"/></a>,\n",
       " <a class=\"mw-file-description\" href=\"/wiki/File:Population_pyramid_of_the_world_in_continental_groupings_2023.svg\"><img class=\"mw-file-element\" data-file-height=\"2003\" data-file-width=\"2539\" decoding=\"async\" height=\"237\" src=\"//upload.wikimedia.org/wikipedia/commons/thumb/f/fa/Population_pyramid_of_the_world_in_continental_groupings_2023.svg/300px-Population_pyramid_of_the_world_in_continental_groupings_2023.svg.png\" srcset=\"//upload.wikimedia.org/wikipedia/commons/thumb/f/fa/Population_pyramid_of_the_world_in_continental_groupings_2023.svg/450px-Population_pyramid_of_the_world_in_continental_groupings_2023.svg.png 1.5x, //upload.wikimedia.org/wikipedia/commons/thumb/f/fa/Population_pyramid_of_the_world_in_continental_groupings_2023.svg/600px-Population_pyramid_of_the_world_in_continental_groupings_2023.svg.png 2x\" width=\"300\"/></a>,\n",
       " <a class=\"mw-file-description\" href=\"/wiki/File:Global_population_cartogram.png\"><img class=\"mw-file-element\" data-file-height=\"3131\" data-file-width=\"8192\" decoding=\"async\" height=\"115\" src=\"//upload.wikimedia.org/wikipedia/commons/thumb/9/90/Global_population_cartogram.png/300px-Global_population_cartogram.png\" srcset=\"//upload.wikimedia.org/wikipedia/commons/thumb/9/90/Global_population_cartogram.png/450px-Global_population_cartogram.png 1.5x, //upload.wikimedia.org/wikipedia/commons/thumb/9/90/Global_population_cartogram.png/600px-Global_population_cartogram.png 2x\" width=\"300\"/></a>,\n",
       " <a class=\"mw-file-description\" href=\"/wiki/File:People%27s_-Km%C2%B2_for_all_countries_(and_us_states,_uk_kingdoms).png\"><img class=\"mw-file-element\" data-file-height=\"2866\" data-file-width=\"5489\" decoding=\"async\" height=\"157\" src=\"//upload.wikimedia.org/wikipedia/commons/thumb/8/8c/People%27s_-Km%C2%B2_for_all_countries_%28and_us_states%2C_uk_kingdoms%29.png/300px-People%27s_-Km%C2%B2_for_all_countries_%28and_us_states%2C_uk_kingdoms%29.png\" srcset=\"//upload.wikimedia.org/wikipedia/commons/thumb/8/8c/People%27s_-Km%C2%B2_for_all_countries_%28and_us_states%2C_uk_kingdoms%29.png/450px-People%27s_-Km%C2%B2_for_all_countries_%28and_us_states%2C_uk_kingdoms%29.png 1.5x, //upload.wikimedia.org/wikipedia/commons/thumb/8/8c/People%27s_-Km%C2%B2_for_all_countries_%28and_us_states%2C_uk_kingdoms%29.png/600px-People%27s_-Km%C2%B2_for_all_countries_%28and_us_states%2C_uk_kingdoms%29.png 2x\" width=\"300\"/></a>,\n",
       " <a class=\"mw-file-description\" href=\"/wiki/File:Top_5_Country_Population_Graph_1901_to_2021.svg\"><img class=\"mw-file-element\" data-file-height=\"600\" data-file-width=\"850\" decoding=\"async\" height=\"212\" src=\"//upload.wikimedia.org/wikipedia/commons/thumb/f/fa/Top_5_Country_Population_Graph_1901_to_2021.svg/300px-Top_5_Country_Population_Graph_1901_to_2021.svg.png\" srcset=\"//upload.wikimedia.org/wikipedia/commons/thumb/f/fa/Top_5_Country_Population_Graph_1901_to_2021.svg/450px-Top_5_Country_Population_Graph_1901_to_2021.svg.png 1.5x, //upload.wikimedia.org/wikipedia/commons/thumb/f/fa/Top_5_Country_Population_Graph_1901_to_2021.svg/600px-Top_5_Country_Population_Graph_1901_to_2021.svg.png 2x\" width=\"300\"/></a>,\n",
       " <a class=\"mw-file-description\" href=\"/wiki/File:Population_Density,_v4.11,_2020_(48009093621).jpg\"><img class=\"mw-file-element\" data-file-height=\"2231\" data-file-width=\"3053\" decoding=\"async\" height=\"241\" src=\"//upload.wikimedia.org/wikipedia/commons/thumb/2/2e/Population_Density%2C_v4.11%2C_2020_%2848009093621%29.jpg/330px-Population_Density%2C_v4.11%2C_2020_%2848009093621%29.jpg\" srcset=\"//upload.wikimedia.org/wikipedia/commons/thumb/2/2e/Population_Density%2C_v4.11%2C_2020_%2848009093621%29.jpg/495px-Population_Density%2C_v4.11%2C_2020_%2848009093621%29.jpg 1.5x, //upload.wikimedia.org/wikipedia/commons/thumb/2/2e/Population_Density%2C_v4.11%2C_2020_%2848009093621%29.jpg/660px-Population_Density%2C_v4.11%2C_2020_%2848009093621%29.jpg 2x\" width=\"330\"/></a>,\n",
       " <a class=\"mw-file-description\" href=\"/wiki/File:World_population_(UN).svg\"><img class=\"mw-file-element\" data-file-height=\"1020\" data-file-width=\"1150\" decoding=\"async\" height=\"266\" src=\"//upload.wikimedia.org/wikipedia/commons/thumb/1/11/World_population_%28UN%29.svg/300px-World_population_%28UN%29.svg.png\" srcset=\"//upload.wikimedia.org/wikipedia/commons/thumb/1/11/World_population_%28UN%29.svg/450px-World_population_%28UN%29.svg.png 1.5x, //upload.wikimedia.org/wikipedia/commons/thumb/1/11/World_population_%28UN%29.svg/600px-World_population_%28UN%29.svg.png 2x\" width=\"300\"/></a>,\n",
       " <a class=\"mw-file-description\" href=\"/wiki/File:Total_Fertility_Rate_Map_by_Country.svg\"><img class=\"mw-file-element\" data-file-height=\"566\" data-file-width=\"1104\" decoding=\"async\" height=\"154\" src=\"//upload.wikimedia.org/wikipedia/commons/thumb/d/d7/Total_Fertility_Rate_Map_by_Country.svg/300px-Total_Fertility_Rate_Map_by_Country.svg.png\" srcset=\"//upload.wikimedia.org/wikipedia/commons/thumb/d/d7/Total_Fertility_Rate_Map_by_Country.svg/450px-Total_Fertility_Rate_Map_by_Country.svg.png 1.5x, //upload.wikimedia.org/wikipedia/commons/thumb/d/d7/Total_Fertility_Rate_Map_by_Country.svg/600px-Total_Fertility_Rate_Map_by_Country.svg.png 2x\" width=\"300\"/></a>,\n",
       " <a class=\"mw-file-description\" href=\"/wiki/File:World_population_counter,_Eureka,_Halifax,_West_Yorkshire_(27th_August_2022)_001.jpg\"><img class=\"mw-file-element\" data-file-height=\"3864\" data-file-width=\"5152\" decoding=\"async\" height=\"165\" src=\"//upload.wikimedia.org/wikipedia/commons/thumb/2/22/World_population_counter%2C_Eureka%2C_Halifax%2C_West_Yorkshire_%2827th_August_2022%29_001.jpg/220px-World_population_counter%2C_Eureka%2C_Halifax%2C_West_Yorkshire_%2827th_August_2022%29_001.jpg\" srcset=\"//upload.wikimedia.org/wikipedia/commons/thumb/2/22/World_population_counter%2C_Eureka%2C_Halifax%2C_West_Yorkshire_%2827th_August_2022%29_001.jpg/330px-World_population_counter%2C_Eureka%2C_Halifax%2C_West_Yorkshire_%2827th_August_2022%29_001.jpg 1.5x, //upload.wikimedia.org/wikipedia/commons/thumb/2/22/World_population_counter%2C_Eureka%2C_Halifax%2C_West_Yorkshire_%2827th_August_2022%29_001.jpg/440px-World_population_counter%2C_Eureka%2C_Halifax%2C_West_Yorkshire_%2827th_August_2022%29_001.jpg 2x\" width=\"220\"/></a>,\n",
       " <a class=\"mw-file-description\" href=\"/wiki/File:Population_curve.svg\" title=\"Estimated world population figures, 10,000 BC – AD 2000\"><img alt=\"Estimated world population figures, 10,000 BC – AD 2000\" class=\"mw-file-element\" data-file-height=\"332\" data-file-width=\"547\" decoding=\"async\" height=\"73\" src=\"//upload.wikimedia.org/wikipedia/commons/thumb/b/b7/Population_curve.svg/120px-Population_curve.svg.png\" srcset=\"//upload.wikimedia.org/wikipedia/commons/thumb/b/b7/Population_curve.svg/180px-Population_curve.svg.png 1.5x, //upload.wikimedia.org/wikipedia/commons/thumb/b/b7/Population_curve.svg/240px-Population_curve.svg.png 2x\" width=\"120\"/></a>,\n",
       " <a class=\"mw-file-description\" href=\"/wiki/File:World_population_growth_(lin-log_scale).png\" title=\"Estimated world population figures, 10,000 BC – AD 2000 (in log y scale)\"><img alt=\"Estimated world population figures, 10,000 BC – AD 2000 (in log y scale)\" class=\"mw-file-element\" data-file-height=\"600\" data-file-width=\"1000\" decoding=\"async\" height=\"72\" src=\"//upload.wikimedia.org/wikipedia/commons/thumb/f/f2/World_population_growth_%28lin-log_scale%29.png/120px-World_population_growth_%28lin-log_scale%29.png\" srcset=\"//upload.wikimedia.org/wikipedia/commons/thumb/f/f2/World_population_growth_%28lin-log_scale%29.png/180px-World_population_growth_%28lin-log_scale%29.png 1.5x, //upload.wikimedia.org/wikipedia/commons/thumb/f/f2/World_population_growth_%28lin-log_scale%29.png/240px-World_population_growth_%28lin-log_scale%29.png 2x\" width=\"120\"/></a>,\n",
       " <a class=\"mw-file-description\" href=\"/wiki/File:World_population_history.svg\" title=\"World population figures, 1950–2017\"><img alt=\"World population figures, 1950–2017\" class=\"mw-file-element\" data-file-height=\"450\" data-file-width=\"750\" decoding=\"async\" height=\"72\" src=\"//upload.wikimedia.org/wikipedia/commons/thumb/1/11/World_population_history.svg/120px-World_population_history.svg.png\" srcset=\"//upload.wikimedia.org/wikipedia/commons/thumb/1/11/World_population_history.svg/180px-World_population_history.svg.png 1.5x, //upload.wikimedia.org/wikipedia/commons/thumb/1/11/World_population_history.svg/240px-World_population_history.svg.png 2x\" width=\"120\"/></a>,\n",
       " <a class=\"mw-file-description\" href=\"/wiki/File:Question_book-new.svg\"><img alt=\"\" class=\"mw-file-element\" data-file-height=\"399\" data-file-width=\"512\" decoding=\"async\" height=\"39\" src=\"//upload.wikimedia.org/wikipedia/en/thumb/9/99/Question_book-new.svg/50px-Question_book-new.svg.png\" srcset=\"//upload.wikimedia.org/wikipedia/en/thumb/9/99/Question_book-new.svg/75px-Question_book-new.svg.png 1.5x, //upload.wikimedia.org/wikipedia/en/thumb/9/99/Question_book-new.svg/100px-Question_book-new.svg.png 2x\" width=\"50\"/></a>,\n",
       " <a class=\"mw-file-description\" href=\"/wiki/File:Population-doubling.svg\"><img class=\"mw-file-element\" data-file-height=\"295\" data-file-width=\"400\" decoding=\"async\" height=\"221\" src=\"//upload.wikimedia.org/wikipedia/commons/thumb/1/18/Population-doubling.svg/300px-Population-doubling.svg.png\" srcset=\"//upload.wikimedia.org/wikipedia/commons/thumb/1/18/Population-doubling.svg/450px-Population-doubling.svg.png 1.5x, //upload.wikimedia.org/wikipedia/commons/thumb/1/18/Population-doubling.svg/600px-Population-doubling.svg.png 2x\" width=\"300\"/></a>,\n",
       " <a class=\"mw-file-description\" href=\"/wiki/File:The_Earth_seen_from_Apollo_17.jpg\"><img alt=\"\" class=\"mw-file-element\" data-file-height=\"3002\" data-file-width=\"3000\" decoding=\"async\" height=\"28\" src=\"//upload.wikimedia.org/wikipedia/commons/thumb/9/97/The_Earth_seen_from_Apollo_17.jpg/28px-The_Earth_seen_from_Apollo_17.jpg\" srcset=\"//upload.wikimedia.org/wikipedia/commons/thumb/9/97/The_Earth_seen_from_Apollo_17.jpg/42px-The_Earth_seen_from_Apollo_17.jpg 1.5x, //upload.wikimedia.org/wikipedia/commons/thumb/9/97/The_Earth_seen_from_Apollo_17.jpg/56px-The_Earth_seen_from_Apollo_17.jpg 2x\" width=\"28\"/></a>,\n",
       " <a class=\"mw-file-description\" href=\"/wiki/File:Emblem-money.svg\"><img alt=\"icon\" class=\"mw-file-element\" data-file-height=\"48\" data-file-width=\"48\" decoding=\"async\" height=\"28\" src=\"//upload.wikimedia.org/wikipedia/commons/thumb/f/f3/Emblem-money.svg/28px-Emblem-money.svg.png\" srcset=\"//upload.wikimedia.org/wikipedia/commons/thumb/f/f3/Emblem-money.svg/42px-Emblem-money.svg.png 1.5x, //upload.wikimedia.org/wikipedia/commons/thumb/f/f3/Emblem-money.svg/56px-Emblem-money.svg.png 2x\" width=\"28\"/></a>]"
      ]
     },
     "execution_count": 24,
     "metadata": {},
     "output_type": "execute_result"
    }
   ],
   "source": [
    "a_tags = bs.find_all('a', class_=\"mw-file-description\")\n",
    "a_tags"
   ]
  },
  {
   "cell_type": "code",
   "execution_count": 25,
   "id": "9c7b4cbf",
   "metadata": {},
   "outputs": [
    {
     "data": {
      "text/plain": [
       "<a class=\"mw-file-description\" href=\"/wiki/File:World_Population_Prospects.svg\"><img class=\"mw-file-element\" data-file-height=\"676\" data-file-width=\"900\" decoding=\"async\" height=\"165\" src=\"//upload.wikimedia.org/wikipedia/commons/thumb/0/0e/World_Population_Prospects.svg/220px-World_Population_Prospects.svg.png\" srcset=\"//upload.wikimedia.org/wikipedia/commons/thumb/0/0e/World_Population_Prospects.svg/330px-World_Population_Prospects.svg.png 1.5x, //upload.wikimedia.org/wikipedia/commons/thumb/0/0e/World_Population_Prospects.svg/440px-World_Population_Prospects.svg.png 2x\" width=\"220\"/></a>"
      ]
     },
     "execution_count": 25,
     "metadata": {},
     "output_type": "execute_result"
    }
   ],
   "source": [
    "a_tags[0]"
   ]
  },
  {
   "cell_type": "code",
   "execution_count": 26,
   "id": "e139712b",
   "metadata": {},
   "outputs": [
    {
     "data": {
      "text/plain": [
       "['https://en.wikipedia.org/wiki/File:World_Population_Prospects.svg',\n",
       " 'https://en.wikipedia.org/wiki/File:Illustration_of_contemporary_and_past_human_populations_Our_World_in_Data.png',\n",
       " 'https://en.wikipedia.org/wiki/File:2006megacities.svg',\n",
       " 'https://en.wikipedia.org/wiki/File:Expectancy_of_life.svg',\n",
       " 'https://en.wikipedia.org/wiki/File:Population_pyramid_of_the_world_in_continental_groupings_2023.svg',\n",
       " 'https://en.wikipedia.org/wiki/File:Global_population_cartogram.png',\n",
       " 'https://en.wikipedia.org/wiki/File:People%27s_-Km%C2%B2_for_all_countries_(and_us_states,_uk_kingdoms).png',\n",
       " 'https://en.wikipedia.org/wiki/File:Top_5_Country_Population_Graph_1901_to_2021.svg',\n",
       " 'https://en.wikipedia.org/wiki/File:Population_Density,_v4.11,_2020_(48009093621).jpg',\n",
       " 'https://en.wikipedia.org/wiki/File:World_population_(UN).svg',\n",
       " 'https://en.wikipedia.org/wiki/File:Total_Fertility_Rate_Map_by_Country.svg',\n",
       " 'https://en.wikipedia.org/wiki/File:World_population_counter,_Eureka,_Halifax,_West_Yorkshire_(27th_August_2022)_001.jpg',\n",
       " 'https://en.wikipedia.org/wiki/File:Population_curve.svg',\n",
       " 'https://en.wikipedia.org/wiki/File:World_population_growth_(lin-log_scale).png',\n",
       " 'https://en.wikipedia.org/wiki/File:World_population_history.svg',\n",
       " 'https://en.wikipedia.org/wiki/File:Question_book-new.svg',\n",
       " 'https://en.wikipedia.org/wiki/File:Population-doubling.svg',\n",
       " 'https://en.wikipedia.org/wiki/File:The_Earth_seen_from_Apollo_17.jpg',\n",
       " 'https://en.wikipedia.org/wiki/File:Emblem-money.svg']"
      ]
     },
     "execution_count": 26,
     "metadata": {},
     "output_type": "execute_result"
    }
   ],
   "source": [
    "images = []\n",
    "for i in a_tags:\n",
    "    img_link = 'https://en.wikipedia.org' + i.get('href')\n",
    "    images.append(img_link)\n",
    "images"
   ]
  },
  {
   "cell_type": "code",
   "execution_count": 74,
   "id": "4871cb7c",
   "metadata": {},
   "outputs": [],
   "source": [
    "with open(\"image_links.csv\", 'w') as file2:\n",
    "    for i in images:\n",
    "        file2.write(i+'\\n\\n')"
   ]
  },
  {
   "cell_type": "code",
   "execution_count": null,
   "id": "c3f0e588",
   "metadata": {},
   "outputs": [],
   "source": []
  },
  {
   "cell_type": "markdown",
   "id": "ecd8f7af",
   "metadata": {},
   "source": [
    "# Getting all the tables from website"
   ]
  },
  {
   "cell_type": "code",
   "execution_count": 28,
   "id": "4d2d567e",
   "metadata": {},
   "outputs": [
    {
     "data": {
      "text/plain": [
       "<table class=\"wikitable\" style=\"text-align:center; float:right; clear:right; margin-left:8px; margin-right:0;\">\n",
       "<caption>World population milestones in billions<sup class=\"reference\" id=\"cite_ref-:6_60-0\"><a href=\"#cite_note-:6-60\">[60]</a></sup> (Worldometers estimates)\n",
       "</caption>\n",
       "<tbody><tr>\n",
       "<th scope=\"row\">Population\n",
       "</th>\n",
       "<th scope=\"col\">1\n",
       "</th>\n",
       "<th scope=\"col\">2\n",
       "</th>\n",
       "<th scope=\"col\">3\n",
       "</th>\n",
       "<th scope=\"col\">4\n",
       "</th>\n",
       "<th scope=\"col\">5\n",
       "</th>\n",
       "<th scope=\"col\">6\n",
       "</th>\n",
       "<th scope=\"col\">7\n",
       "</th>\n",
       "<th scope=\"col\">8\n",
       "</th>\n",
       "<th scope=\"col\">9\n",
       "</th>\n",
       "<th scope=\"col\">10\n",
       "</th></tr>\n",
       "<tr>\n",
       "<th scope=\"row\">Year\n",
       "</th>\n",
       "<td>1804</td>\n",
       "<td>1927</td>\n",
       "<td>1960</td>\n",
       "<td>1974</td>\n",
       "<td>1987</td>\n",
       "<td>1999</td>\n",
       "<td>2011</td>\n",
       "<td>2022</td>\n",
       "<td><i>2037</i></td>\n",
       "<td><i>2057</i>\n",
       "</td></tr>\n",
       "<tr>\n",
       "<th scope=\"row\">Years elapsed\n",
       "</th>\n",
       "<td>200,000+</td>\n",
       "<td>123</td>\n",
       "<td>33</td>\n",
       "<td>14</td>\n",
       "<td>13</td>\n",
       "<td>12</td>\n",
       "<td>12</td>\n",
       "<td>11</td>\n",
       "<td><i>15</i></td>\n",
       "<td><i>20</i>\n",
       "</td></tr></tbody></table>"
      ]
     },
     "execution_count": 28,
     "metadata": {},
     "output_type": "execute_result"
    }
   ],
   "source": [
    "table_tags=bs.find_all('table',class_='wikitable')\n",
    "table_tags[0]"
   ]
  },
  {
   "cell_type": "code",
   "execution_count": 29,
   "id": "3f38b97b",
   "metadata": {},
   "outputs": [
    {
     "name": "stdout",
     "output_type": "stream",
     "text": [
      "Population\n",
      "1\n",
      "2\n",
      "3\n",
      "4\n",
      "5\n",
      "6\n",
      "7\n",
      "8\n",
      "9\n",
      "10\n",
      "Year\n",
      "Years elapsed\n"
     ]
    }
   ],
   "source": [
    "for i in table_tags[0].find_all('th'):\n",
    "    print(i.text.strip())"
   ]
  },
  {
   "cell_type": "code",
   "execution_count": 30,
   "id": "3abca8d9",
   "metadata": {},
   "outputs": [
    {
     "data": {
      "text/plain": [
       "['Population',\n",
       " '1',\n",
       " '2',\n",
       " '3',\n",
       " '4',\n",
       " '5',\n",
       " '6',\n",
       " '7',\n",
       " '8',\n",
       " '9',\n",
       " '10',\n",
       " 'Year',\n",
       " 'Years elapsed']"
      ]
     },
     "execution_count": 30,
     "metadata": {},
     "output_type": "execute_result"
    }
   ],
   "source": [
    "headers =[i.text.strip() for i in table_tags[0].find_all('th')]\n",
    "headers"
   ]
  },
  {
   "cell_type": "code",
   "execution_count": 32,
   "id": "885bc744",
   "metadata": {},
   "outputs": [
    {
     "data": {
      "text/plain": [
       "[['1804',\n",
       "  '1927',\n",
       "  '1960',\n",
       "  '1974',\n",
       "  '1987',\n",
       "  '1999',\n",
       "  '2011',\n",
       "  '2022',\n",
       "  '2037',\n",
       "  '2057'],\n",
       " ['200,000+', '123', '33', '14', '13', '12', '12', '11', '15', '20']]"
      ]
     },
     "execution_count": 32,
     "metadata": {},
     "output_type": "execute_result"
    }
   ],
   "source": [
    "rows = []\n",
    "for row in table_tags[0].find_all('tr'):\n",
    "    entry = [i.text.strip() for i in row.find_all('td')]\n",
    "    if len(entry)!=0:\n",
    "        rows.append(entry)\n",
    "rows"
   ]
  },
  {
   "cell_type": "code",
   "execution_count": 33,
   "id": "ae0a0994",
   "metadata": {},
   "outputs": [
    {
     "data": {
      "text/html": [
       "<div>\n",
       "<style scoped>\n",
       "    .dataframe tbody tr th:only-of-type {\n",
       "        vertical-align: middle;\n",
       "    }\n",
       "\n",
       "    .dataframe tbody tr th {\n",
       "        vertical-align: top;\n",
       "    }\n",
       "\n",
       "    .dataframe thead th {\n",
       "        text-align: right;\n",
       "    }\n",
       "</style>\n",
       "<table border=\"1\" class=\"dataframe\">\n",
       "  <thead>\n",
       "    <tr style=\"text-align: right;\">\n",
       "      <th></th>\n",
       "      <th>Population</th>\n",
       "      <th>1</th>\n",
       "      <th>2</th>\n",
       "      <th>3</th>\n",
       "      <th>4</th>\n",
       "      <th>5</th>\n",
       "      <th>6</th>\n",
       "      <th>7</th>\n",
       "      <th>8</th>\n",
       "      <th>9</th>\n",
       "    </tr>\n",
       "  </thead>\n",
       "  <tbody>\n",
       "    <tr>\n",
       "      <th>Year</th>\n",
       "      <td>1804</td>\n",
       "      <td>1927</td>\n",
       "      <td>1960</td>\n",
       "      <td>1974</td>\n",
       "      <td>1987</td>\n",
       "      <td>1999</td>\n",
       "      <td>2011</td>\n",
       "      <td>2022</td>\n",
       "      <td>2037</td>\n",
       "      <td>2057</td>\n",
       "    </tr>\n",
       "    <tr>\n",
       "      <th>Years elapsed</th>\n",
       "      <td>200,000+</td>\n",
       "      <td>123</td>\n",
       "      <td>33</td>\n",
       "      <td>14</td>\n",
       "      <td>13</td>\n",
       "      <td>12</td>\n",
       "      <td>12</td>\n",
       "      <td>11</td>\n",
       "      <td>15</td>\n",
       "      <td>20</td>\n",
       "    </tr>\n",
       "  </tbody>\n",
       "</table>\n",
       "</div>"
      ],
      "text/plain": [
       "              Population     1     2     3     4     5     6     7     8     9\n",
       "Year                1804  1927  1960  1974  1987  1999  2011  2022  2037  2057\n",
       "Years elapsed   200,000+   123    33    14    13    12    12    11    15    20"
      ]
     },
     "execution_count": 33,
     "metadata": {},
     "output_type": "execute_result"
    }
   ],
   "source": [
    "import pandas as pd\n",
    "df1 = pd.DataFrame(rows, columns=headers[0:10], index=headers[11:])\n",
    "df1"
   ]
  },
  {
   "cell_type": "code",
   "execution_count": 34,
   "id": "cf41dcb7",
   "metadata": {},
   "outputs": [],
   "source": [
    "df1.to_csv(\"Population.csv\")"
   ]
  },
  {
   "cell_type": "code",
   "execution_count": 35,
   "id": "19ef4026",
   "metadata": {},
   "outputs": [],
   "source": [
    "def get_table_values(table):\n",
    "    headers = [head.text.strip() for head in table.find_all('th')]\n",
    "    rows = []\n",
    "    for row in table.find_all('tr'):\n",
    "        entry = [val.text.strip() for val in row.find_all('td')]\n",
    "        if len(entry)!=0:\n",
    "            rows.append(entry)\n",
    "    return headers, rows"
   ]
  },
  {
   "cell_type": "code",
   "execution_count": 48,
   "id": "d91a6a67",
   "metadata": {},
   "outputs": [],
   "source": [
    "headers1, rows1 = get_table_values(table_tags[1])"
   ]
  },
  {
   "cell_type": "code",
   "execution_count": 39,
   "id": "258cdb83",
   "metadata": {},
   "outputs": [
    {
     "data": {
      "text/html": [
       "<div>\n",
       "<style scoped>\n",
       "    .dataframe tbody tr th:only-of-type {\n",
       "        vertical-align: middle;\n",
       "    }\n",
       "\n",
       "    .dataframe tbody tr th {\n",
       "        vertical-align: top;\n",
       "    }\n",
       "\n",
       "    .dataframe thead th {\n",
       "        text-align: right;\n",
       "    }\n",
       "</style>\n",
       "<table border=\"1\" class=\"dataframe\">\n",
       "  <thead>\n",
       "    <tr style=\"text-align: right;\">\n",
       "      <th></th>\n",
       "      <th>Region</th>\n",
       "      <th>2022 (percent)</th>\n",
       "      <th>2030 (percent)</th>\n",
       "      <th>2050 (percent)</th>\n",
       "    </tr>\n",
       "  </thead>\n",
       "  <tbody>\n",
       "    <tr>\n",
       "      <th>0</th>\n",
       "      <td>Sub-Saharan Africa</td>\n",
       "      <td>1,152 (14.51%)</td>\n",
       "      <td>1,401 (16.46%)</td>\n",
       "      <td>2,094 (21.62%)</td>\n",
       "    </tr>\n",
       "    <tr>\n",
       "      <th>1</th>\n",
       "      <td>Northern Africa and Western Asia</td>\n",
       "      <td>549 (6.91%)</td>\n",
       "      <td>617 (7.25%)</td>\n",
       "      <td>771 (7.96%)</td>\n",
       "    </tr>\n",
       "    <tr>\n",
       "      <th>2</th>\n",
       "      <td>Central Asia and Southern Asia</td>\n",
       "      <td>2,075 (26.13%)</td>\n",
       "      <td>2,248 (26.41%)</td>\n",
       "      <td>2,575 (26.58%)</td>\n",
       "    </tr>\n",
       "    <tr>\n",
       "      <th>3</th>\n",
       "      <td>Eastern Asia and Southeastern Asia</td>\n",
       "      <td>2,342 (29.49%)</td>\n",
       "      <td>2,372 (27.87%)</td>\n",
       "      <td>2,317 (23.92%)</td>\n",
       "    </tr>\n",
       "    <tr>\n",
       "      <th>4</th>\n",
       "      <td>Europe and Northern America</td>\n",
       "      <td>1,120 (14.10%)</td>\n",
       "      <td>1,129 (13.26%)</td>\n",
       "      <td>1,125 (11.61%)</td>\n",
       "    </tr>\n",
       "    <tr>\n",
       "      <th>5</th>\n",
       "      <td>Latin America and the Caribbean</td>\n",
       "      <td>658 (8.29%)</td>\n",
       "      <td>695 (8.17%)</td>\n",
       "      <td>749 (7.73%)</td>\n",
       "    </tr>\n",
       "    <tr>\n",
       "      <th>6</th>\n",
       "      <td>Australia and New Zealand</td>\n",
       "      <td>31 (0.39%)</td>\n",
       "      <td>34 (0.40%)</td>\n",
       "      <td>38 (0.39%)</td>\n",
       "    </tr>\n",
       "    <tr>\n",
       "      <th>7</th>\n",
       "      <td>Oceania</td>\n",
       "      <td>14 (0.18%)</td>\n",
       "      <td>15 (0.18%)</td>\n",
       "      <td>20 (0.21%)</td>\n",
       "    </tr>\n",
       "    <tr>\n",
       "      <th>8</th>\n",
       "      <td>World</td>\n",
       "      <td>7,942</td>\n",
       "      <td>8,512</td>\n",
       "      <td>9,687</td>\n",
       "    </tr>\n",
       "  </tbody>\n",
       "</table>\n",
       "</div>"
      ],
      "text/plain": [
       "                               Region  2022 (percent)  2030 (percent)  \\\n",
       "0                  Sub-Saharan Africa  1,152 (14.51%)  1,401 (16.46%)   \n",
       "1    Northern Africa and Western Asia     549 (6.91%)     617 (7.25%)   \n",
       "2      Central Asia and Southern Asia  2,075 (26.13%)  2,248 (26.41%)   \n",
       "3  Eastern Asia and Southeastern Asia  2,342 (29.49%)  2,372 (27.87%)   \n",
       "4         Europe and Northern America  1,120 (14.10%)  1,129 (13.26%)   \n",
       "5     Latin America and the Caribbean     658 (8.29%)     695 (8.17%)   \n",
       "6           Australia and New Zealand      31 (0.39%)      34 (0.40%)   \n",
       "7                             Oceania      14 (0.18%)      15 (0.18%)   \n",
       "8                               World           7,942           8,512   \n",
       "\n",
       "   2050 (percent)  \n",
       "0  2,094 (21.62%)  \n",
       "1     771 (7.96%)  \n",
       "2  2,575 (26.58%)  \n",
       "3  2,317 (23.92%)  \n",
       "4  1,125 (11.61%)  \n",
       "5     749 (7.73%)  \n",
       "6      38 (0.39%)  \n",
       "7      20 (0.21%)  \n",
       "8           9,687  "
      ]
     },
     "execution_count": 39,
     "metadata": {},
     "output_type": "execute_result"
    }
   ],
   "source": [
    "df2 = pd.DataFrame(rows1, columns=headers1)\n",
    "df2"
   ]
  },
  {
   "cell_type": "code",
   "execution_count": 47,
   "id": "02461de4",
   "metadata": {},
   "outputs": [],
   "source": [
    "headers2, rows2 = get_table_values(table_tags[2])"
   ]
  },
  {
   "cell_type": "code",
   "execution_count": 49,
   "id": "24036330",
   "metadata": {},
   "outputs": [
    {
     "data": {
      "text/html": [
       "<div>\n",
       "<style scoped>\n",
       "    .dataframe tbody tr th:only-of-type {\n",
       "        vertical-align: middle;\n",
       "    }\n",
       "\n",
       "    .dataframe tbody tr th {\n",
       "        vertical-align: top;\n",
       "    }\n",
       "\n",
       "    .dataframe thead th {\n",
       "        text-align: right;\n",
       "    }\n",
       "</style>\n",
       "<table border=\"1\" class=\"dataframe\">\n",
       "  <thead>\n",
       "    <tr style=\"text-align: right;\">\n",
       "      <th></th>\n",
       "      <th>Region</th>\n",
       "      <th>Density(inhabitants/km2)</th>\n",
       "      <th>Population(millions)</th>\n",
       "      <th>Most populous country</th>\n",
       "      <th>Most populous city (metropolitan area)</th>\n",
       "    </tr>\n",
       "  </thead>\n",
       "  <tbody>\n",
       "    <tr>\n",
       "      <th>0</th>\n",
       "      <td>Asia</td>\n",
       "      <td>104.1</td>\n",
       "      <td>4,641</td>\n",
       "      <td>1,439,090,595 –  India</td>\n",
       "      <td>13,515,000 –  Tokyo Metropolis(37,400,000 –  G...</td>\n",
       "    </tr>\n",
       "    <tr>\n",
       "      <th>1</th>\n",
       "      <td>Africa</td>\n",
       "      <td>44.4</td>\n",
       "      <td>1,340</td>\n",
       "      <td>0,211,401,000 –  Nigeria</td>\n",
       "      <td>09,500,000 –  Cairo(20,076,000 –  Greater Cairo)</td>\n",
       "    </tr>\n",
       "    <tr>\n",
       "      <th>2</th>\n",
       "      <td>Europe</td>\n",
       "      <td>73.4</td>\n",
       "      <td>747</td>\n",
       "      <td>0,146,171,000 –  Russia, approx. 110 million i...</td>\n",
       "      <td>13,200,000 –  Moscow(20,004,000 –  Moscow metr...</td>\n",
       "    </tr>\n",
       "    <tr>\n",
       "      <th>3</th>\n",
       "      <td>Latin America</td>\n",
       "      <td>24.1</td>\n",
       "      <td>653</td>\n",
       "      <td>0,214,103,000 –  Brazil</td>\n",
       "      <td>12,252,000 –  São Paulo City(21,650,000 –  São...</td>\n",
       "    </tr>\n",
       "    <tr>\n",
       "      <th>4</th>\n",
       "      <td>Northern America[note 1]</td>\n",
       "      <td>14.9</td>\n",
       "      <td>368</td>\n",
       "      <td>0,332,909,000 –  United States</td>\n",
       "      <td>08,804,000 –  New York City(23,582,649 –  New ...</td>\n",
       "    </tr>\n",
       "    <tr>\n",
       "      <th>5</th>\n",
       "      <td>Oceania</td>\n",
       "      <td>5</td>\n",
       "      <td>42</td>\n",
       "      <td>0,025,917,000 –  Australia</td>\n",
       "      <td>05,367,000 –  Sydney</td>\n",
       "    </tr>\n",
       "    <tr>\n",
       "      <th>6</th>\n",
       "      <td>Antarctica</td>\n",
       "      <td>~0</td>\n",
       "      <td>0.004[88]</td>\n",
       "      <td>N/A[note 2]</td>\n",
       "      <td>00,001,258 –  McMurdo Station</td>\n",
       "    </tr>\n",
       "  </tbody>\n",
       "</table>\n",
       "</div>"
      ],
      "text/plain": [
       "                     Region Density(inhabitants/km2) Population(millions)  \\\n",
       "0                      Asia                    104.1                4,641   \n",
       "1                    Africa                     44.4                1,340   \n",
       "2                    Europe                     73.4                  747   \n",
       "3             Latin America                     24.1                  653   \n",
       "4  Northern America[note 1]                     14.9                  368   \n",
       "5                   Oceania                        5                   42   \n",
       "6                Antarctica                       ~0            0.004[88]   \n",
       "\n",
       "                               Most populous country  \\\n",
       "0                             1,439,090,595 –  India   \n",
       "1                           0,211,401,000 –  Nigeria   \n",
       "2  0,146,171,000 –  Russia, approx. 110 million i...   \n",
       "3                            0,214,103,000 –  Brazil   \n",
       "4                     0,332,909,000 –  United States   \n",
       "5                         0,025,917,000 –  Australia   \n",
       "6                                        N/A[note 2]   \n",
       "\n",
       "              Most populous city (metropolitan area)  \n",
       "0  13,515,000 –  Tokyo Metropolis(37,400,000 –  G...  \n",
       "1   09,500,000 –  Cairo(20,076,000 –  Greater Cairo)  \n",
       "2  13,200,000 –  Moscow(20,004,000 –  Moscow metr...  \n",
       "3  12,252,000 –  São Paulo City(21,650,000 –  São...  \n",
       "4  08,804,000 –  New York City(23,582,649 –  New ...  \n",
       "5                               05,367,000 –  Sydney  \n",
       "6                      00,001,258 –  McMurdo Station  "
      ]
     },
     "execution_count": 49,
     "metadata": {},
     "output_type": "execute_result"
    }
   ],
   "source": [
    "df3 = pd.DataFrame(rows2, columns=headers2)\n",
    "df3"
   ]
  },
  {
   "cell_type": "code",
   "execution_count": 50,
   "id": "169ba6e3",
   "metadata": {},
   "outputs": [],
   "source": [
    "headers3, rows3 = get_table_values(table_tags[3])"
   ]
  },
  {
   "cell_type": "code",
   "execution_count": 51,
   "id": "6a41905f",
   "metadata": {},
   "outputs": [
    {
     "data": {
      "text/html": [
       "<div>\n",
       "<style scoped>\n",
       "    .dataframe tbody tr th:only-of-type {\n",
       "        vertical-align: middle;\n",
       "    }\n",
       "\n",
       "    .dataframe tbody tr th {\n",
       "        vertical-align: top;\n",
       "    }\n",
       "\n",
       "    .dataframe thead th {\n",
       "        text-align: right;\n",
       "    }\n",
       "</style>\n",
       "<table border=\"1\" class=\"dataframe\">\n",
       "  <thead>\n",
       "    <tr style=\"text-align: right;\">\n",
       "      <th></th>\n",
       "      <th>Country / Dependency</th>\n",
       "      <th>Population</th>\n",
       "      <th>% ofworld</th>\n",
       "      <th>Date</th>\n",
       "      <th>Source (official or fromthe United Nations)</th>\n",
       "    </tr>\n",
       "  </thead>\n",
       "  <tbody>\n",
       "    <tr>\n",
       "      <th>0</th>\n",
       "      <td>India</td>\n",
       "      <td>1,425,775,850</td>\n",
       "      <td>17.6%</td>\n",
       "      <td>14 Apr 2023</td>\n",
       "      <td>UN projection[91]</td>\n",
       "    </tr>\n",
       "    <tr>\n",
       "      <th>1</th>\n",
       "      <td>China</td>\n",
       "      <td>1,412,600,000</td>\n",
       "      <td>17.4%</td>\n",
       "      <td>31 Dec 2021</td>\n",
       "      <td>National annual estimate[92]</td>\n",
       "    </tr>\n",
       "    <tr>\n",
       "      <th>2</th>\n",
       "      <td>United States</td>\n",
       "      <td>336,451,558</td>\n",
       "      <td>4.15%</td>\n",
       "      <td>18 May 2024</td>\n",
       "      <td>National population clock[93]</td>\n",
       "    </tr>\n",
       "    <tr>\n",
       "      <th>3</th>\n",
       "      <td>Indonesia</td>\n",
       "      <td>278,696,200</td>\n",
       "      <td>3.44%</td>\n",
       "      <td>1 Jul 2023</td>\n",
       "      <td>National annual estimate[94]</td>\n",
       "    </tr>\n",
       "    <tr>\n",
       "      <th>4</th>\n",
       "      <td>Pakistan</td>\n",
       "      <td>229,488,994</td>\n",
       "      <td>2.83%</td>\n",
       "      <td>1 Jul 2022</td>\n",
       "      <td>UN projection[95]</td>\n",
       "    </tr>\n",
       "    <tr>\n",
       "      <th>5</th>\n",
       "      <td>Nigeria</td>\n",
       "      <td>216,746,934</td>\n",
       "      <td>2.67%</td>\n",
       "      <td>1 Jul 2022</td>\n",
       "      <td>UN projection[95]</td>\n",
       "    </tr>\n",
       "    <tr>\n",
       "      <th>6</th>\n",
       "      <td>Brazil</td>\n",
       "      <td>217,671,867</td>\n",
       "      <td>2.68%</td>\n",
       "      <td>18 May 2024</td>\n",
       "      <td>National population clock[96]</td>\n",
       "    </tr>\n",
       "    <tr>\n",
       "      <th>7</th>\n",
       "      <td>Bangladesh</td>\n",
       "      <td>168,220,000</td>\n",
       "      <td>2.07%</td>\n",
       "      <td>1 Jul 2020</td>\n",
       "      <td>Annual Population Estimate[97]</td>\n",
       "    </tr>\n",
       "    <tr>\n",
       "      <th>8</th>\n",
       "      <td>Russia</td>\n",
       "      <td>147,190,000</td>\n",
       "      <td>1.82%</td>\n",
       "      <td>1 Oct 2021</td>\n",
       "      <td>2021 preliminary census results[98]</td>\n",
       "    </tr>\n",
       "    <tr>\n",
       "      <th>9</th>\n",
       "      <td>Mexico</td>\n",
       "      <td>128,271,248</td>\n",
       "      <td>1.58%</td>\n",
       "      <td>31 Mar 2022</td>\n",
       "      <td></td>\n",
       "    </tr>\n",
       "  </tbody>\n",
       "</table>\n",
       "</div>"
      ],
      "text/plain": [
       "  Country / Dependency     Population % ofworld         Date  \\\n",
       "0                India  1,425,775,850     17.6%  14 Apr 2023   \n",
       "1                China  1,412,600,000     17.4%  31 Dec 2021   \n",
       "2        United States    336,451,558     4.15%  18 May 2024   \n",
       "3            Indonesia    278,696,200     3.44%   1 Jul 2023   \n",
       "4             Pakistan    229,488,994     2.83%   1 Jul 2022   \n",
       "5              Nigeria    216,746,934     2.67%   1 Jul 2022   \n",
       "6               Brazil    217,671,867     2.68%  18 May 2024   \n",
       "7           Bangladesh    168,220,000     2.07%   1 Jul 2020   \n",
       "8               Russia    147,190,000     1.82%   1 Oct 2021   \n",
       "9               Mexico    128,271,248     1.58%  31 Mar 2022   \n",
       "\n",
       "  Source (official or fromthe United Nations)  \n",
       "0                           UN projection[91]  \n",
       "1                National annual estimate[92]  \n",
       "2               National population clock[93]  \n",
       "3                National annual estimate[94]  \n",
       "4                           UN projection[95]  \n",
       "5                           UN projection[95]  \n",
       "6               National population clock[96]  \n",
       "7              Annual Population Estimate[97]  \n",
       "8         2021 preliminary census results[98]  \n",
       "9                                              "
      ]
     },
     "execution_count": 51,
     "metadata": {},
     "output_type": "execute_result"
    }
   ],
   "source": [
    "df4 = pd.DataFrame(rows3, columns=headers3)\n",
    "df4"
   ]
  },
  {
   "cell_type": "code",
   "execution_count": 62,
   "id": "11eeaa55",
   "metadata": {},
   "outputs": [],
   "source": [
    "headers5, rows5 = get_table_values(table_tags[5])"
   ]
  },
  {
   "cell_type": "code",
   "execution_count": 63,
   "id": "00ad394b",
   "metadata": {},
   "outputs": [
    {
     "data": {
      "text/html": [
       "<div>\n",
       "<style scoped>\n",
       "    .dataframe tbody tr th:only-of-type {\n",
       "        vertical-align: middle;\n",
       "    }\n",
       "\n",
       "    .dataframe tbody tr th {\n",
       "        vertical-align: top;\n",
       "    }\n",
       "\n",
       "    .dataframe thead th {\n",
       "        text-align: right;\n",
       "    }\n",
       "</style>\n",
       "<table border=\"1\" class=\"dataframe\">\n",
       "  <thead>\n",
       "    <tr style=\"text-align: right;\">\n",
       "      <th></th>\n",
       "      <th>Rank</th>\n",
       "      <th>Country</th>\n",
       "      <th>Population</th>\n",
       "      <th>Area(km2)</th>\n",
       "      <th>Density(pop/km2)</th>\n",
       "    </tr>\n",
       "  </thead>\n",
       "  <tbody>\n",
       "    <tr>\n",
       "      <th>0</th>\n",
       "      <td>1</td>\n",
       "      <td>Singapore</td>\n",
       "      <td>5,921,231</td>\n",
       "      <td>719</td>\n",
       "      <td>8,235</td>\n",
       "    </tr>\n",
       "    <tr>\n",
       "      <th>1</th>\n",
       "      <td>2</td>\n",
       "      <td>Bangladesh</td>\n",
       "      <td>165,650,475</td>\n",
       "      <td>148,460</td>\n",
       "      <td>1,116</td>\n",
       "    </tr>\n",
       "    <tr>\n",
       "      <th>2</th>\n",
       "      <td>3</td>\n",
       "      <td>Palestine[note 3][102]</td>\n",
       "      <td>5,223,000</td>\n",
       "      <td>6,025</td>\n",
       "      <td>867</td>\n",
       "    </tr>\n",
       "    <tr>\n",
       "      <th>3</th>\n",
       "      <td>4</td>\n",
       "      <td>Taiwan[note 4]</td>\n",
       "      <td>23,580,712</td>\n",
       "      <td>35,980</td>\n",
       "      <td>655</td>\n",
       "    </tr>\n",
       "    <tr>\n",
       "      <th>4</th>\n",
       "      <td>5</td>\n",
       "      <td>South Korea</td>\n",
       "      <td>51,844,834</td>\n",
       "      <td>99,720</td>\n",
       "      <td>520</td>\n",
       "    </tr>\n",
       "    <tr>\n",
       "      <th>5</th>\n",
       "      <td>6</td>\n",
       "      <td>Lebanon</td>\n",
       "      <td>5,296,814</td>\n",
       "      <td>10,400</td>\n",
       "      <td>509</td>\n",
       "    </tr>\n",
       "    <tr>\n",
       "      <th>6</th>\n",
       "      <td>7</td>\n",
       "      <td>Rwanda</td>\n",
       "      <td>13,173,730</td>\n",
       "      <td>26,338</td>\n",
       "      <td>500</td>\n",
       "    </tr>\n",
       "    <tr>\n",
       "      <th>7</th>\n",
       "      <td>8</td>\n",
       "      <td>Burundi</td>\n",
       "      <td>12,696,478</td>\n",
       "      <td>27,830</td>\n",
       "      <td>456</td>\n",
       "    </tr>\n",
       "    <tr>\n",
       "      <th>8</th>\n",
       "      <td>9</td>\n",
       "      <td>India</td>\n",
       "      <td>1,389,637,446</td>\n",
       "      <td>3,287,263</td>\n",
       "      <td>423</td>\n",
       "    </tr>\n",
       "    <tr>\n",
       "      <th>9</th>\n",
       "      <td>10</td>\n",
       "      <td>Netherlands</td>\n",
       "      <td>17,400,824</td>\n",
       "      <td>41,543</td>\n",
       "      <td>419</td>\n",
       "    </tr>\n",
       "  </tbody>\n",
       "</table>\n",
       "</div>"
      ],
      "text/plain": [
       "  Rank                 Country     Population  Area(km2) Density(pop/km2)\n",
       "0    1               Singapore      5,921,231        719            8,235\n",
       "1    2              Bangladesh    165,650,475    148,460            1,116\n",
       "2    3  Palestine[note 3][102]      5,223,000      6,025              867\n",
       "3    4          Taiwan[note 4]     23,580,712     35,980              655\n",
       "4    5             South Korea     51,844,834     99,720              520\n",
       "5    6                 Lebanon      5,296,814     10,400              509\n",
       "6    7                  Rwanda     13,173,730     26,338              500\n",
       "7    8                 Burundi     12,696,478     27,830              456\n",
       "8    9                   India  1,389,637,446  3,287,263              423\n",
       "9   10             Netherlands     17,400,824     41,543              419"
      ]
     },
     "execution_count": 63,
     "metadata": {},
     "output_type": "execute_result"
    }
   ],
   "source": [
    "df6 = pd.DataFrame(rows5, columns=headers5)\n",
    "df6"
   ]
  },
  {
   "cell_type": "code",
   "execution_count": 64,
   "id": "ef05cc31",
   "metadata": {},
   "outputs": [],
   "source": [
    "headers6, rows6 = get_table_values(table_tags[6])"
   ]
  },
  {
   "cell_type": "code",
   "execution_count": 65,
   "id": "626b3ca8",
   "metadata": {
    "scrolled": true
   },
   "outputs": [
    {
     "data": {
      "text/html": [
       "<div>\n",
       "<style scoped>\n",
       "    .dataframe tbody tr th:only-of-type {\n",
       "        vertical-align: middle;\n",
       "    }\n",
       "\n",
       "    .dataframe tbody tr th {\n",
       "        vertical-align: top;\n",
       "    }\n",
       "\n",
       "    .dataframe thead th {\n",
       "        text-align: right;\n",
       "    }\n",
       "</style>\n",
       "<table border=\"1\" class=\"dataframe\">\n",
       "  <thead>\n",
       "    <tr style=\"text-align: right;\">\n",
       "      <th></th>\n",
       "      <th>Rank</th>\n",
       "      <th>Country</th>\n",
       "      <th>Population</th>\n",
       "      <th>Area(km2)</th>\n",
       "      <th>Density(pop/km2)</th>\n",
       "      <th>Population  trend[citation needed]</th>\n",
       "    </tr>\n",
       "  </thead>\n",
       "  <tbody>\n",
       "    <tr>\n",
       "      <th>0</th>\n",
       "      <td>1</td>\n",
       "      <td>India</td>\n",
       "      <td>1,389,637,446</td>\n",
       "      <td>3,287,263</td>\n",
       "      <td>423</td>\n",
       "      <td>Growing</td>\n",
       "    </tr>\n",
       "    <tr>\n",
       "      <th>1</th>\n",
       "      <td>2</td>\n",
       "      <td>Pakistan</td>\n",
       "      <td>242,923,845</td>\n",
       "      <td>796,095</td>\n",
       "      <td>305</td>\n",
       "      <td>Rapidly growing</td>\n",
       "    </tr>\n",
       "    <tr>\n",
       "      <th>2</th>\n",
       "      <td>3</td>\n",
       "      <td>Bangladesh</td>\n",
       "      <td>165,650,475</td>\n",
       "      <td>148,460</td>\n",
       "      <td>1,116</td>\n",
       "      <td>Growing</td>\n",
       "    </tr>\n",
       "    <tr>\n",
       "      <th>3</th>\n",
       "      <td>4</td>\n",
       "      <td>Japan</td>\n",
       "      <td>124,214,766</td>\n",
       "      <td>377,915</td>\n",
       "      <td>329</td>\n",
       "      <td>Declining[103]</td>\n",
       "    </tr>\n",
       "    <tr>\n",
       "      <th>4</th>\n",
       "      <td>5</td>\n",
       "      <td>Philippines</td>\n",
       "      <td>114,597,229</td>\n",
       "      <td>300,000</td>\n",
       "      <td>382</td>\n",
       "      <td>Growing</td>\n",
       "    </tr>\n",
       "    <tr>\n",
       "      <th>5</th>\n",
       "      <td>6</td>\n",
       "      <td>Vietnam</td>\n",
       "      <td>103,808,319</td>\n",
       "      <td>331,210</td>\n",
       "      <td>313</td>\n",
       "      <td>Growing</td>\n",
       "    </tr>\n",
       "    <tr>\n",
       "      <th>6</th>\n",
       "      <td>7</td>\n",
       "      <td>United Kingdom</td>\n",
       "      <td>67,791,400</td>\n",
       "      <td>243,610</td>\n",
       "      <td>278</td>\n",
       "      <td>Growing</td>\n",
       "    </tr>\n",
       "    <tr>\n",
       "      <th>7</th>\n",
       "      <td>8</td>\n",
       "      <td>South Korea</td>\n",
       "      <td>51,844,834</td>\n",
       "      <td>99,720</td>\n",
       "      <td>520</td>\n",
       "      <td>Steady</td>\n",
       "    </tr>\n",
       "    <tr>\n",
       "      <th>8</th>\n",
       "      <td>9</td>\n",
       "      <td>Taiwan</td>\n",
       "      <td>23,580,712</td>\n",
       "      <td>35,980</td>\n",
       "      <td>655</td>\n",
       "      <td>Steady</td>\n",
       "    </tr>\n",
       "    <tr>\n",
       "      <th>9</th>\n",
       "      <td>10</td>\n",
       "      <td>Sri Lanka</td>\n",
       "      <td>23,187,516</td>\n",
       "      <td>65,610</td>\n",
       "      <td>353</td>\n",
       "      <td>Growing</td>\n",
       "    </tr>\n",
       "  </tbody>\n",
       "</table>\n",
       "</div>"
      ],
      "text/plain": [
       "  Rank         Country     Population  Area(km2) Density(pop/km2)  \\\n",
       "0    1           India  1,389,637,446  3,287,263              423   \n",
       "1    2        Pakistan    242,923,845    796,095              305   \n",
       "2    3      Bangladesh    165,650,475    148,460            1,116   \n",
       "3    4           Japan    124,214,766    377,915              329   \n",
       "4    5     Philippines    114,597,229    300,000              382   \n",
       "5    6         Vietnam    103,808,319    331,210              313   \n",
       "6    7  United Kingdom     67,791,400    243,610              278   \n",
       "7    8     South Korea     51,844,834     99,720              520   \n",
       "8    9          Taiwan     23,580,712     35,980              655   \n",
       "9   10       Sri Lanka     23,187,516     65,610              353   \n",
       "\n",
       "  Population  trend[citation needed]  \n",
       "0                            Growing  \n",
       "1                    Rapidly growing  \n",
       "2                            Growing  \n",
       "3                     Declining[103]  \n",
       "4                            Growing  \n",
       "5                            Growing  \n",
       "6                            Growing  \n",
       "7                             Steady  \n",
       "8                             Steady  \n",
       "9                            Growing  "
      ]
     },
     "execution_count": 65,
     "metadata": {},
     "output_type": "execute_result"
    }
   ],
   "source": [
    "df7 = pd.DataFrame(rows6, columns=headers6)\n",
    "df7"
   ]
  },
  {
   "cell_type": "code",
   "execution_count": 73,
   "id": "b5318f54",
   "metadata": {},
   "outputs": [],
   "source": [
    "df2.to_csv('table2.csv')\n",
    "df3.to_csv('table3.csv')\n",
    "df4.to_csv('table4.csv')\n",
    "df6.to_csv('table6.csv')\n",
    "df7.to_csv('table7.csv')"
   ]
  },
  {
   "cell_type": "code",
   "execution_count": null,
   "id": "1f1545ba",
   "metadata": {},
   "outputs": [],
   "source": []
  }
 ],
 "metadata": {
  "kernelspec": {
   "display_name": "Python 3 (ipykernel)",
   "language": "python",
   "name": "python3"
  },
  "language_info": {
   "codemirror_mode": {
    "name": "ipython",
    "version": 3
   },
   "file_extension": ".py",
   "mimetype": "text/x-python",
   "name": "python",
   "nbconvert_exporter": "python",
   "pygments_lexer": "ipython3",
   "version": "3.11.5"
  }
 },
 "nbformat": 4,
 "nbformat_minor": 5
}
